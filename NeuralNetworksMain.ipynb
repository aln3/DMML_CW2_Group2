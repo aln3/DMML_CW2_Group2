{
 "cells": [
  {
   "cell_type": "markdown",
   "metadata": {},
   "source": [
    "## Imports"
   ]
  },
  {
   "cell_type": "code",
   "execution_count": 1,
   "metadata": {},
   "outputs": [
    {
     "name": "stderr",
     "output_type": "stream",
     "text": [
      "Using TensorFlow backend.\n"
     ]
    }
   ],
   "source": [
    "import cv2\n",
    "import random\n",
    "import numpy as np\n",
    "import matplotlib.pyplot as plt\n",
    "import pandas as pd\n",
    "import seaborn as sns\n",
    "import time\n",
    "\n",
    "\n",
    "from numpy import genfromtxt\n",
    "from sklearn.metrics import accuracy_score\n",
    "from sklearn.metrics import confusion_matrix, classification_report\n",
    "from mpl_toolkits.mplot3d import Axes3D\n",
    "\n",
    "\n",
    "from sklearn.linear_model import LogisticRegression\n",
    "#----------------------------------------------Neural Net Imports\n",
    "from keras.datasets import mnist\n",
    "from keras.preprocessing.image import load_img, array_to_img\n",
    "from keras.utils.np_utils import to_categorical\n",
    "\n",
    "# Linear stack of NN layers\n",
    "from keras.models import Sequential\n",
    "\n",
    "# Ensure Fully connected layer \n",
    "from keras.layers import Dense\n",
    "#----------------------------------------------------------------\n",
    "\n",
    "import numpy as np\n",
    "import matplotlib.pyplot as plt\n",
    "%matplotlib inline\n",
    "\n",
    "\n",
    "\n",
    "num_pixels = 28\n",
    "%matplotlib inline"
   ]
  },
  {
   "cell_type": "code",
   "execution_count": 2,
   "metadata": {},
   "outputs": [],
   "source": [
    "# Importing training  data from CSV files\n",
    "x_train = genfromtxt('Data/Training/x_train_gr_smpl.csv', delimiter=',', skip_header =1)\n",
    "y_train = genfromtxt('Data/Training/y_train_smpl.csv', delimiter=',', skip_header =1 )"
   ]
  },
  {
   "cell_type": "code",
   "execution_count": 3,
   "metadata": {},
   "outputs": [],
   "source": [
    "# Importing testing data from CSV files\n",
    "x_test = genfromtxt('Data/Testing/x_test_gr_smpl.csv', delimiter=',', skip_header =1)\n",
    "y_test = genfromtxt('Data/Testing/y_test_smpl.csv', delimiter=',', skip_header =1 )"
   ]
  },
  {
   "cell_type": "code",
   "execution_count": 4,
   "metadata": {},
   "outputs": [
    {
     "name": "stdout",
     "output_type": "stream",
     "text": [
      "(12660, 2304)\n",
      "(12660,)\n",
      "(4170, 2304)\n",
      "(4170,)\n"
     ]
    }
   ],
   "source": [
    "# Check data has been imported correctly \n",
    "print(x_train.shape)\n",
    "print(y_train.shape)\n",
    "print(x_test.shape)\n",
    "print(y_test.shape)"
   ]
  },
  {
   "cell_type": "markdown",
   "metadata": {},
   "source": [
    "## Preprocessing"
   ]
  },
  {
   "cell_type": "code",
   "execution_count": 5,
   "metadata": {},
   "outputs": [],
   "source": [
    "# Combinging data with labels\n",
    "\n",
    "y_train = y_train.reshape(12660,1)\n",
    "train_data_combined = np.append(x_train, y_train, axis=1)\n",
    "\n",
    "y_test = y_test.reshape(4170,1)\n",
    "test_data_combined = np.append(x_test, y_test, axis=1)\n"
   ]
  },
  {
   "cell_type": "code",
   "execution_count": 6,
   "metadata": {},
   "outputs": [],
   "source": [
    "# Randomises row order in a reproducable way \n",
    "np.random.seed(0)\n",
    "np.random.shuffle(train_data_combined)\n",
    "np.random.shuffle(test_data_combined)plt.plot(test.history['accuracy'])\n",
    "plt.plot(test.history['val_accuracy'])"
   ]
  },
  {
   "cell_type": "code",
   "execution_count": 7,
   "metadata": {},
   "outputs": [],
   "source": [
    "# Split data and lables that have undergone the same randomization process\n",
    "x_train = train_data_combined[:,:-1]\n",
    "y_train = train_data_combined[:, [-1]].reshape(12660,)\n",
    "\n",
    "x_test = test_data_combined[:,:-1]\n",
    "y_test = test_data_combined[:, [-1]].reshape(4170,)"
   ]
  },
  {
   "cell_type": "code",
   "execution_count": 8,
   "metadata": {},
   "outputs": [],
   "source": [
    "# Normalisation of pixels\n",
    "x_train = x_train.astype('float')/255\n",
    "x_test  = x_test.astype('float')/255"
   ]
  },
  {
   "cell_type": "code",
   "execution_count": 9,
   "metadata": {},
   "outputs": [],
   "source": [
    "#  Reducing the number of attributes using opencv's reduce functionality as shown in the second python Lecture\n",
    "#  As seen in python lectures: https://vision.hw.ac.uk/webapps/blackboard/content/listContent.jsp?course_id=_94419_1&content_id=_3391865_1\n",
    "\n",
    "x_train = np.apply_along_axis(\n",
    "        func1d=lambda img: cv2.resize(img.reshape((48,48)), (num_pixels,num_pixels)),\n",
    "        axis =1, arr = x_train).reshape((-1,num_pixels*num_pixels))\n",
    "\n",
    "x_test  = np.apply_along_axis(\n",
    "        func1d=lambda img: cv2.resize(img.reshape((48,48)), (num_pixels,num_pixels)),\n",
    "        axis =1, arr = x_test).reshape((-1,num_pixels*num_pixels))"
   ]
  },
  {
   "cell_type": "code",
   "execution_count": 10,
   "metadata": {},
   "outputs": [
    {
     "data": {
      "text/plain": [
       "(12660, 784)"
      ]
     },
     "execution_count": 10,
     "metadata": {},
     "output_type": "execute_result"
    }
   ],
   "source": [
    "x_train.shape"
   ]
  },
  {
   "cell_type": "code",
   "execution_count": 11,
   "metadata": {},
   "outputs": [
    {
     "name": "stdout",
     "output_type": "stream",
     "text": [
      "(12660, 10)\n",
      "(4170, 10)\n"
     ]
    }
   ],
   "source": [
    "# Creating 10 bins for output\n",
    "y_train = to_categorical(y_train,10)\n",
    "y_test = to_categorical(y_test,10)\n",
    "\n",
    "print(y_train.shape) \n",
    "print(y_test.shape)"
   ]
  },
  {
   "cell_type": "markdown",
   "metadata": {},
   "source": [
    "## Linear Classifier - Logistic Regression"
   ]
  },
  {
   "cell_type": "code",
   "execution_count": 12,
   "metadata": {},
   "outputs": [],
   "source": [
    "#lr = LogisticRegression(random_state=0, solver='newton-cg', multi_class='multinomial').fit(x_train, y_train)"
   ]
  },
  {
   "cell_type": "code",
   "execution_count": 13,
   "metadata": {},
   "outputs": [],
   "source": [
    "#lr.predict(x_test)"
   ]
  },
  {
   "cell_type": "markdown",
   "metadata": {},
   "source": [
    "## Buiding MLP Architecture"
   ]
  },
  {
   "cell_type": "code",
   "execution_count": 14,
   "metadata": {},
   "outputs": [],
   "source": [
    "# Specifying Sequential Model\n",
    "model = Sequential()"
   ]
  },
  {
   "cell_type": "code",
   "execution_count": 15,
   "metadata": {},
   "outputs": [],
   "source": [
    "# Dense Adds fully connected nodes in each layer \n",
    "\n",
    "# Input layer is the number of pixels & their values \n",
    "\n",
    "# Layer 1\n",
    "model.add(Dense(512, activation = 'relu',input_shape=(784,)))\n",
    "\n",
    "# Layer 2\n",
    "model.add(Dense(512, activation = 'relu'))\n",
    "\n",
    "#Output Layer\n",
    "model.add(Dense(10, activation = 'softmax'))\n"
   ]
  },
  {
   "cell_type": "markdown",
   "metadata": {},
   "source": [
    "## Compiling the model"
   ]
  },
  {
   "cell_type": "code",
   "execution_count": 16,
   "metadata": {},
   "outputs": [],
   "source": [
    "model.compile(optimizer='adam', loss='categorical_crossentropy', metrics = ['accuracy'])"
   ]
  },
  {
   "cell_type": "code",
   "execution_count": 17,
   "metadata": {},
   "outputs": [
    {
     "name": "stdout",
     "output_type": "stream",
     "text": [
      "Model: \"sequential_1\"\n",
      "_________________________________________________________________\n",
      "Layer (type)                 Output Shape              Param #   \n",
      "=================================================================\n",
      "dense_1 (Dense)              (None, 512)               401920    \n",
      "_________________________________________________________________\n",
      "dense_2 (Dense)              (None, 512)               262656    \n",
      "_________________________________________________________________\n",
      "dense_3 (Dense)              (None, 10)                5130      \n",
      "=================================================================\n",
      "Total params: 669,706\n",
      "Trainable params: 669,706\n",
      "Non-trainable params: 0\n",
      "_________________________________________________________________\n"
     ]
    }
   ],
   "source": [
    "model.summary()"
   ]
  },
  {
   "cell_type": "code",
   "execution_count": null,
   "metadata": {},
   "outputs": [],
   "source": []
  },
  {
   "cell_type": "markdown",
   "metadata": {},
   "source": [
    "## Training the Model"
   ]
  },
  {
   "cell_type": "code",
   "execution_count": 18,
   "metadata": {},
   "outputs": [
    {
     "name": "stdout",
     "output_type": "stream",
     "text": [
      "Train on 12660 samples, validate on 4170 samples\n",
      "Epoch 1/20\n",
      "12660/12660 [==============================] - 4s 278us/step - loss: 0.8521 - accuracy: 0.7288 - val_loss: 0.6789 - val_accuracy: 0.7763\n",
      "Epoch 2/20\n",
      "12660/12660 [==============================] - 3s 271us/step - loss: 0.3809 - accuracy: 0.8731 - val_loss: 0.4240 - val_accuracy: 0.8753\n",
      "Epoch 3/20\n",
      "12660/12660 [==============================] - 3s 270us/step - loss: 0.2760 - accuracy: 0.9067 - val_loss: 0.4905 - val_accuracy: 0.8626\n",
      "Epoch 4/20\n",
      "12660/12660 [==============================] - 3s 267us/step - loss: 0.2160 - accuracy: 0.9295 - val_loss: 0.5105 - val_accuracy: 0.8727\n",
      "Epoch 5/20\n",
      "12660/12660 [==============================] - 3s 271us/step - loss: 0.2145 - accuracy: 0.9321 - val_loss: 0.4167 - val_accuracy: 0.8933\n",
      "Epoch 6/20\n",
      "12660/12660 [==============================] - 3s 268us/step - loss: 0.1665 - accuracy: 0.9461 - val_loss: 0.4508 - val_accuracy: 0.8647\n",
      "Epoch 7/20\n",
      "12660/12660 [==============================] - 3s 268us/step - loss: 0.1557 - accuracy: 0.9500 - val_loss: 0.3336 - val_accuracy: 0.9163\n",
      "Epoch 8/20\n",
      "12660/12660 [==============================] - 3s 274us/step - loss: 0.1367 - accuracy: 0.9557 - val_loss: 0.4709 - val_accuracy: 0.8930\n",
      "Epoch 9/20\n",
      "12660/12660 [==============================] - 3s 267us/step - loss: 0.1194 - accuracy: 0.9621 - val_loss: 0.4085 - val_accuracy: 0.9062\n",
      "Epoch 10/20\n",
      "12660/12660 [==============================] - 3s 269us/step - loss: 0.1074 - accuracy: 0.9656 - val_loss: 0.6381 - val_accuracy: 0.8597\n",
      "Epoch 11/20\n",
      "12660/12660 [==============================] - 3s 267us/step - loss: 0.1123 - accuracy: 0.9639 - val_loss: 0.5543 - val_accuracy: 0.8741\n",
      "Epoch 12/20\n",
      "12660/12660 [==============================] - 3s 268us/step - loss: 0.0849 - accuracy: 0.9718 - val_loss: 0.4143 - val_accuracy: 0.9036\n",
      "Epoch 13/20\n",
      "12660/12660 [==============================] - 3s 270us/step - loss: 0.1011 - accuracy: 0.9664 - val_loss: 0.3660 - val_accuracy: 0.9221\n",
      "Epoch 14/20\n",
      "12660/12660 [==============================] - 3s 270us/step - loss: 0.0871 - accuracy: 0.9708 - val_loss: 0.4315 - val_accuracy: 0.9024\n",
      "Epoch 15/20\n",
      "12660/12660 [==============================] - 3s 270us/step - loss: 0.0740 - accuracy: 0.9736 - val_loss: 0.4358 - val_accuracy: 0.9065\n",
      "Epoch 16/20\n",
      "12660/12660 [==============================] - 3s 267us/step - loss: 0.0776 - accuracy: 0.9749 - val_loss: 0.3870 - val_accuracy: 0.9211\n",
      "Epoch 17/20\n",
      "12660/12660 [==============================] - 3s 269us/step - loss: 0.0830 - accuracy: 0.9736 - val_loss: 0.4581 - val_accuracy: 0.9019\n",
      "Epoch 18/20\n",
      "12660/12660 [==============================] - 3s 269us/step - loss: 0.0515 - accuracy: 0.9818 - val_loss: 0.5324 - val_accuracy: 0.9098\n",
      "Epoch 19/20\n",
      "12660/12660 [==============================] - 3s 273us/step - loss: 0.0674 - accuracy: 0.9775 - val_loss: 0.5164 - val_accuracy: 0.8923\n",
      "Epoch 20/20\n",
      "12660/12660 [==============================] - 3s 269us/step - loss: 0.0867 - accuracy: 0.9718 - val_loss: 0.3936 - val_accuracy: 0.9273\n"
     ]
    }
   ],
   "source": [
    "trained_network_output = model.fit(x_train,y_train, epochs = 20, validation_data = (x_test, y_test))"
   ]
  },
  {
   "cell_type": "markdown",
   "metadata": {},
   "source": [
    "# Evaluation"
   ]
  },
  {
   "cell_type": "markdown",
   "metadata": {},
   "source": [
    "### Accuracy of training model"
   ]
  },
  {
   "cell_type": "code",
   "execution_count": 19,
   "metadata": {},
   "outputs": [
    {
     "data": {
      "text/plain": [
       "[<matplotlib.lines.Line2D at 0x7f4d585aba10>]"
      ]
     },
     "execution_count": 19,
     "metadata": {},
     "output_type": "execute_result"
    },
    {
     "data": {
      "image/png": "[encoded data removed]",
      "text/plain": [
       "<Figure size 432x288 with 1 Axes>"
      ]
     },
     "metadata": {
      "needs_background": "light"
     },
     "output_type": "display_data"
    }
   ],
   "source": [
    "plt.plot(trained_network_output.history['accuracy'])"
   ]
  },
  {
   "cell_type": "markdown",
   "metadata": {},
   "source": [
    "### Accuracy of training and validation set"
   ]
  },
  {
   "cell_type": "code",
   "execution_count": 20,
   "metadata": {},
   "outputs": [
    {
     "data": {
      "text/plain": [
       "[<matplotlib.lines.Line2D at 0x7f4d582b50d0>]"
      ]
     },
     "execution_count": 20,
     "metadata": {},
     "output_type": "execute_result"
    },
    {
     "data": {
      "image/png": "[encoded data removed]",
      "text/plain": [
       "<Figure size 432x288 with 1 Axes>"
      ]
     },
     "metadata": {
      "needs_background": "light"
     },
     "output_type": "display_data"
    }
   ],
   "source": [
    "plt.plot(trained_network_output.history['accuracy'])\n",
    "plt.plot(trained_network_output.history['val_accuracy'])"
   ]
  },
  {
   "cell_type": "code",
   "execution_count": 21,
   "metadata": {},
   "outputs": [
    {
     "name": "stdout",
     "output_type": "stream",
     "text": [
      "4170/4170 [==============================] - 0s 73us/step\n"
     ]
    }
   ],
   "source": [
    "# Evalutation the model\n",
    "score = model.evaluate(x_test, y_test)"
   ]
  },
  {
   "cell_type": "code",
   "execution_count": 22,
   "metadata": {},
   "outputs": [
    {
     "data": {
      "text/plain": [
       "[0.3935908693134309, 0.9273381233215332]"
      ]
     },
     "execution_count": 22,
     "metadata": {},
     "output_type": "execute_result"
    }
   ],
   "source": [
    "score\n",
    "# 90% accuaracy!!!"
   ]
  },
  {
   "cell_type": "markdown",
   "metadata": {},
   "source": [
    "## 10-fold cross valiadation"
   ]
  },
  {
   "cell_type": "code",
   "execution_count": 23,
   "metadata": {},
   "outputs": [],
   "source": [
    "def construct_new_model():\n",
    "    model = Sequential()\n",
    "    # Dense Adds fully connected nodes in each layer \n",
    "\n",
    "    # Input layer is the number of pixels & their values \n",
    "\n",
    "    # Layer 1\n",
    "    model.add(Dense(512, activation = 'relu',input_shape=(784,)))\n",
    "\n",
    "    # Layer 2\n",
    "    model.add(Dense(512, activation = 'relu'))\n",
    "    \n",
    "    #Output Layer\n",
    "    model.add(Dense(10, activation = 'softmax'))\n",
    "    \n",
    "    model.compile(optimizer='adam', loss='categorical_crossentropy', metrics = ['accuracy'])\n",
    "    \n",
    "    return model\n",
    "\n",
    "    "
   ]
  },
  {
   "cell_type": "code",
   "execution_count": 24,
   "metadata": {},
   "outputs": [],
   "source": [
    "# Uniformly separates classes in folds: See video @12:00 https://www.youtube.com/watch?v=gJo0uNL-5Qw\n",
    "# Proportion of classes is same accross all folds\n",
    "from sklearn.model_selection import StratifiedKFold\n",
    "skf = StratifiedKFold(n_splits=10, random_state=None, shuffle=False)"
   ]
  },
  {
   "cell_type": "code",
   "execution_count": 25,
   "metadata": {},
   "outputs": [],
   "source": [
    "# https://www.youtube.com/watch?v=gJo0uNL-5Qw - Used to make code more concise \n",
    "def get_score(model, x_train, x_test, y_train, y_test):\n",
    "    model.fit(x_train, y_train, epochs = 5, validation_data = (x_test, y_test))\n",
    "    return model.evaluate(x_test, y_test)"
   ]
  },
  {
   "cell_type": "code",
   "execution_count": 26,
   "metadata": {},
   "outputs": [],
   "source": [
    "def get_network_output(model, x_train, x_test, y_train, y_test):\n",
    "    x = model.fit(x_train, y_train, epochs = 20, validation_data = (x_test, y_test))\n",
    "    return x"
   ]
  },
  {
   "cell_type": "code",
   "execution_count": 27,
   "metadata": {},
   "outputs": [],
   "source": [
    "ScoreArray = []"
   ]
  },
  {
   "cell_type": "code",
   "execution_count": 28,
   "metadata": {},
   "outputs": [
    {
     "name": "stdout",
     "output_type": "stream",
     "text": [
      "Train on 11394 samples, validate on 1266 samples\n",
      "Epoch 1/5\n",
      "11394/11394 [==============================] - 4s 326us/step - loss: 0.8539 - accuracy: 0.7285 - val_loss: 0.6063 - val_accuracy: 0.7867\n",
      "Epoch 2/5\n",
      "11394/11394 [==============================] - 4s 315us/step - loss: 0.4018 - accuracy: 0.8669 - val_loss: 0.2908 - val_accuracy: 0.9155\n",
      "Epoch 3/5\n",
      "11394/11394 [==============================] - 4s 313us/step - loss: 0.2936 - accuracy: 0.9052 - val_loss: 0.6941 - val_accuracy: 0.7978\n",
      "Epoch 4/5\n",
      "11394/11394 [==============================] - 4s 312us/step - loss: 0.2614 - accuracy: 0.9167 - val_loss: 0.2286 - val_accuracy: 0.9344\n",
      "Epoch 5/5\n",
      "11394/11394 [==============================] - 4s 316us/step - loss: 0.2065 - accuracy: 0.9357 - val_loss: 0.2763 - val_accuracy: 0.9052\n",
      "1266/1266 [==============================] - 0s 74us/step\n",
      "Train on 11394 samples, validate on 1266 samples\n",
      "Epoch 1/5\n",
      "11394/11394 [==============================] - 4s 335us/step - loss: 0.8741 - accuracy: 0.7263 - val_loss: 0.5149 - val_accuracy: 0.8152\n",
      "Epoch 2/5\n",
      "11394/11394 [==============================] - 4s 319us/step - loss: 0.3916 - accuracy: 0.8726 - val_loss: 0.3372 - val_accuracy: 0.9021\n",
      "Epoch 3/5\n",
      "11394/11394 [==============================] - 4s 316us/step - loss: 0.3399 - accuracy: 0.8934 - val_loss: 0.4541 - val_accuracy: 0.8483\n",
      "Epoch 4/5\n",
      "11394/11394 [==============================] - 4s 319us/step - loss: 0.2313 - accuracy: 0.9236 - val_loss: 0.2328 - val_accuracy: 0.9258\n",
      "Epoch 5/5\n",
      "11394/11394 [==============================] - 4s 319us/step - loss: 0.1992 - accuracy: 0.9359 - val_loss: 0.2001 - val_accuracy: 0.9344\n",
      "1266/1266 [==============================] - 0s 76us/step\n",
      "Train on 11394 samples, validate on 1266 samples\n",
      "Epoch 1/5\n",
      "11394/11394 [==============================] - 4s 383us/step - loss: 0.9117 - accuracy: 0.7045 - val_loss: 0.4591 - val_accuracy: 0.8633\n",
      "Epoch 2/5\n",
      "11394/11394 [==============================] - 4s 330us/step - loss: 0.4011 - accuracy: 0.8644 - val_loss: 0.3843 - val_accuracy: 0.8483\n",
      "Epoch 3/5\n",
      "11394/11394 [==============================] - 3s 289us/step - loss: 0.2861 - accuracy: 0.9046 - val_loss: 0.2561 - val_accuracy: 0.9194\n",
      "Epoch 4/5\n",
      "11394/11394 [==============================] - 3s 286us/step - loss: 0.2452 - accuracy: 0.9186 - val_loss: 0.4957 - val_accuracy: 0.8547\n",
      "Epoch 5/5\n",
      "11394/11394 [==============================] - 3s 276us/step - loss: 0.2097 - accuracy: 0.9330 - val_loss: 0.2500 - val_accuracy: 0.9155\n",
      "1266/1266 [==============================] - 0s 65us/step\n",
      "Train on 11394 samples, validate on 1266 samples\n",
      "Epoch 1/5\n",
      "11394/11394 [==============================] - 3s 286us/step - loss: 0.9204 - accuracy: 0.7049 - val_loss: 0.8287 - val_accuracy: 0.7512\n",
      "Epoch 2/5\n",
      "11394/11394 [==============================] - 3s 275us/step - loss: 0.4018 - accuracy: 0.8632 - val_loss: 0.2872 - val_accuracy: 0.9139\n",
      "Epoch 3/5\n",
      "11394/11394 [==============================] - 3s 268us/step - loss: 0.2849 - accuracy: 0.9036 - val_loss: 0.3544 - val_accuracy: 0.9068\n",
      "Epoch 4/5\n",
      "11394/11394 [==============================] - 3s 269us/step - loss: 0.2500 - accuracy: 0.9172 - val_loss: 0.2271 - val_accuracy: 0.9234\n",
      "Epoch 5/5\n",
      "11394/11394 [==============================] - 3s 268us/step - loss: 0.2082 - accuracy: 0.9329 - val_loss: 0.3172 - val_accuracy: 0.9123\n",
      "1266/1266 [==============================] - 0s 78us/step\n",
      "Train on 11394 samples, validate on 1266 samples\n",
      "Epoch 1/5\n",
      "11394/11394 [==============================] - 3s 289us/step - loss: 0.8584 - accuracy: 0.7329 - val_loss: 0.5108 - val_accuracy: 0.8523\n",
      "Epoch 2/5\n",
      "11394/11394 [==============================] - 3s 269us/step - loss: 0.4206 - accuracy: 0.8613 - val_loss: 0.9840 - val_accuracy: 0.7117\n",
      "Epoch 3/5\n",
      "11394/11394 [==============================] - 3s 268us/step - loss: 0.3235 - accuracy: 0.8914 - val_loss: 0.1986 - val_accuracy: 0.9281\n",
      "Epoch 4/5\n",
      "11394/11394 [==============================] - 3s 272us/step - loss: 0.2360 - accuracy: 0.9265 - val_loss: 0.3732 - val_accuracy: 0.8823\n",
      "Epoch 5/5\n",
      "11394/11394 [==============================] - 3s 266us/step - loss: 0.2222 - accuracy: 0.9333 - val_loss: 0.2450 - val_accuracy: 0.9186\n",
      "1266/1266 [==============================] - 0s 66us/step\n",
      "Train on 11394 samples, validate on 1266 samples\n",
      "Epoch 1/5\n",
      "11394/11394 [==============================] - 3s 285us/step - loss: 0.8729 - accuracy: 0.7222 - val_loss: 0.3941 - val_accuracy: 0.8720\n",
      "Epoch 2/5\n",
      "11394/11394 [==============================] - 3s 270us/step - loss: 0.3884 - accuracy: 0.8676 - val_loss: 0.2486 - val_accuracy: 0.9100\n",
      "Epoch 3/5\n",
      "11394/11394 [==============================] - 3s 285us/step - loss: 0.3069 - accuracy: 0.8982 - val_loss: 0.3081 - val_accuracy: 0.8847\n",
      "Epoch 4/5\n",
      "11394/11394 [==============================] - 3s 275us/step - loss: 0.2510 - accuracy: 0.9179 - val_loss: 0.1617 - val_accuracy: 0.9487\n",
      "Epoch 5/5\n",
      "11394/11394 [==============================] - 3s 272us/step - loss: 0.2094 - accuracy: 0.9307 - val_loss: 0.1725 - val_accuracy: 0.9566\n",
      "1266/1266 [==============================] - 0s 63us/step\n",
      "Train on 11394 samples, validate on 1266 samples\n",
      "Epoch 1/5\n",
      "11394/11394 [==============================] - 3s 288us/step - loss: 0.8680 - accuracy: 0.7273 - val_loss: 0.5181 - val_accuracy: 0.8310\n",
      "Epoch 2/5\n",
      "11394/11394 [==============================] - 3s 290us/step - loss: 0.3943 - accuracy: 0.8712 - val_loss: 0.3217 - val_accuracy: 0.8957\n",
      "Epoch 3/5\n",
      "11394/11394 [==============================] - 3s 273us/step - loss: 0.3140 - accuracy: 0.8943 - val_loss: 0.2232 - val_accuracy: 0.9107\n",
      "Epoch 4/5\n",
      "11394/11394 [==============================] - 3s 287us/step - loss: 0.2391 - accuracy: 0.9204 - val_loss: 0.4316 - val_accuracy: 0.8870\n",
      "Epoch 5/5\n",
      "11394/11394 [==============================] - 3s 284us/step - loss: 0.1966 - accuracy: 0.9374 - val_loss: 0.2085 - val_accuracy: 0.9273\n",
      "1266/1266 [==============================] - 0s 68us/step\n",
      "Train on 11394 samples, validate on 1266 samples\n",
      "Epoch 1/5\n",
      "11394/11394 [==============================] - 3s 287us/step - loss: 0.8833 - accuracy: 0.7177 - val_loss: 0.5606 - val_accuracy: 0.8009\n",
      "Epoch 2/5\n",
      "11394/11394 [==============================] - 3s 269us/step - loss: 0.4116 - accuracy: 0.8611 - val_loss: 0.3276 - val_accuracy: 0.8949\n",
      "Epoch 3/5\n",
      "11394/11394 [==============================] - 3s 271us/step - loss: 0.3096 - accuracy: 0.8986 - val_loss: 0.3097 - val_accuracy: 0.8949\n",
      "Epoch 4/5\n",
      "11394/11394 [==============================] - 3s 274us/step - loss: 0.2273 - accuracy: 0.9268 - val_loss: 0.3266 - val_accuracy: 0.9139\n",
      "Epoch 5/5\n",
      "11394/11394 [==============================] - 3s 273us/step - loss: 0.2205 - accuracy: 0.9270 - val_loss: 0.2577 - val_accuracy: 0.9186\n",
      "1266/1266 [==============================] - 0s 64us/step\n",
      "Train on 11394 samples, validate on 1266 samples\n",
      "Epoch 1/5\n",
      "11394/11394 [==============================] - 3s 282us/step - loss: 0.8727 - accuracy: 0.7223 - val_loss: 0.4540 - val_accuracy: 0.8436\n",
      "Epoch 2/5\n",
      "11394/11394 [==============================] - 3s 269us/step - loss: 0.3793 - accuracy: 0.8743 - val_loss: 0.3015 - val_accuracy: 0.9179\n",
      "Epoch 3/5\n",
      "11394/11394 [==============================] - 3s 282us/step - loss: 0.2870 - accuracy: 0.9075 - val_loss: 0.4715 - val_accuracy: 0.8507\n",
      "Epoch 4/5\n",
      "11394/11394 [==============================] - 3s 268us/step - loss: 0.2311 - accuracy: 0.9240 - val_loss: 0.4792 - val_accuracy: 0.8381\n",
      "Epoch 5/5\n",
      "11394/11394 [==============================] - 3s 271us/step - loss: 0.2220 - accuracy: 0.9302 - val_loss: 0.3328 - val_accuracy: 0.9115\n",
      "1266/1266 [==============================] - 0s 70us/step\n",
      "Train on 11394 samples, validate on 1266 samples\n",
      "Epoch 1/5\n",
      "11394/11394 [==============================] - 3s 293us/step - loss: 0.8781 - accuracy: 0.7234 - val_loss: 0.4506 - val_accuracy: 0.8697\n",
      "Epoch 2/5\n",
      "11394/11394 [==============================] - 3s 275us/step - loss: 0.3921 - accuracy: 0.8762 - val_loss: 0.7717 - val_accuracy: 0.7630\n",
      "Epoch 3/5\n",
      "11394/11394 [==============================] - 3s 271us/step - loss: 0.2867 - accuracy: 0.9053 - val_loss: 0.3340 - val_accuracy: 0.9068\n",
      "Epoch 4/5\n",
      "11394/11394 [==============================] - 3s 281us/step - loss: 0.2205 - accuracy: 0.9272 - val_loss: 0.3506 - val_accuracy: 0.8989\n"
     ]
    },
    {
     "name": "stdout",
     "output_type": "stream",
     "text": [
      "Epoch 5/5\n",
      "11394/11394 [==============================] - 3s 268us/step - loss: 0.2313 - accuracy: 0.9252 - val_loss: 0.2155 - val_accuracy: 0.9439\n",
      "1266/1266 [==============================] - 0s 66us/step\n"
     ]
    }
   ],
   "source": [
    "#https://stackoverflow.com/questions/48508036/sklearn-stratifiedkfold-valueerror-supported-target-types-are-binary-mul\n",
    "for i, (train_index, test_index) in enumerate(skf.split(x_train, y_train.argmax(1))):\n",
    "    x_train_kf, x_test_kf = x_train[train_index], x_train[test_index]\n",
    "    y_train_kf, y_test_kf = y_train[train_index], y_train[test_index]\n",
    "    ScoreArray.append(get_score(construct_new_model(), x_train_kf, x_test_kf, y_train_kf, y_test_kf))\n",
    "    #ScoreArray.append(get_score(model, x_train_kf, x_test_kf, y_train_kf, y_test_kf))\n"
   ]
  },
  {
   "cell_type": "code",
   "execution_count": 29,
   "metadata": {},
   "outputs": [
    {
     "data": {
      "text/plain": [
       "array([[0.9052133 ],\n",
       "       [0.93443918],\n",
       "       [0.91548181],\n",
       "       [0.91232228],\n",
       "       [0.91864139],\n",
       "       [0.95655608],\n",
       "       [0.9273302 ],\n",
       "       [0.91864139],\n",
       "       [0.9115324 ],\n",
       "       [0.94391787]])"
      ]
     },
     "execution_count": 29,
     "metadata": {},
     "output_type": "execute_result"
    }
   ],
   "source": [
    "ScoreArray = np.array(ScoreArray)\n",
    "ScoreArray[:,1:2]"
   ]
  },
  {
   "cell_type": "code",
   "execution_count": 30,
   "metadata": {},
   "outputs": [
    {
     "name": "stdout",
     "output_type": "stream",
     "text": [
      "0.9244075894355774\n"
     ]
    }
   ],
   "source": [
    "# Average accuracy across the 10 folds\n",
    "print(np.mean(ScoreArray[:,1:2]))"
   ]
  },
  {
   "cell_type": "markdown",
   "metadata": {},
   "source": [
    "# Moving 4000 images from training to test set"
   ]
  },
  {
   "cell_type": "code",
   "execution_count": 31,
   "metadata": {},
   "outputs": [
    {
     "name": "stdout",
     "output_type": "stream",
     "text": [
      "(12660, 784)\n",
      "(12660, 10)\n",
      "(4170, 784)\n",
      "(4170, 10)\n"
     ]
    }
   ],
   "source": [
    "# Check data has been imported correctly \n",
    "print(x_train.shape)\n",
    "print(y_train.shape)\n",
    "print(x_test.shape)\n",
    "print(y_test.shape)"
   ]
  },
  {
   "cell_type": "code",
   "execution_count": 32,
   "metadata": {},
   "outputs": [],
   "source": [
    "x_train_new = x_train[0:8660,:]\n",
    "y_train_new = y_train[0:8660,:]\n",
    "\n",
    "x_temp = x_train[8660:12660,:]\n",
    "y_temp = y_train[8660:12660,:]\n",
    "\n",
    "x_test_new = np.concatenate((x_test, x_temp))\n",
    "y_test_new = np.concatenate((y_test, y_temp))\n",
    "\n",
    "\n",
    "\n"
   ]
  },
  {
   "cell_type": "code",
   "execution_count": 33,
   "metadata": {},
   "outputs": [
    {
     "name": "stdout",
     "output_type": "stream",
     "text": [
      "Train on 8660 samples, validate on 8170 samples\n",
      "Epoch 1/20\n",
      "8660/8660 [==============================] - 3s 352us/step - loss: 1.0052 - accuracy: 0.6836 - val_loss: 0.5124 - val_accuracy: 0.8230\n",
      "Epoch 2/20\n",
      "8660/8660 [==============================] - 3s 334us/step - loss: 0.4376 - accuracy: 0.8592 - val_loss: 0.4513 - val_accuracy: 0.8594\n",
      "Epoch 3/20\n",
      "8660/8660 [==============================] - 3s 337us/step - loss: 0.3409 - accuracy: 0.8829 - val_loss: 0.4311 - val_accuracy: 0.8422\n",
      "Epoch 4/20\n",
      "8660/8660 [==============================] - 3s 327us/step - loss: 0.2487 - accuracy: 0.9147 - val_loss: 0.4195 - val_accuracy: 0.8677\n",
      "Epoch 5/20\n",
      "8660/8660 [==============================] - 3s 323us/step - loss: 0.2644 - accuracy: 0.9145 - val_loss: 0.2741 - val_accuracy: 0.9304\n",
      "Epoch 6/20\n",
      "8660/8660 [==============================] - 3s 333us/step - loss: 0.2059 - accuracy: 0.9328 - val_loss: 0.2987 - val_accuracy: 0.9202\n",
      "Epoch 7/20\n",
      "8660/8660 [==============================] - 3s 328us/step - loss: 0.1795 - accuracy: 0.9425 - val_loss: 0.3470 - val_accuracy: 0.9087\n",
      "Epoch 8/20\n",
      "8660/8660 [==============================] - 3s 328us/step - loss: 0.1870 - accuracy: 0.9421 - val_loss: 0.3203 - val_accuracy: 0.9197\n",
      "Epoch 9/20\n",
      "8660/8660 [==============================] - 3s 334us/step - loss: 0.1319 - accuracy: 0.9605 - val_loss: 0.3020 - val_accuracy: 0.9099\n",
      "Epoch 10/20\n",
      "8660/8660 [==============================] - 3s 331us/step - loss: 0.1225 - accuracy: 0.9604 - val_loss: 0.3104 - val_accuracy: 0.9193\n",
      "Epoch 11/20\n",
      "8660/8660 [==============================] - 3s 340us/step - loss: 0.1199 - accuracy: 0.9635 - val_loss: 0.2710 - val_accuracy: 0.9319\n",
      "Epoch 12/20\n",
      "8660/8660 [==============================] - 3s 338us/step - loss: 0.1032 - accuracy: 0.9641 - val_loss: 0.2645 - val_accuracy: 0.9367\n",
      "Epoch 13/20\n",
      "8660/8660 [==============================] - 3s 332us/step - loss: 0.1274 - accuracy: 0.9553 - val_loss: 0.2892 - val_accuracy: 0.9368\n",
      "Epoch 14/20\n",
      "8660/8660 [==============================] - 3s 357us/step - loss: 0.0890 - accuracy: 0.9710 - val_loss: 0.3065 - val_accuracy: 0.9252\n",
      "Epoch 15/20\n",
      "8660/8660 [==============================] - 3s 383us/step - loss: 0.1059 - accuracy: 0.9654 - val_loss: 0.2507 - val_accuracy: 0.9419\n",
      "Epoch 16/20\n",
      "8660/8660 [==============================] - 3s 355us/step - loss: 0.0728 - accuracy: 0.9759 - val_loss: 0.2712 - val_accuracy: 0.9408\n",
      "Epoch 17/20\n",
      "8660/8660 [==============================] - 3s 336us/step - loss: 0.0704 - accuracy: 0.9755 - val_loss: 0.2947 - val_accuracy: 0.9386\n",
      "Epoch 18/20\n",
      "8660/8660 [==============================] - 3s 331us/step - loss: 0.0646 - accuracy: 0.9801 - val_loss: 0.3396 - val_accuracy: 0.9354\n",
      "Epoch 19/20\n",
      "8660/8660 [==============================] - 3s 326us/step - loss: 0.0903 - accuracy: 0.9726 - val_loss: 0.2983 - val_accuracy: 0.9275\n",
      "Epoch 20/20\n",
      "8660/8660 [==============================] - 3s 329us/step - loss: 0.0614 - accuracy: 0.9807 - val_loss: 0.2863 - val_accuracy: 0.9479\n"
     ]
    }
   ],
   "source": [
    "test = get_network_output(construct_new_model(), x_train_new, x_test_new, y_train_new, y_test_new)"
   ]
  },
  {
   "cell_type": "code",
   "execution_count": 34,
   "metadata": {},
   "outputs": [
    {
     "data": {
      "text/plain": [
       "[<matplotlib.lines.Line2D at 0x7f4d24c26910>]"
      ]
     },
     "execution_count": 34,
     "metadata": {},
     "output_type": "execute_result"
    },
    {
     "data": {
      "image/png": "[encoded data removed]",
      "text/plain": [
       "<Figure size 432x288 with 1 Axes>"
      ]
     },
     "metadata": {
      "needs_background": "light"
     },
     "output_type": "display_data"
    }
   ],
   "source": [
    "plt.plot(test.history['accuracy'])\n",
    "plt.plot(test.history['val_accuracy'])"
   ]
  },
  {
   "cell_type": "markdown",
   "metadata": {},
   "source": [
    "# Moving 9000 images from training to test set\n"
   ]
  },
  {
   "cell_type": "code",
   "execution_count": 35,
   "metadata": {},
   "outputs": [],
   "source": [
    "x_train_new = x_train[0:6660,:]\n",
    "y_train_new = y_train[0:6660,:]\n",
    "\n",
    "x_temp = x_train[6660:12660,:]\n",
    "y_temp = y_train[6660:12660,:]\n",
    "\n",
    "x_test_new = np.concatenate((x_test, x_temp))\n",
    "y_test_new = np.concatenate((y_test, y_temp))"
   ]
  },
  {
   "cell_type": "code",
   "execution_count": 36,
   "metadata": {},
   "outputs": [
    {
     "name": "stdout",
     "output_type": "stream",
     "text": [
      "Train on 6660 samples, validate on 10170 samples\n",
      "Epoch 1/20\n",
      "6660/6660 [==============================] - 3s 402us/step - loss: 1.1553 - accuracy: 0.6341 - val_loss: 0.9080 - val_accuracy: 0.7063\n",
      "Epoch 2/20\n",
      "6660/6660 [==============================] - 2s 343us/step - loss: 0.5002 - accuracy: 0.8356 - val_loss: 0.4427 - val_accuracy: 0.8538\n",
      "Epoch 3/20\n",
      "6660/6660 [==============================] - 3s 427us/step - loss: 0.3757 - accuracy: 0.8749 - val_loss: 0.4075 - val_accuracy: 0.8803\n",
      "Epoch 4/20\n",
      "6660/6660 [==============================] - 2s 359us/step - loss: 0.3271 - accuracy: 0.8907 - val_loss: 0.4054 - val_accuracy: 0.8834\n",
      "Epoch 5/20\n",
      "6660/6660 [==============================] - 3s 380us/step - loss: 0.2614 - accuracy: 0.9174 - val_loss: 0.3241 - val_accuracy: 0.8989\n",
      "Epoch 6/20\n",
      "6660/6660 [==============================] - 3s 381us/step - loss: 0.2179 - accuracy: 0.9287 - val_loss: 0.3309 - val_accuracy: 0.9137\n",
      "Epoch 7/20\n",
      "6660/6660 [==============================] - 2s 363us/step - loss: 0.2384 - accuracy: 0.9221 - val_loss: 0.4174 - val_accuracy: 0.8945\n",
      "Epoch 8/20\n",
      "6660/6660 [==============================] - 2s 355us/step - loss: 0.1761 - accuracy: 0.9428 - val_loss: 0.4039 - val_accuracy: 0.8916\n",
      "Epoch 9/20\n",
      "6660/6660 [==============================] - 2s 350us/step - loss: 0.1560 - accuracy: 0.9503 - val_loss: 0.2795 - val_accuracy: 0.9218\n",
      "Epoch 10/20\n",
      "6660/6660 [==============================] - 2s 368us/step - loss: 0.1331 - accuracy: 0.9608 - val_loss: 0.2656 - val_accuracy: 0.9322\n",
      "Epoch 11/20\n",
      "6660/6660 [==============================] - 2s 369us/step - loss: 0.1374 - accuracy: 0.9541 - val_loss: 0.3296 - val_accuracy: 0.9221\n",
      "Epoch 12/20\n",
      "6660/6660 [==============================] - 3s 471us/step - loss: 0.1838 - accuracy: 0.9408 - val_loss: 0.3453 - val_accuracy: 0.9201\n",
      "Epoch 13/20\n",
      "6660/6660 [==============================] - 3s 424us/step - loss: 0.1038 - accuracy: 0.9661 - val_loss: 0.2168 - val_accuracy: 0.9482\n",
      "Epoch 14/20\n",
      "6660/6660 [==============================] - 3s 426us/step - loss: 0.0853 - accuracy: 0.9709 - val_loss: 0.2569 - val_accuracy: 0.9419\n",
      "Epoch 15/20\n",
      "6660/6660 [==============================] - 3s 388us/step - loss: 0.1222 - accuracy: 0.9611 - val_loss: 0.2547 - val_accuracy: 0.9330\n",
      "Epoch 16/20\n",
      "6660/6660 [==============================] - 2s 348us/step - loss: 0.1350 - accuracy: 0.9554 - val_loss: 0.2127 - val_accuracy: 0.9432\n",
      "Epoch 17/20\n",
      "6660/6660 [==============================] - 2s 344us/step - loss: 0.1060 - accuracy: 0.9661 - val_loss: 0.3077 - val_accuracy: 0.9132\n",
      "Epoch 18/20\n",
      "6660/6660 [==============================] - 2s 349us/step - loss: 0.0744 - accuracy: 0.9757 - val_loss: 0.3022 - val_accuracy: 0.9240\n",
      "Epoch 19/20\n",
      "6660/6660 [==============================] - 3s 402us/step - loss: 0.0545 - accuracy: 0.9811 - val_loss: 0.2659 - val_accuracy: 0.9418\n",
      "Epoch 20/20\n",
      "6660/6660 [==============================] - 3s 450us/step - loss: 0.1107 - accuracy: 0.9632 - val_loss: 0.2473 - val_accuracy: 0.9383\n"
     ]
    }
   ],
   "source": [
    "test2 = get_network_output(construct_new_model(), x_train_new, x_test_new, y_train_new, y_test_new)"
   ]
  },
  {
   "cell_type": "code",
   "execution_count": 37,
   "metadata": {},
   "outputs": [
    {
     "data": {
      "text/plain": [
       "[<matplotlib.lines.Line2D at 0x7f4d2256b550>]"
      ]
     },
     "execution_count": 37,
     "metadata": {},
     "output_type": "execute_result"
    },
    {
     "data": {
      "image/png": "[encoded data removed]",
      "text/plain": [
       "<Figure size 432x288 with 1 Axes>"
      ]
     },
     "metadata": {
      "needs_background": "light"
     },
     "output_type": "display_data"
    }
   ],
   "source": [
    "plt.plot(test2.history['accuracy'])\n",
    "plt.plot(test2.history['val_accuracy'])"
   ]
  },
  {
   "cell_type": "code",
   "execution_count": null,
   "metadata": {},
   "outputs": [],
   "source": []
  }
 ],
 "metadata": {
  "kernelspec": {
   "display_name": "Python 3",
   "language": "python",
   "name": "python3"
  },
  "language_info": {
   "codemirror_mode": {
    "name": "ipython",
    "version": 3
   },
   "file_extension": ".py",
   "mimetype": "text/x-python",
   "name": "python",
   "nbconvert_exporter": "python",
   "pygments_lexer": "ipython3",
   "version": "3.7.4"
  }
 },
 "nbformat": 4,
 "nbformat_minor": 2
}
