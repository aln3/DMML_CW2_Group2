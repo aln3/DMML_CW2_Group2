{
 "cells": [
  {
   "cell_type": "markdown",
   "metadata": {},
   "source": [
    "## Imports"
   ]
  },
  {
   "cell_type": "code",
   "execution_count": 1,
   "metadata": {},
   "outputs": [
    {
     "name": "stderr",
     "output_type": "stream",
     "text": [
      "Using TensorFlow backend.\n"
     ]
    }
   ],
   "source": [
    "import cv2\n",
    "import random\n",
    "import numpy as np\n",
    "import matplotlib.pyplot as plt\n",
    "import pandas as pd\n",
    "import seaborn as sns\n",
    "import time\n",
    "\n",
    "\n",
    "from numpy import genfromtxt\n",
    "from sklearn.feature_selection import SelectKBest\n",
    "from sklearn.feature_selection import chi2\n",
    "from sklearn.feature_selection import f_regression\n",
    "from sklearn.metrics import accuracy_score\n",
    "from sklearn.metrics import confusion_matrix, classification_report\n",
    "from mpl_toolkits.mplot3d import Axes3D\n",
    "\n",
    "\n",
    "\n",
    "#----------------------------------------------Neural Net Imports\n",
    "from keras.datasets import mnist\n",
    "from keras.preprocessing.image import load_img, array_to_img\n",
    "from keras.utils.np_utils import to_categorical\n",
    "\n",
    "# Linear stack of NN layers\n",
    "from keras.models import Sequential\n",
    "\n",
    "# Ensure Fully connected layer \n",
    "from keras.layers import Dense\n",
    "#----------------------------------------------------------------\n",
    "\n",
    "import numpy as np\n",
    "import matplotlib.pyplot as plt\n",
    "%matplotlib inline\n",
    "\n",
    "\n",
    "\n",
    "num_pixels = 28\n",
    "%matplotlib inline"
   ]
  },
  {
   "cell_type": "code",
   "execution_count": 2,
   "metadata": {},
   "outputs": [],
   "source": [
    "# Importing training  data from CSV files\n",
    "x_train = genfromtxt('Data/Training/x_train_gr_smpl.csv', delimiter=',', skip_header =1)\n",
    "y_train = genfromtxt('Data/Training/y_train_smpl.csv', delimiter=',', skip_header =1 )"
   ]
  },
  {
   "cell_type": "code",
   "execution_count": 3,
   "metadata": {},
   "outputs": [],
   "source": [
    "# Importing testing data from CSV files\n",
    "x_test = genfromtxt('Data/Testing/x_test_gr_smpl.csv', delimiter=',', skip_header =1)\n",
    "y_test = genfromtxt('Data/Testing/y_test_smpl.csv', delimiter=',', skip_header =1 )"
   ]
  },
  {
   "cell_type": "code",
   "execution_count": 4,
   "metadata": {},
   "outputs": [
    {
     "name": "stdout",
     "output_type": "stream",
     "text": [
      "(12660, 2304)\n",
      "(12660,)\n",
      "(4170, 2304)\n",
      "(4170,)\n"
     ]
    }
   ],
   "source": [
    "# Check data has been imported correctly \n",
    "print(x_train.shape)\n",
    "print(y_train.shape)\n",
    "print(x_test.shape)\n",
    "print(y_test.shape)"
   ]
  },
  {
   "cell_type": "markdown",
   "metadata": {},
   "source": [
    "## Preprocessing"
   ]
  },
  {
   "cell_type": "code",
   "execution_count": 5,
   "metadata": {},
   "outputs": [],
   "source": [
    "# Combinging data with labels\n",
    "\n",
    "y_train = y_train.reshape(12660,1)\n",
    "train_data_combined = np.append(x_train, y_train, axis=1)\n",
    "\n",
    "y_test = y_test.reshape(4170,1)\n",
    "test_data_combined = np.append(x_test, y_test, axis=1)\n"
   ]
  },
  {
   "cell_type": "code",
   "execution_count": 6,
   "metadata": {},
   "outputs": [],
   "source": [
    "# Randomises row order in a reproducable way \n",
    "np.random.seed(0)\n",
    "np.random.shuffle(train_data_combined)\n",
    "np.random.shuffle(test_data_combined)"
   ]
  },
  {
   "cell_type": "code",
   "execution_count": 7,
   "metadata": {},
   "outputs": [],
   "source": [
    "# Split data and lables that have undergone the same randomization process\n",
    "x_train = train_data_combined[:,:-1]\n",
    "y_train = train_data_combined[:, [-1]].reshape(12660,)\n",
    "\n",
    "x_test = test_data_combined[:,:-1]\n",
    "y_test = test_data_combined[:, [-1]].reshape(4170,)"
   ]
  },
  {
   "cell_type": "code",
   "execution_count": 8,
   "metadata": {},
   "outputs": [],
   "source": [
    "# Normalisation of pixels\n",
    "x_train = x_train.astype('float')/255\n",
    "x_test  = x_test.astype('float')/255"
   ]
  },
  {
   "cell_type": "code",
   "execution_count": 16,
   "metadata": {},
   "outputs": [],
   "source": [
    "#  Reducing the number of attributes using opencv's reduce functionality as shown in the second python Lecture\n",
    "#  As seen in python lectures: https://vision.hw.ac.uk/webapps/blackboard/content/listContent.jsp?course_id=_94419_1&content_id=_3391865_1\n",
    "\n",
    "x_train = np.apply_along_axis(\n",
    "        func1d=lambda img: cv2.resize(img.reshape((48,48)), (num_pixels,num_pixels)),\n",
    "        axis =1, arr = x_train).reshape((-1,num_pixels*num_pixels))\n",
    "\n",
    "x_test  = np.apply_along_axis(\n",
    "        func1d=lambda img: cv2.resize(img.reshape((48,48)), (num_pixels,num_pixels)),\n",
    "        axis =1, arr = x_test).reshape((-1,num_pixels*num_pixels))"
   ]
  },
  {
   "cell_type": "code",
   "execution_count": 19,
   "metadata": {},
   "outputs": [
    {
     "data": {
      "text/plain": [
       "(12660, 784)"
      ]
     },
     "execution_count": 19,
     "metadata": {},
     "output_type": "execute_result"
    }
   ],
   "source": [
    "x_train.shape"
   ]
  },
  {
   "cell_type": "code",
   "execution_count": 20,
   "metadata": {},
   "outputs": [
    {
     "name": "stdout",
     "output_type": "stream",
     "text": [
      "(12660, 10)\n",
      "(4170, 10)\n"
     ]
    }
   ],
   "source": [
    "# Creating 10 bins for output\n",
    "y_train = to_categorical(y_train,10)\n",
    "y_test = to_categorical(y_test,10)\n",
    "\n",
    "print(y_train.shape) \n",
    "print(y_test.shape)"
   ]
  },
  {
   "cell_type": "markdown",
   "metadata": {},
   "source": [
    "## Buiding MLP Architecture"
   ]
  },
  {
   "cell_type": "code",
   "execution_count": 21,
   "metadata": {},
   "outputs": [],
   "source": [
    "# Specifying Sequential Model\n",
    "model = Sequential()"
   ]
  },
  {
   "cell_type": "code",
   "execution_count": 22,
   "metadata": {},
   "outputs": [],
   "source": [
    "# Dense Adds fully connected nodes in each layer \n",
    "\n",
    "# Input layer is the number of pixels & their values \n",
    "\n",
    "# Layer 1\n",
    "model.add(Dense(512, activation = 'relu',input_shape=(784,)))\n",
    "\n",
    "# Layer 2\n",
    "model.add(Dense(512, activation = 'relu'))\n",
    "\n",
    "#Output Layer\n",
    "model.add(Dense(10, activation = 'softmax'))\n"
   ]
  },
  {
   "cell_type": "markdown",
   "metadata": {},
   "source": [
    "## Compiling the model"
   ]
  },
  {
   "cell_type": "code",
   "execution_count": 23,
   "metadata": {},
   "outputs": [],
   "source": [
    "model.compile(optimizer='adam', loss='categorical_crossentropy', metrics = ['accuracy'])"
   ]
  },
  {
   "cell_type": "code",
   "execution_count": 24,
   "metadata": {},
   "outputs": [
    {
     "name": "stdout",
     "output_type": "stream",
     "text": [
      "Model: \"sequential_2\"\n",
      "_________________________________________________________________\n",
      "Layer (type)                 Output Shape              Param #   \n",
      "=================================================================\n",
      "dense_4 (Dense)              (None, 512)               401920    \n",
      "_________________________________________________________________\n",
      "dense_5 (Dense)              (None, 512)               262656    \n",
      "_________________________________________________________________\n",
      "dense_6 (Dense)              (None, 10)                5130      \n",
      "=================================================================\n",
      "Total params: 669,706\n",
      "Trainable params: 669,706\n",
      "Non-trainable params: 0\n",
      "_________________________________________________________________\n"
     ]
    }
   ],
   "source": [
    "model.summary()"
   ]
  },
  {
   "cell_type": "markdown",
   "metadata": {},
   "source": [
    "## Training the Model"
   ]
  },
  {
   "cell_type": "code",
   "execution_count": 25,
   "metadata": {},
   "outputs": [
    {
     "name": "stdout",
     "output_type": "stream",
     "text": [
      "Train on 12660 samples, validate on 4170 samples\n",
      "Epoch 1/20\n",
      "12660/12660 [==============================] - 4s 288us/step - loss: 0.8621 - accuracy: 0.7217 - val_loss: 0.6242 - val_accuracy: 0.7657\n",
      "Epoch 2/20\n",
      "12660/12660 [==============================] - 3s 276us/step - loss: 0.3657 - accuracy: 0.8770 - val_loss: 0.5660 - val_accuracy: 0.8525\n",
      "Epoch 3/20\n",
      "12660/12660 [==============================] - 3s 259us/step - loss: 0.2958 - accuracy: 0.9026 - val_loss: 0.6497 - val_accuracy: 0.8525\n",
      "Epoch 4/20\n",
      "12660/12660 [==============================] - 3s 262us/step - loss: 0.2399 - accuracy: 0.9205 - val_loss: 0.5156 - val_accuracy: 0.8547\n",
      "Epoch 5/20\n",
      "12660/12660 [==============================] - 3s 260us/step - loss: 0.1976 - accuracy: 0.9348 - val_loss: 0.4738 - val_accuracy: 0.8719\n",
      "Epoch 6/20\n",
      "12660/12660 [==============================] - 3s 268us/step - loss: 0.1740 - accuracy: 0.9445 - val_loss: 0.9311 - val_accuracy: 0.7681\n",
      "Epoch 7/20\n",
      "12660/12660 [==============================] - 3s 262us/step - loss: 0.1509 - accuracy: 0.9523 - val_loss: 0.4409 - val_accuracy: 0.8957\n",
      "Epoch 8/20\n",
      "12660/12660 [==============================] - 3s 264us/step - loss: 0.1446 - accuracy: 0.9510 - val_loss: 0.5376 - val_accuracy: 0.8635\n",
      "Epoch 9/20\n",
      "12660/12660 [==============================] - 3s 264us/step - loss: 0.1221 - accuracy: 0.9607 - val_loss: 0.4346 - val_accuracy: 0.8918\n",
      "Epoch 10/20\n",
      "12660/12660 [==============================] - 3s 266us/step - loss: 0.1025 - accuracy: 0.9662 - val_loss: 0.3537 - val_accuracy: 0.9158\n",
      "Epoch 11/20\n",
      "12660/12660 [==============================] - 3s 263us/step - loss: 0.1000 - accuracy: 0.9668 - val_loss: 0.3182 - val_accuracy: 0.9314\n",
      "Epoch 12/20\n",
      "12660/12660 [==============================] - 3s 275us/step - loss: 0.1063 - accuracy: 0.9643 - val_loss: 0.4915 - val_accuracy: 0.8890\n",
      "Epoch 13/20\n",
      "12660/12660 [==============================] - 4s 300us/step - loss: 0.0922 - accuracy: 0.9711 - val_loss: 0.4066 - val_accuracy: 0.9132\n",
      "Epoch 14/20\n",
      "12660/12660 [==============================] - 4s 277us/step - loss: 0.0818 - accuracy: 0.9735 - val_loss: 0.5377 - val_accuracy: 0.8918\n",
      "Epoch 15/20\n",
      "12660/12660 [==============================] - 4s 283us/step - loss: 0.0915 - accuracy: 0.9687 - val_loss: 0.4290 - val_accuracy: 0.9185\n",
      "Epoch 16/20\n",
      "12660/12660 [==============================] - 4s 294us/step - loss: 0.0515 - accuracy: 0.9831 - val_loss: 0.4058 - val_accuracy: 0.9295\n",
      "Epoch 17/20\n",
      "12660/12660 [==============================] - 3s 269us/step - loss: 0.0965 - accuracy: 0.9687 - val_loss: 0.4532 - val_accuracy: 0.9151\n",
      "Epoch 18/20\n",
      "12660/12660 [==============================] - 4s 286us/step - loss: 0.0554 - accuracy: 0.9814 - val_loss: 0.3663 - val_accuracy: 0.9213\n",
      "Epoch 19/20\n",
      "12660/12660 [==============================] - 4s 331us/step - loss: 0.0598 - accuracy: 0.9792 - val_loss: 0.4849 - val_accuracy: 0.9173\n",
      "Epoch 20/20\n",
      "12660/12660 [==============================] - 3s 266us/step - loss: 0.0625 - accuracy: 0.9795 - val_loss: 0.4515 - val_accuracy: 0.9161\n"
     ]
    }
   ],
   "source": [
    "trained_network_output = model.fit(x_train,y_train, epochs = 20, validation_data = (x_test, y_test))"
   ]
  },
  {
   "cell_type": "markdown",
   "metadata": {},
   "source": [
    "# Evaluation"
   ]
  },
  {
   "cell_type": "markdown",
   "metadata": {},
   "source": [
    "### Accuracy of training model"
   ]
  },
  {
   "cell_type": "code",
   "execution_count": 27,
   "metadata": {},
   "outputs": [
    {
     "data": {
      "text/plain": [
       "[<matplotlib.lines.Line2D at 0x7f6639baa650>]"
      ]
     },
     "execution_count": 27,
     "metadata": {},
     "output_type": "execute_result"
    },
    {
     "data": {
      "image/png": "[encoded data removed]",
      "text/plain": [
       "<Figure size 432x288 with 1 Axes>"
      ]
     },
     "metadata": {
      "needs_background": "light"
     },
     "output_type": "display_data"
    }
   ],
   "source": [
    "plt.plot(trained_network_output.history['accuracy'])"
   ]
  },
  {
   "cell_type": "markdown",
   "metadata": {},
   "source": [
    "### Accuracy of training and validation set"
   ]
  },
  {
   "cell_type": "code",
   "execution_count": 29,
   "metadata": {},
   "outputs": [
    {
     "data": {
      "text/plain": [
       "[<matplotlib.lines.Line2D at 0x7f6639b8f650>]"
      ]
     },
     "execution_count": 29,
     "metadata": {},
     "output_type": "execute_result"
    },
    {
     "data": {
      "image/png": "[encoded data removed]",
      "text/plain": [
       "<Figure size 432x288 with 1 Axes>"
      ]
     },
     "metadata": {
      "needs_background": "light"
     },
     "output_type": "display_data"
    }
   ],
   "source": [
    "plt.plot(trained_network_output.history['accuracy'])\n",
    "plt.plot(trained_network_output.history['val_accuracy'])"
   ]
  },
  {
   "cell_type": "code",
   "execution_count": 30,
   "metadata": {},
   "outputs": [
    {
     "name": "stdout",
     "output_type": "stream",
     "text": [
      "4170/4170 [==============================] - 0s 49us/step\n"
     ]
    }
   ],
   "source": [
    "# Evalutation the model\n",
    "score = model.evaluate(x_test, y_test)"
   ]
  },
  {
   "cell_type": "code",
   "execution_count": 31,
   "metadata": {},
   "outputs": [
    {
     "data": {
      "text/plain": [
       "[0.45147077348485265, 0.9160671234130859]"
      ]
     },
     "execution_count": 31,
     "metadata": {},
     "output_type": "execute_result"
    }
   ],
   "source": [
    "score\n",
    "# 91% accuaracy!!!"
   ]
  },
  {
   "cell_type": "code",
   "execution_count": null,
   "metadata": {},
   "outputs": [],
   "source": []
  }
 ],
 "metadata": {
  "kernelspec": {
   "display_name": "Python 3",
   "language": "python",
   "name": "python3"
  },
  "language_info": {
   "codemirror_mode": {
    "name": "ipython",
    "version": 3
   },
   "file_extension": ".py",
   "mimetype": "text/x-python",
   "name": "python",
   "nbconvert_exporter": "python",
   "pygments_lexer": "ipython3",
   "version": "3.7.4"
  }
 },
 "nbformat": 4,
 "nbformat_minor": 2
}
