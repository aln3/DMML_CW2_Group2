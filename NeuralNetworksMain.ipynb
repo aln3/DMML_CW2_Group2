{
 "cells": [
  {
   "cell_type": "markdown",
   "metadata": {},
   "source": [
    "## Imports"
   ]
  },
  {
   "cell_type": "code",
   "execution_count": 1,
   "metadata": {},
   "outputs": [
    {
     "name": "stderr",
     "output_type": "stream",
     "text": [
      "Using TensorFlow backend.\n"
     ]
    }
   ],
   "source": [
    "import cv2\n",
    "import random\n",
    "import numpy as np\n",
    "import matplotlib.pyplot as plt\n",
    "import pandas as pd\n",
    "import seaborn as sns\n",
    "import time\n",
    "\n",
    "\n",
    "from numpy import genfromtxt\n",
    "from sklearn.metrics import accuracy_score\n",
    "from sklearn.metrics import confusion_matrix, classification_report\n",
    "from mpl_toolkits.mplot3d import Axes3D\n",
    "\n",
    "\n",
    "from sklearn.linear_model import LogisticRegression\n",
    "#----------------------------------------------Neural Net Imports\n",
    "from keras.datasets import mnist\n",
    "from keras.preprocessing.image import load_img, array_to_img\n",
    "from keras.utils.np_utils import to_categorical\n",
    "\n",
    "# Linear stack of NN layers\n",
    "from keras.models import Sequential\n",
    "\n",
    "# Ensure Fully connected layer \n",
    "from keras.layers import Dense\n",
    "#----------------------------------------------------------------\n",
    "\n",
    "import numpy as np\n",
    "import matplotlib.pyplot as plt\n",
    "%matplotlib inline\n",
    "\n",
    "\n",
    "\n",
    "num_pixels = 28\n",
    "%matplotlib inline"
   ]
  },
  {
   "cell_type": "code",
   "execution_count": 2,
   "metadata": {},
   "outputs": [],
   "source": [
    "# Importing training  data from CSV files\n",
    "x_train = genfromtxt('Data/Training/x_train_gr_smpl.csv', delimiter=',', skip_header =1)\n",
    "y_train = genfromtxt('Data/Training/y_train_smpl.csv', delimiter=',', skip_header =1 )"
   ]
  },
  {
   "cell_type": "code",
   "execution_count": 3,
   "metadata": {},
   "outputs": [],
   "source": [
    "# Importing testing data from CSV files\n",
    "x_test = genfromtxt('Data/Testing/x_test_gr_smpl.csv', delimiter=',', skip_header =1)\n",
    "y_test = genfromtxt('Data/Testing/y_test_smpl.csv', delimiter=',', skip_header =1 )"
   ]
  },
  {
   "cell_type": "code",
   "execution_count": 4,
   "metadata": {},
   "outputs": [
    {
     "name": "stdout",
     "output_type": "stream",
     "text": [
      "(12660, 2304)\n",
      "(12660,)\n",
      "(4170, 2304)\n",
      "(4170,)\n"
     ]
    }
   ],
   "source": [
    "# Check data has been imported correctly \n",
    "print(x_train.shape)\n",
    "print(y_train.shape)\n",
    "print(x_test.shape)\n",
    "print(y_test.shape)"
   ]
  },
  {
   "cell_type": "markdown",
   "metadata": {},
   "source": [
    "## Preprocessing"
   ]
  },
  {
   "cell_type": "code",
   "execution_count": 5,
   "metadata": {},
   "outputs": [],
   "source": [
    "# Combinging data with labels\n",
    "\n",
    "y_train = y_train.reshape(12660,1)\n",
    "train_data_combined = np.append(x_train, y_train, axis=1)\n",
    "\n",
    "y_test = y_test.reshape(4170,1)\n",
    "test_data_combined = np.append(x_test, y_test, axis=1)\n"
   ]
  },
  {
   "cell_type": "code",
   "execution_count": 6,
   "metadata": {},
   "outputs": [],
   "source": [
    "# Randomises row order in a reproducable way \n",
    "np.random.seed(0)\n",
    "np.random.shuffle(train_data_combined)\n",
    "np.random.shuffle(test_data_combined)"
   ]
  },
  {
   "cell_type": "code",
   "execution_count": 7,
   "metadata": {},
   "outputs": [],
   "source": [
    "# Split data and lables that have undergone the same randomization process\n",
    "x_train = train_data_combined[:,:-1]\n",
    "y_train = train_data_combined[:, [-1]].reshape(12660,)\n",
    "\n",
    "x_test = test_data_combined[:,:-1]\n",
    "y_test = test_data_combined[:, [-1]].reshape(4170,)"
   ]
  },
  {
   "cell_type": "code",
   "execution_count": 8,
   "metadata": {},
   "outputs": [],
   "source": [
    "# Normalisation of pixels\n",
    "x_train = x_train.astype('float')/255\n",
    "x_test  = x_test.astype('float')/255"
   ]
  },
  {
   "cell_type": "code",
   "execution_count": 9,
   "metadata": {},
   "outputs": [],
   "source": [
    "#  Reducing the number of attributes using opencv's reduce functionality as shown in the second python Lecture\n",
    "#  As seen in python lectures: https://vision.hw.ac.uk/webapps/blackboard/content/listContent.jsp?course_id=_94419_1&content_id=_3391865_1\n",
    "\n",
    "x_train = np.apply_along_axis(\n",
    "        func1d=lambda img: cv2.resize(img.reshape((48,48)), (num_pixels,num_pixels)),\n",
    "        axis =1, arr = x_train).reshape((-1,num_pixels*num_pixels))\n",
    "\n",
    "x_test  = np.apply_along_axis(\n",
    "        func1d=lambda img: cv2.resize(img.reshape((48,48)), (num_pixels,num_pixels)),\n",
    "        axis =1, arr = x_test).reshape((-1,num_pixels*num_pixels))"
   ]
  },
  {
   "cell_type": "code",
   "execution_count": 10,
   "metadata": {},
   "outputs": [
    {
     "data": {
      "text/plain": [
       "(12660, 784)"
      ]
     },
     "execution_count": 10,
     "metadata": {},
     "output_type": "execute_result"
    }
   ],
   "source": [
    "x_train.shape"
   ]
  },
  {
   "cell_type": "code",
   "execution_count": 11,
   "metadata": {},
   "outputs": [],
   "source": [
    "# # Creating 10 bins for output\n",
    "# y_train = to_categorical(y_train,10)\n",
    "# y_test = to_categorical(y_test,10)\n",
    "\n",
    "# print(y_train.shape) \n",
    "# print(y_test.shape)"
   ]
  },
  {
   "cell_type": "markdown",
   "metadata": {},
   "source": [
    "## Linear Classifier - Logistic Regression"
   ]
  },
  {
   "cell_type": "code",
   "execution_count": 12,
   "metadata": {},
   "outputs": [],
   "source": [
    "lr = LogisticRegression(random_state=0, solver='newton-cg', multi_class='multinomial').fit(x_train, y_train)\n"
   ]
  },
  {
   "cell_type": "code",
   "execution_count": 13,
   "metadata": {},
   "outputs": [],
   "source": [
    "lc = lr.predict(x_test)"
   ]
  },
  {
   "cell_type": "code",
   "execution_count": 14,
   "metadata": {},
   "outputs": [],
   "source": [
    "from scipy.stats import mode\n",
    "labels = np.zeros_like(lc)\n",
    "for j in range(10):\n",
    "    mask = (lc == j)\n",
    "    labels[mask] = mode(y_test[mask])[0]     "
   ]
  },
  {
   "cell_type": "code",
   "execution_count": 15,
   "metadata": {},
   "outputs": [
    {
     "data": {
      "image/png": "[encoded data removed]",
      "text/plain": [
       "<Figure size 432x288 with 1 Axes>"
      ]
     },
     "metadata": {
      "needs_background": "light"
     },
     "output_type": "display_data"
    }
   ],
   "source": [
    "#Display heat map showing predicted class vs the actual lable\n",
    "mat = confusion_matrix(y_test, labels)\n",
    "sns.heatmap(mat.T, square=True, annot=True,cmap=\"RdPu\", fmt='.0f', cbar=False)\n",
    "plt.xlabel('True Class')\n",
    "plt.ylabel('Predicted Class');"
   ]
  },
  {
   "cell_type": "code",
   "execution_count": 16,
   "metadata": {},
   "outputs": [
    {
     "data": {
      "text/plain": [
       "0.9122302158273381"
      ]
     },
     "execution_count": 16,
     "metadata": {},
     "output_type": "execute_result"
    }
   ],
   "source": [
    "#Returns accuarcy score\n",
    "accuracy_score(y_test, labels)"
   ]
  },
  {
   "cell_type": "code",
   "execution_count": 17,
   "metadata": {},
   "outputs": [
    {
     "name": "stdout",
     "output_type": "stream",
     "text": [
      "              precision    recall  f1-score   support\n",
      "\n",
      "         0.0       0.87      0.85      0.86       450\n",
      "         1.0       0.83      0.94      0.88       630\n",
      "         2.0       0.87      0.67      0.76       150\n",
      "         3.0       0.98      0.92      0.95       420\n",
      "         4.0       0.89      0.95      0.92       690\n",
      "         5.0       0.96      0.98      0.97       720\n",
      "         6.0       0.99      0.88      0.93       270\n",
      "         7.0       0.69      0.48      0.57        60\n",
      "         8.0       0.94      0.94      0.94       690\n",
      "         9.0       0.95      0.67      0.78        90\n",
      "\n",
      "    accuracy                           0.91      4170\n",
      "   macro avg       0.90      0.83      0.86      4170\n",
      "weighted avg       0.91      0.91      0.91      4170\n",
      "\n"
     ]
    }
   ],
   "source": [
    "print(classification_report(y_test,labels))"
   ]
  },
  {
   "cell_type": "markdown",
   "metadata": {},
   "source": [
    "## Buiding MLP Architecture"
   ]
  },
  {
   "cell_type": "code",
   "execution_count": 18,
   "metadata": {},
   "outputs": [
    {
     "name": "stdout",
     "output_type": "stream",
     "text": [
      "(12660, 10)\n",
      "(4170, 10)\n"
     ]
    }
   ],
   "source": [
    "# Creating 10 bins for output\n",
    "y_train = to_categorical(y_train,10)\n",
    "y_test = to_categorical(y_test,10)\n",
    "\n",
    "print(y_train.shape) \n",
    "print(y_test.shape)"
   ]
  },
  {
   "cell_type": "code",
   "execution_count": 19,
   "metadata": {},
   "outputs": [],
   "source": [
    "# Specifying Sequential Model\n",
    "model = Sequential()"
   ]
  },
  {
   "cell_type": "code",
   "execution_count": 20,
   "metadata": {},
   "outputs": [],
   "source": [
    "# Dense Adds fully connected nodes in each layer \n",
    "\n",
    "# Input layer is the number of pixels & their values \n",
    "\n",
    "# Layer 1\n",
    "model.add(Dense(512, activation = 'relu',input_shape=(784,)))\n",
    "\n",
    "# Layer 2\n",
    "model.add(Dense(512, activation = 'relu'))\n",
    "\n",
    "#Output Layer\n",
    "model.add(Dense(10, activation = 'softmax'))\n"
   ]
  },
  {
   "cell_type": "markdown",
   "metadata": {},
   "source": [
    "## Compiling the model"
   ]
  },
  {
   "cell_type": "code",
   "execution_count": 21,
   "metadata": {},
   "outputs": [],
   "source": [
    "model.compile(optimizer='adam', loss='categorical_crossentropy', metrics = ['accuracy'])"
   ]
  },
  {
   "cell_type": "code",
   "execution_count": 22,
   "metadata": {},
   "outputs": [
    {
     "name": "stdout",
     "output_type": "stream",
     "text": [
      "Model: \"sequential_1\"\n",
      "_________________________________________________________________\n",
      "Layer (type)                 Output Shape              Param #   \n",
      "=================================================================\n",
      "dense_1 (Dense)              (None, 512)               401920    \n",
      "_________________________________________________________________\n",
      "dense_2 (Dense)              (None, 512)               262656    \n",
      "_________________________________________________________________\n",
      "dense_3 (Dense)              (None, 10)                5130      \n",
      "=================================================================\n",
      "Total params: 669,706\n",
      "Trainable params: 669,706\n",
      "Non-trainable params: 0\n",
      "_________________________________________________________________\n"
     ]
    }
   ],
   "source": [
    "model.summary()"
   ]
  },
  {
   "cell_type": "markdown",
   "metadata": {},
   "source": [
    "# Visualising ANN arcitecture. (Takes a long time to run!)"
   ]
  },
  {
   "cell_type": "code",
   "execution_count": 23,
   "metadata": {},
   "outputs": [],
   "source": [
    "# https://towardsdatascience.com/visualizing-artificial-neural-networks-anns-with-just-one-line-of-code-b4233607209e\n",
    "# from ann_visualizer.visualize import ann_viz;\n",
    "\n",
    "# ann_viz(model, title=\"My first neural network\")"
   ]
  },
  {
   "cell_type": "code",
   "execution_count": 24,
   "metadata": {},
   "outputs": [
    {
     "data": {
      "text/plain": [
       "(12660, 10)"
      ]
     },
     "execution_count": 24,
     "metadata": {},
     "output_type": "execute_result"
    }
   ],
   "source": [
    "y_train.shape"
   ]
  },
  {
   "cell_type": "markdown",
   "metadata": {},
   "source": [
    "## Training the Model"
   ]
  },
  {
   "cell_type": "code",
   "execution_count": 25,
   "metadata": {},
   "outputs": [
    {
     "name": "stdout",
     "output_type": "stream",
     "text": [
      "Train on 12660 samples, validate on 4170 samples\n",
      "Epoch 1/20\n",
      "12660/12660 [==============================] - 4s 318us/step - loss: 0.8357 - accuracy: 0.7324 - val_loss: 0.6874 - val_accuracy: 0.7532\n",
      "Epoch 2/20\n",
      "12660/12660 [==============================] - 4s 304us/step - loss: 0.3740 - accuracy: 0.8741 - val_loss: 0.4575 - val_accuracy: 0.8775\n",
      "Epoch 3/20\n",
      "12660/12660 [==============================] - 3s 256us/step - loss: 0.2880 - accuracy: 0.9070 - val_loss: 0.4985 - val_accuracy: 0.8760\n",
      "Epoch 4/20\n",
      "12660/12660 [==============================] - 3s 247us/step - loss: 0.2237 - accuracy: 0.9261 - val_loss: 0.4845 - val_accuracy: 0.8602\n",
      "Epoch 5/20\n",
      "12660/12660 [==============================] - 3s 242us/step - loss: 0.2116 - accuracy: 0.9326 - val_loss: 0.4659 - val_accuracy: 0.8933\n",
      "Epoch 6/20\n",
      "12660/12660 [==============================] - 3s 235us/step - loss: 0.1586 - accuracy: 0.9430 - val_loss: 0.3287 - val_accuracy: 0.9197\n",
      "Epoch 7/20\n",
      "12660/12660 [==============================] - 3s 240us/step - loss: 0.1381 - accuracy: 0.9564 - val_loss: 0.3320 - val_accuracy: 0.9170\n",
      "Epoch 8/20\n",
      "12660/12660 [==============================] - 3s 259us/step - loss: 0.1312 - accuracy: 0.9553 - val_loss: 0.5582 - val_accuracy: 0.8801\n",
      "Epoch 9/20\n",
      "12660/12660 [==============================] - 3s 236us/step - loss: 0.1248 - accuracy: 0.9590 - val_loss: 0.3594 - val_accuracy: 0.9199\n",
      "Epoch 10/20\n",
      "12660/12660 [==============================] - 3s 229us/step - loss: 0.1075 - accuracy: 0.9657 - val_loss: 0.4455 - val_accuracy: 0.9038\n",
      "Epoch 11/20\n",
      "12660/12660 [==============================] - 3s 228us/step - loss: 0.1122 - accuracy: 0.9633 - val_loss: 0.3696 - val_accuracy: 0.9151\n",
      "Epoch 12/20\n",
      "12660/12660 [==============================] - 3s 228us/step - loss: 0.0984 - accuracy: 0.9677 - val_loss: 0.3900 - val_accuracy: 0.9185\n",
      "Epoch 13/20\n",
      "12660/12660 [==============================] - 3s 246us/step - loss: 0.0749 - accuracy: 0.9737 - val_loss: 0.3534 - val_accuracy: 0.9233\n",
      "Epoch 14/20\n",
      "12660/12660 [==============================] - 3s 245us/step - loss: 0.0776 - accuracy: 0.9737 - val_loss: 0.4001 - val_accuracy: 0.9221\n",
      "Epoch 15/20\n",
      "12660/12660 [==============================] - 3s 226us/step - loss: 0.1059 - accuracy: 0.9667 - val_loss: 0.5531 - val_accuracy: 0.8866\n",
      "Epoch 16/20\n",
      "12660/12660 [==============================] - 3s 236us/step - loss: 0.0632 - accuracy: 0.9791 - val_loss: 0.5656 - val_accuracy: 0.8890\n",
      "Epoch 17/20\n",
      "12660/12660 [==============================] - 3s 230us/step - loss: 0.0596 - accuracy: 0.9808 - val_loss: 0.4168 - val_accuracy: 0.9137\n",
      "Epoch 18/20\n",
      "12660/12660 [==============================] - 3s 227us/step - loss: 0.0648 - accuracy: 0.9782 - val_loss: 0.5513 - val_accuracy: 0.9029\n",
      "Epoch 19/20\n",
      "12660/12660 [==============================] - 3s 227us/step - loss: 0.0653 - accuracy: 0.9784 - val_loss: 0.4388 - val_accuracy: 0.9173\n",
      "Epoch 20/20\n",
      "12660/12660 [==============================] - 3s 226us/step - loss: 0.0511 - accuracy: 0.9824 - val_loss: 0.4222 - val_accuracy: 0.9180\n"
     ]
    }
   ],
   "source": [
    "trained_network_output = model.fit(x_train,y_train, epochs = 20, validation_data = (x_test, y_test))"
   ]
  },
  {
   "cell_type": "markdown",
   "metadata": {},
   "source": [
    "# Evaluation"
   ]
  },
  {
   "cell_type": "markdown",
   "metadata": {},
   "source": [
    "### Accuracy of training model"
   ]
  },
  {
   "cell_type": "code",
   "execution_count": 26,
   "metadata": {},
   "outputs": [
    {
     "data": {
      "text/plain": [
       "[<matplotlib.lines.Line2D at 0x7fa8681de2d0>]"
      ]
     },
     "execution_count": 26,
     "metadata": {},
     "output_type": "execute_result"
    },
    {
     "data": {
      "image/png": "[encoded data removed]",
      "text/plain": [
       "<Figure size 432x288 with 1 Axes>"
      ]
     },
     "metadata": {
      "needs_background": "light"
     },
     "output_type": "display_data"
    }
   ],
   "source": [
    "plt.plot(trained_network_output.history['accuracy'])"
   ]
  },
  {
   "cell_type": "markdown",
   "metadata": {},
   "source": [
    "### Accuracy of training and validation set"
   ]
  },
  {
   "cell_type": "code",
   "execution_count": 27,
   "metadata": {},
   "outputs": [
    {
     "data": {
      "text/plain": [
       "[<matplotlib.lines.Line2D at 0x7fa8681a2e90>]"
      ]
     },
     "execution_count": 27,
     "metadata": {},
     "output_type": "execute_result"
    },
    {
     "data": {
      "image/png": "[encoded data removed]",
      "text/plain": [
       "<Figure size 432x288 with 1 Axes>"
      ]
     },
     "metadata": {
      "needs_background": "light"
     },
     "output_type": "display_data"
    }
   ],
   "source": [
    "plt.plot(trained_network_output.history['accuracy'])\n",
    "plt.plot(trained_network_output.history['val_accuracy'])"
   ]
  },
  {
   "cell_type": "code",
   "execution_count": 28,
   "metadata": {},
   "outputs": [
    {
     "name": "stdout",
     "output_type": "stream",
     "text": [
      "4170/4170 [==============================] - 0s 37us/step\n"
     ]
    }
   ],
   "source": [
    "# Evalutation the model\n",
    "score = model.evaluate(x_test, y_test)"
   ]
  },
  {
   "cell_type": "code",
   "execution_count": 29,
   "metadata": {},
   "outputs": [
    {
     "data": {
      "text/plain": [
       "[0.42221398572805974, 0.9179856181144714]"
      ]
     },
     "execution_count": 29,
     "metadata": {},
     "output_type": "execute_result"
    }
   ],
   "source": [
    "score\n",
    "# 90% accuaracy!!!"
   ]
  },
  {
   "cell_type": "markdown",
   "metadata": {},
   "source": [
    "## 10-fold cross valiadation"
   ]
  },
  {
   "cell_type": "code",
   "execution_count": 30,
   "metadata": {},
   "outputs": [],
   "source": [
    "def construct_new_model():\n",
    "    model = Sequential()\n",
    "    # Dense Adds fully connected nodes in each layer \n",
    "\n",
    "    # Input layer is the number of pixels & their values \n",
    "\n",
    "    # Layer 1\n",
    "    model.add(Dense(512, activation = 'relu',input_shape=(784,)))\n",
    "\n",
    "    # Layer 2\n",
    "    model.add(Dense(512, activation = 'relu'))\n",
    "    \n",
    "    #Output Layer\n",
    "    model.add(Dense(10, activation = 'softmax'))\n",
    "    \n",
    "    model.compile(optimizer='adam', loss='categorical_crossentropy', metrics = ['accuracy'])\n",
    "    \n",
    "    return model\n",
    "\n",
    "    "
   ]
  },
  {
   "cell_type": "code",
   "execution_count": 31,
   "metadata": {},
   "outputs": [],
   "source": [
    "# Uniformly separates classes in folds: See video @12:00 https://www.youtube.com/watch?v=gJo0uNL-5Qw\n",
    "# Proportion of classes is same accross all folds\n",
    "from sklearn.model_selection import StratifiedKFold\n",
    "skf = StratifiedKFold(n_splits=10, random_state=None, shuffle=False)"
   ]
  },
  {
   "cell_type": "code",
   "execution_count": 32,
   "metadata": {},
   "outputs": [],
   "source": [
    "# https://www.youtube.com/watch?v=gJo0uNL-5Qw - Used to make code more concise \n",
    "def get_score(model, x_train, x_test, y_train, y_test):\n",
    "    model.fit(x_train, y_train, epochs = 5, validation_data = (x_test, y_test))\n",
    "    return model.evaluate(x_test, y_test)"
   ]
  },
  {
   "cell_type": "code",
   "execution_count": 33,
   "metadata": {},
   "outputs": [],
   "source": [
    "def get_network_output(model, x_train, x_test, y_train, y_test):\n",
    "    x = model.fit(x_train, y_train, epochs = 20, validation_data = (x_test, y_test))\n",
    "    return x"
   ]
  },
  {
   "cell_type": "code",
   "execution_count": 34,
   "metadata": {},
   "outputs": [],
   "source": [
    "ScoreArray = []"
   ]
  },
  {
   "cell_type": "code",
   "execution_count": 35,
   "metadata": {},
   "outputs": [
    {
     "name": "stdout",
     "output_type": "stream",
     "text": [
      "Train on 11394 samples, validate on 1266 samples\n",
      "Epoch 1/5\n",
      "11394/11394 [==============================] - 3s 271us/step - loss: 0.8595 - accuracy: 0.7255 - val_loss: 0.6052 - val_accuracy: 0.7844\n",
      "Epoch 2/5\n",
      "11394/11394 [==============================] - 3s 274us/step - loss: 0.4041 - accuracy: 0.8672 - val_loss: 0.2851 - val_accuracy: 0.9100\n",
      "Epoch 3/5\n",
      "11394/11394 [==============================] - 3s 275us/step - loss: 0.3017 - accuracy: 0.9042 - val_loss: 0.4814 - val_accuracy: 0.8333\n",
      "Epoch 4/5\n",
      "11394/11394 [==============================] - 3s 268us/step - loss: 0.2526 - accuracy: 0.9232 - val_loss: 0.1905 - val_accuracy: 0.9392\n",
      "Epoch 5/5\n",
      "11394/11394 [==============================] - 3s 268us/step - loss: 0.2188 - accuracy: 0.9299 - val_loss: 0.2120 - val_accuracy: 0.9376\n",
      "1266/1266 [==============================] - 0s 65us/step\n",
      "Train on 11394 samples, validate on 1266 samples\n",
      "Epoch 1/5\n",
      "11394/11394 [==============================] - 3s 282us/step - loss: 0.8779 - accuracy: 0.7258 - val_loss: 0.9700 - val_accuracy: 0.7006\n",
      "Epoch 2/5\n",
      "11394/11394 [==============================] - 3s 264us/step - loss: 0.4356 - accuracy: 0.8583 - val_loss: 0.3179 - val_accuracy: 0.9060\n",
      "Epoch 3/5\n",
      "11394/11394 [==============================] - 3s 264us/step - loss: 0.3141 - accuracy: 0.9007 - val_loss: 0.3751 - val_accuracy: 0.8807\n",
      "Epoch 4/5\n",
      "11394/11394 [==============================] - 3s 269us/step - loss: 0.2347 - accuracy: 0.9232 - val_loss: 0.2484 - val_accuracy: 0.9218\n",
      "Epoch 5/5\n",
      "11394/11394 [==============================] - 3s 271us/step - loss: 0.2119 - accuracy: 0.9326 - val_loss: 0.2832 - val_accuracy: 0.9021\n",
      "1266/1266 [==============================] - 0s 64us/step\n",
      "Train on 11394 samples, validate on 1266 samples\n",
      "Epoch 1/5\n",
      "11394/11394 [==============================] - 3s 280us/step - loss: 0.9274 - accuracy: 0.7019 - val_loss: 0.4527 - val_accuracy: 0.8752\n",
      "Epoch 2/5\n",
      "11394/11394 [==============================] - 3s 263us/step - loss: 0.3988 - accuracy: 0.8673 - val_loss: 0.4451 - val_accuracy: 0.8278\n",
      "Epoch 3/5\n",
      "11394/11394 [==============================] - 3s 265us/step - loss: 0.2946 - accuracy: 0.9018 - val_loss: 0.3205 - val_accuracy: 0.8878\n",
      "Epoch 4/5\n",
      "11394/11394 [==============================] - 3s 266us/step - loss: 0.2439 - accuracy: 0.9217 - val_loss: 0.4085 - val_accuracy: 0.8839\n",
      "Epoch 5/5\n",
      "11394/11394 [==============================] - 3s 284us/step - loss: 0.2193 - accuracy: 0.9289 - val_loss: 0.1953 - val_accuracy: 0.9384\n",
      "1266/1266 [==============================] - 0s 64us/step\n",
      "Train on 11394 samples, validate on 1266 samples\n",
      "Epoch 1/5\n",
      "11394/11394 [==============================] - 3s 292us/step - loss: 0.9154 - accuracy: 0.7055 - val_loss: 0.6686 - val_accuracy: 0.7986\n",
      "Epoch 2/5\n",
      "11394/11394 [==============================] - 3s 270us/step - loss: 0.3963 - accuracy: 0.8663 - val_loss: 0.3307 - val_accuracy: 0.8886\n",
      "Epoch 3/5\n",
      "11394/11394 [==============================] - 3s 262us/step - loss: 0.2930 - accuracy: 0.9012 - val_loss: 0.3225 - val_accuracy: 0.8870\n",
      "Epoch 4/5\n",
      "11394/11394 [==============================] - 3s 272us/step - loss: 0.2474 - accuracy: 0.9173 - val_loss: 0.2385 - val_accuracy: 0.9147\n",
      "Epoch 5/5\n",
      "11394/11394 [==============================] - 3s 269us/step - loss: 0.2035 - accuracy: 0.9345 - val_loss: 0.2645 - val_accuracy: 0.9234\n",
      "1266/1266 [==============================] - 0s 67us/step\n",
      "Train on 11394 samples, validate on 1266 samples\n",
      "Epoch 1/5\n",
      "11394/11394 [==============================] - 3s 293us/step - loss: 0.8565 - accuracy: 0.7326 - val_loss: 0.5938 - val_accuracy: 0.8120\n",
      "Epoch 2/5\n",
      "11394/11394 [==============================] - 3s 269us/step - loss: 0.4216 - accuracy: 0.8619 - val_loss: 0.8480 - val_accuracy: 0.7346\n",
      "Epoch 3/5\n",
      "11394/11394 [==============================] - 3s 266us/step - loss: 0.3215 - accuracy: 0.8946 - val_loss: 0.2240 - val_accuracy: 0.9313\n",
      "Epoch 4/5\n",
      "11394/11394 [==============================] - 3s 266us/step - loss: 0.2418 - accuracy: 0.9219 - val_loss: 0.3771 - val_accuracy: 0.8847\n",
      "Epoch 5/5\n",
      "11394/11394 [==============================] - 3s 264us/step - loss: 0.2078 - accuracy: 0.9358 - val_loss: 0.2274 - val_accuracy: 0.9289\n",
      "1266/1266 [==============================] - 0s 65us/step\n",
      "Train on 11394 samples, validate on 1266 samples\n",
      "Epoch 1/5\n",
      "11394/11394 [==============================] - 3s 294us/step - loss: 0.8736 - accuracy: 0.7191 - val_loss: 0.4895 - val_accuracy: 0.8286\n",
      "Epoch 2/5\n",
      "11394/11394 [==============================] - 3s 290us/step - loss: 0.4022 - accuracy: 0.8677 - val_loss: 0.2605 - val_accuracy: 0.9060\n",
      "Epoch 3/5\n",
      "11394/11394 [==============================] - 3s 276us/step - loss: 0.2946 - accuracy: 0.9024 - val_loss: 0.3626 - val_accuracy: 0.8673\n",
      "Epoch 4/5\n",
      "11394/11394 [==============================] - 3s 277us/step - loss: 0.2413 - accuracy: 0.9200 - val_loss: 0.1803 - val_accuracy: 0.9289\n",
      "Epoch 5/5\n",
      "11394/11394 [==============================] - 3s 279us/step - loss: 0.2106 - accuracy: 0.9311 - val_loss: 0.6218 - val_accuracy: 0.7954\n",
      "1266/1266 [==============================] - 0s 69us/step\n",
      "Train on 11394 samples, validate on 1266 samples\n",
      "Epoch 1/5\n",
      "11394/11394 [==============================] - 3s 302us/step - loss: 0.8702 - accuracy: 0.7254 - val_loss: 0.4741 - val_accuracy: 0.8468\n",
      "Epoch 2/5\n",
      "11394/11394 [==============================] - 3s 281us/step - loss: 0.3936 - accuracy: 0.8674 - val_loss: 0.2982 - val_accuracy: 0.9036\n",
      "Epoch 3/5\n",
      "11394/11394 [==============================] - 3s 274us/step - loss: 0.3295 - accuracy: 0.8903 - val_loss: 0.2076 - val_accuracy: 0.9431\n",
      "Epoch 4/5\n",
      "11394/11394 [==============================] - 3s 271us/step - loss: 0.2328 - accuracy: 0.9272 - val_loss: 0.2439 - val_accuracy: 0.9273\n",
      "Epoch 5/5\n",
      "11394/11394 [==============================] - 3s 268us/step - loss: 0.1886 - accuracy: 0.9394 - val_loss: 0.5058 - val_accuracy: 0.8539\n",
      "1266/1266 [==============================] - 0s 64us/step\n",
      "Train on 11394 samples, validate on 1266 samples\n",
      "Epoch 1/5\n",
      "11394/11394 [==============================] - 3s 295us/step - loss: 0.8845 - accuracy: 0.7177 - val_loss: 0.5185 - val_accuracy: 0.8270\n",
      "Epoch 2/5\n",
      "11394/11394 [==============================] - 3s 276us/step - loss: 0.3996 - accuracy: 0.8670 - val_loss: 0.4030 - val_accuracy: 0.8768\n",
      "Epoch 3/5\n",
      "11394/11394 [==============================] - 3s 274us/step - loss: 0.3292 - accuracy: 0.8899 - val_loss: 0.3493 - val_accuracy: 0.8949\n",
      "Epoch 4/5\n",
      "11394/11394 [==============================] - 3s 269us/step - loss: 0.2461 - accuracy: 0.9210 - val_loss: 0.2298 - val_accuracy: 0.9352\n",
      "Epoch 5/5\n",
      "11394/11394 [==============================] - 3s 276us/step - loss: 0.2227 - accuracy: 0.9250 - val_loss: 0.1802 - val_accuracy: 0.9392\n",
      "1266/1266 [==============================] - 0s 67us/step\n",
      "Train on 11394 samples, validate on 1266 samples\n",
      "Epoch 1/5\n",
      "11394/11394 [==============================] - 4s 339us/step - loss: 0.8661 - accuracy: 0.7237 - val_loss: 0.4354 - val_accuracy: 0.8460\n",
      "Epoch 2/5\n",
      "11394/11394 [==============================] - 4s 359us/step - loss: 0.3947 - accuracy: 0.8673 - val_loss: 0.2554 - val_accuracy: 0.9218\n",
      "Epoch 3/5\n",
      "11394/11394 [==============================] - 4s 351us/step - loss: 0.3136 - accuracy: 0.8982 - val_loss: 0.3973 - val_accuracy: 0.8539\n",
      "Epoch 4/5\n",
      "11394/11394 [==============================] - 4s 367us/step - loss: 0.2191 - accuracy: 0.9291 - val_loss: 0.3209 - val_accuracy: 0.8839\n",
      "Epoch 5/5\n",
      "11394/11394 [==============================] - 4s 358us/step - loss: 0.2352 - accuracy: 0.9254 - val_loss: 0.2811 - val_accuracy: 0.9147\n",
      "1266/1266 [==============================] - 0s 96us/step\n",
      "Train on 11394 samples, validate on 1266 samples\n",
      "Epoch 1/5\n",
      "11394/11394 [==============================] - 4s 360us/step - loss: 0.8835 - accuracy: 0.7227 - val_loss: 0.5243 - val_accuracy: 0.8515\n",
      "Epoch 2/5\n",
      "11394/11394 [==============================] - 5s 396us/step - loss: 0.4071 - accuracy: 0.8687 - val_loss: 0.4692 - val_accuracy: 0.8302\n",
      "Epoch 3/5\n",
      "11394/11394 [==============================] - 4s 376us/step - loss: 0.3147 - accuracy: 0.8931 - val_loss: 0.2888 - val_accuracy: 0.9147\n",
      "Epoch 4/5\n",
      "11394/11394 [==============================] - 4s 360us/step - loss: 0.2294 - accuracy: 0.9233 - val_loss: 0.4266 - val_accuracy: 0.8791\n"
     ]
    },
    {
     "name": "stdout",
     "output_type": "stream",
     "text": [
      "Epoch 5/5\n",
      "11394/11394 [==============================] - 4s 336us/step - loss: 0.2206 - accuracy: 0.9278 - val_loss: 0.2212 - val_accuracy: 0.9281\n",
      "1266/1266 [==============================] - 0s 73us/step\n"
     ]
    }
   ],
   "source": [
    "#https://stackoverflow.com/questions/48508036/sklearn-stratifiedkfold-valueerror-supported-target-types-are-binary-mul\n",
    "for i, (train_index, test_index) in enumerate(skf.split(x_train, y_train.argmax(1))):\n",
    "    x_train_kf, x_test_kf = x_train[train_index], x_train[test_index]\n",
    "    y_train_kf, y_test_kf = y_train[train_index], y_train[test_index]\n",
    "    ScoreArray.append(get_score(construct_new_model(), x_train_kf, x_test_kf, y_train_kf, y_test_kf))\n",
    "    #ScoreArray.append(get_score(model, x_train_kf, x_test_kf, y_train_kf, y_test_kf))\n"
   ]
  },
  {
   "cell_type": "code",
   "execution_count": 36,
   "metadata": {},
   "outputs": [
    {
     "data": {
      "text/plain": [
       "array([[0.93759876],\n",
       "       [0.90205371],\n",
       "       [0.93838865],\n",
       "       [0.92338073],\n",
       "       [0.92890996],\n",
       "       [0.79541862],\n",
       "       [0.85387045],\n",
       "       [0.93917853],\n",
       "       [0.91469193],\n",
       "       [0.92812008]])"
      ]
     },
     "execution_count": 36,
     "metadata": {},
     "output_type": "execute_result"
    }
   ],
   "source": [
    "ScoreArray = np.array(ScoreArray)\n",
    "ScoreArray[:,1:2]"
   ]
  },
  {
   "cell_type": "code",
   "execution_count": 37,
   "metadata": {},
   "outputs": [
    {
     "name": "stdout",
     "output_type": "stream",
     "text": [
      "0.9061611413955688\n"
     ]
    }
   ],
   "source": [
    "# Average accuracy across the 10 folds\n",
    "print(np.mean(ScoreArray[:,1:2]))"
   ]
  },
  {
   "cell_type": "markdown",
   "metadata": {},
   "source": [
    "# Moving 4000 images from training to test set"
   ]
  },
  {
   "cell_type": "code",
   "execution_count": 38,
   "metadata": {},
   "outputs": [
    {
     "name": "stdout",
     "output_type": "stream",
     "text": [
      "(12660, 784)\n",
      "(12660, 10)\n",
      "(4170, 784)\n",
      "(4170, 10)\n"
     ]
    }
   ],
   "source": [
    "# Check data has been imported correctly \n",
    "print(x_train.shape)\n",
    "print(y_train.shape)\n",
    "print(x_test.shape)\n",
    "print(y_test.shape)"
   ]
  },
  {
   "cell_type": "code",
   "execution_count": 39,
   "metadata": {},
   "outputs": [],
   "source": [
    "x_train_new = x_train[0:8660,:]\n",
    "y_train_new = y_train[0:8660,:]\n",
    "\n",
    "x_temp = x_train[8660:12660,:]\n",
    "y_temp = y_train[8660:12660,:]\n",
    "\n",
    "x_test_new = np.concatenate((x_test, x_temp))\n",
    "y_test_new = np.concatenate((y_test, y_temp))\n",
    "\n",
    "\n",
    "\n"
   ]
  },
  {
   "cell_type": "code",
   "execution_count": 40,
   "metadata": {},
   "outputs": [
    {
     "name": "stdout",
     "output_type": "stream",
     "text": [
      "Train on 8660 samples, validate on 8170 samples\n",
      "Epoch 1/20\n",
      "8660/8660 [==============================] - 3s 397us/step - loss: 1.0052 - accuracy: 0.6838 - val_loss: 0.5202 - val_accuracy: 0.8186\n",
      "Epoch 2/20\n",
      "8660/8660 [==============================] - 3s 384us/step - loss: 0.4302 - accuracy: 0.8587 - val_loss: 0.5772 - val_accuracy: 0.8022\n",
      "Epoch 3/20\n",
      "8660/8660 [==============================] - 3s 375us/step - loss: 0.3303 - accuracy: 0.8860 - val_loss: 0.9495 - val_accuracy: 0.7636\n",
      "Epoch 4/20\n",
      "8660/8660 [==============================] - 3s 373us/step - loss: 0.2700 - accuracy: 0.9114 - val_loss: 0.4145 - val_accuracy: 0.8705\n",
      "Epoch 5/20\n",
      "8660/8660 [==============================] - 3s 375us/step - loss: 0.2551 - accuracy: 0.9137 - val_loss: 0.2861 - val_accuracy: 0.9131\n",
      "Epoch 6/20\n",
      "8660/8660 [==============================] - 3s 388us/step - loss: 0.2075 - accuracy: 0.9315 - val_loss: 0.3250 - val_accuracy: 0.9064\n",
      "Epoch 7/20\n",
      "8660/8660 [==============================] - 4s 435us/step - loss: 0.1742 - accuracy: 0.9388 - val_loss: 0.2897 - val_accuracy: 0.9184\n",
      "Epoch 8/20\n",
      "8660/8660 [==============================] - 3s 385us/step - loss: 0.1499 - accuracy: 0.9517 - val_loss: 0.3941 - val_accuracy: 0.9076\n",
      "Epoch 9/20\n",
      "8660/8660 [==============================] - 4s 424us/step - loss: 0.1657 - accuracy: 0.9475 - val_loss: 0.2696 - val_accuracy: 0.9301\n",
      "Epoch 10/20\n",
      "8660/8660 [==============================] - 4s 407us/step - loss: 0.0932 - accuracy: 0.9710 - val_loss: 0.3054 - val_accuracy: 0.9212\n",
      "Epoch 11/20\n",
      "8660/8660 [==============================] - 4s 420us/step - loss: 0.1374 - accuracy: 0.9561 - val_loss: 0.3109 - val_accuracy: 0.9273\n",
      "Epoch 12/20\n",
      "8660/8660 [==============================] - 3s 386us/step - loss: 0.1061 - accuracy: 0.9637 - val_loss: 0.9217 - val_accuracy: 0.8497\n",
      "Epoch 13/20\n",
      "8660/8660 [==============================] - 3s 403us/step - loss: 0.1211 - accuracy: 0.9626 - val_loss: 0.4151 - val_accuracy: 0.8800\n",
      "Epoch 14/20\n",
      "8660/8660 [==============================] - 4s 406us/step - loss: 0.1099 - accuracy: 0.9620 - val_loss: 0.2709 - val_accuracy: 0.9319\n",
      "Epoch 15/20\n",
      "8660/8660 [==============================] - 4s 419us/step - loss: 0.1108 - accuracy: 0.9639 - val_loss: 0.2759 - val_accuracy: 0.9339\n",
      "Epoch 16/20\n",
      "8660/8660 [==============================] - 3s 402us/step - loss: 0.0821 - accuracy: 0.9727 - val_loss: 0.2524 - val_accuracy: 0.9350\n",
      "Epoch 17/20\n",
      "8660/8660 [==============================] - 3s 399us/step - loss: 0.0677 - accuracy: 0.9773 - val_loss: 0.3019 - val_accuracy: 0.9422\n",
      "Epoch 18/20\n",
      "8660/8660 [==============================] - 4s 404us/step - loss: 0.0667 - accuracy: 0.9773 - val_loss: 0.3201 - val_accuracy: 0.9364\n",
      "Epoch 19/20\n",
      "8660/8660 [==============================] - 3s 382us/step - loss: 0.0886 - accuracy: 0.9704 - val_loss: 0.3240 - val_accuracy: 0.9329\n",
      "Epoch 20/20\n",
      "8660/8660 [==============================] - 3s 388us/step - loss: 0.0546 - accuracy: 0.9830 - val_loss: 0.2782 - val_accuracy: 0.9393\n"
     ]
    }
   ],
   "source": [
    "test = get_network_output(construct_new_model(), x_train_new, x_test_new, y_train_new, y_test_new)"
   ]
  },
  {
   "cell_type": "code",
   "execution_count": 41,
   "metadata": {},
   "outputs": [
    {
     "data": {
      "text/plain": [
       "[<matplotlib.lines.Line2D at 0x7fa7f291e250>]"
      ]
     },
     "execution_count": 41,
     "metadata": {},
     "output_type": "execute_result"
    },
    {
     "data": {
      "image/png": "[encoded data removed]",
      "text/plain": [
       "<Figure size 432x288 with 1 Axes>"
      ]
     },
     "metadata": {
      "needs_background": "light"
     },
     "output_type": "display_data"
    }
   ],
   "source": [
    "plt.plot(test.history['accuracy'])\n",
    "plt.plot(test.history['val_accuracy'])"
   ]
  },
  {
   "cell_type": "markdown",
   "metadata": {},
   "source": [
    "# Moving 9000 images from training to test set\n"
   ]
  },
  {
   "cell_type": "code",
   "execution_count": 42,
   "metadata": {},
   "outputs": [],
   "source": [
    "x_train_new = x_train[0:6660,:]\n",
    "y_train_new = y_train[0:6660,:]\n",
    "\n",
    "x_temp = x_train[6660:12660,:]\n",
    "y_temp = y_train[6660:12660,:]\n",
    "\n",
    "x_test_new = np.concatenate((x_test, x_temp))\n",
    "y_test_new = np.concatenate((y_test, y_temp))"
   ]
  },
  {
   "cell_type": "code",
   "execution_count": 43,
   "metadata": {},
   "outputs": [
    {
     "name": "stdout",
     "output_type": "stream",
     "text": [
      "Train on 6660 samples, validate on 10170 samples\n",
      "Epoch 1/20\n",
      "6660/6660 [==============================] - 3s 450us/step - loss: 1.1505 - accuracy: 0.6339 - val_loss: 0.8409 - val_accuracy: 0.7175\n",
      "Epoch 2/20\n",
      "6660/6660 [==============================] - 3s 422us/step - loss: 0.5141 - accuracy: 0.8276 - val_loss: 0.5633 - val_accuracy: 0.7997\n",
      "Epoch 3/20\n",
      "6660/6660 [==============================] - 3s 423us/step - loss: 0.3795 - accuracy: 0.8734 - val_loss: 0.4135 - val_accuracy: 0.8708\n",
      "Epoch 4/20\n",
      "6660/6660 [==============================] - 3s 469us/step - loss: 0.3258 - accuracy: 0.8926 - val_loss: 0.3577 - val_accuracy: 0.9002\n",
      "Epoch 5/20\n",
      "6660/6660 [==============================] - 4s 542us/step - loss: 0.2543 - accuracy: 0.9221 - val_loss: 0.3386 - val_accuracy: 0.9032\n",
      "Epoch 6/20\n",
      "6660/6660 [==============================] - 4s 529us/step - loss: 0.2182 - accuracy: 0.9302 - val_loss: 0.3350 - val_accuracy: 0.9099\n",
      "Epoch 7/20\n",
      "6660/6660 [==============================] - 4s 586us/step - loss: 0.2223 - accuracy: 0.9285 - val_loss: 0.3721 - val_accuracy: 0.8912\n",
      "Epoch 8/20\n",
      "6660/6660 [==============================] - 3s 487us/step - loss: 0.1780 - accuracy: 0.9434 - val_loss: 0.3606 - val_accuracy: 0.8934\n",
      "Epoch 9/20\n",
      "6660/6660 [==============================] - 4s 528us/step - loss: 0.1645 - accuracy: 0.9471 - val_loss: 0.2589 - val_accuracy: 0.9280\n",
      "Epoch 10/20\n",
      "6660/6660 [==============================] - 3s 507us/step - loss: 0.1354 - accuracy: 0.9563 - val_loss: 0.7017 - val_accuracy: 0.8405\n",
      "Epoch 11/20\n",
      "6660/6660 [==============================] - 3s 430us/step - loss: 0.1556 - accuracy: 0.9486 - val_loss: 0.3714 - val_accuracy: 0.9003\n",
      "Epoch 12/20\n",
      "6660/6660 [==============================] - 3s 430us/step - loss: 0.1165 - accuracy: 0.9643 - val_loss: 0.7042 - val_accuracy: 0.8344\n",
      "Epoch 13/20\n",
      "6660/6660 [==============================] - 3s 429us/step - loss: 0.1566 - accuracy: 0.9521 - val_loss: 0.3346 - val_accuracy: 0.9066\n",
      "Epoch 14/20\n",
      "6660/6660 [==============================] - 3s 433us/step - loss: 0.1002 - accuracy: 0.9689 - val_loss: 0.3591 - val_accuracy: 0.9116\n",
      "Epoch 15/20\n",
      "6660/6660 [==============================] - 3s 432us/step - loss: 0.1324 - accuracy: 0.9584 - val_loss: 0.2717 - val_accuracy: 0.9269\n",
      "Epoch 16/20\n",
      "6660/6660 [==============================] - 3s 437us/step - loss: 0.0941 - accuracy: 0.9706 - val_loss: 0.2599 - val_accuracy: 0.9397\n",
      "Epoch 17/20\n",
      "6660/6660 [==============================] - 3s 472us/step - loss: 0.0790 - accuracy: 0.9730 - val_loss: 0.2201 - val_accuracy: 0.9479\n",
      "Epoch 18/20\n",
      "6660/6660 [==============================] - 3s 504us/step - loss: 0.0888 - accuracy: 0.9695 - val_loss: 0.2275 - val_accuracy: 0.9500\n",
      "Epoch 19/20\n",
      "6660/6660 [==============================] - 3s 435us/step - loss: 0.0807 - accuracy: 0.9743 - val_loss: 0.2429 - val_accuracy: 0.9416\n",
      "Epoch 20/20\n",
      "6660/6660 [==============================] - 3s 437us/step - loss: 0.0944 - accuracy: 0.9703 - val_loss: 0.1947 - val_accuracy: 0.9541\n"
     ]
    }
   ],
   "source": [
    "test2 = get_network_output(construct_new_model(), x_train_new, x_test_new, y_train_new, y_test_new)"
   ]
  },
  {
   "cell_type": "code",
   "execution_count": 44,
   "metadata": {},
   "outputs": [
    {
     "data": {
      "text/plain": [
       "[<matplotlib.lines.Line2D at 0x7fa7f18c1410>]"
      ]
     },
     "execution_count": 44,
     "metadata": {},
     "output_type": "execute_result"
    },
    {
     "data": {
      "image/png": "[encoded data removed]",
      "text/plain": [
       "<Figure size 432x288 with 1 Axes>"
      ]
     },
     "metadata": {
      "needs_background": "light"
     },
     "output_type": "display_data"
    }
   ],
   "source": [
    "plt.plot(test2.history['accuracy'])\n",
    "plt.plot(test2.history['val_accuracy'])"
   ]
  },
  {
   "cell_type": "code",
   "execution_count": null,
   "metadata": {},
   "outputs": [],
   "source": []
  }
 ],
 "metadata": {
  "kernelspec": {
   "display_name": "Python 3",
   "language": "python",
   "name": "python3"
  },
  "language_info": {
   "codemirror_mode": {
    "name": "ipython",
    "version": 3
   },
   "file_extension": ".py",
   "mimetype": "text/x-python",
   "name": "python",
   "nbconvert_exporter": "python",
   "pygments_lexer": "ipython3",
   "version": "3.7.4"
  }
 },
 "nbformat": 4,
 "nbformat_minor": 2
}
