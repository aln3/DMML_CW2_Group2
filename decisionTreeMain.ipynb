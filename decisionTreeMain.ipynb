{
 "cells": [
  {
   "cell_type": "markdown",
   "metadata": {},
   "source": [
    "## Imports"
   ]
  },
  {
   "cell_type": "code",
   "execution_count": 1,
   "metadata": {},
   "outputs": [],
   "source": [
    "\n",
    "import random\n",
    "import numpy as np\n",
    "import matplotlib.pyplot as plt\n",
    "import pandas as pd\n",
    "import seaborn as sns\n",
    "import time\n",
    "import cv2\n",
    "\n",
    "from numpy import genfromtxt\n",
    "from sklearn.feature_selection import SelectKBest\n",
    "from sklearn.feature_selection import chi2\n",
    "from sklearn.feature_selection import f_regression\n",
    "from sklearn.metrics import accuracy_score\n",
    "from sklearn.metrics import confusion_matrix, classification_report\n",
    "from sklearn import metrics\n",
    "from sklearn import tree\n",
    "from sklearn import preprocessing\n",
    "from sklearn.model_selection import *\n",
    "import graphviz \n",
    "from mpl_toolkits.mplot3d import Axes3D\n",
    "\n",
    "#----------------------------------------------------------------\n",
    "\n",
    "import numpy as np\n",
    "import matplotlib.pyplot as plt\n",
    "%matplotlib inline\n",
    "\n",
    "\n",
    "\n",
    "num_pixels = 16\n",
    "%matplotlib inline"
   ]
  },
  {
   "cell_type": "code",
   "execution_count": 2,
   "metadata": {},
   "outputs": [],
   "source": [
    "# Importing training  data from CSV files\n",
    "x_train = genfromtxt('x_train_gr_smpl.csv', delimiter=',', skip_header =1)\n",
    "y_train = genfromtxt('y_train_smpl.csv', delimiter=',', skip_header =1 )"
   ]
  },
  {
   "cell_type": "code",
   "execution_count": 3,
   "metadata": {},
   "outputs": [],
   "source": [
    "# Importing testing data from CSV files\n",
    "x_test = genfromtxt('x_test_gr_smpl.csv', delimiter=',', skip_header =1)\n",
    "y_test = genfromtxt('y_test_smpl.csv', delimiter=',', skip_header =1 )\n"
   ]
  },
  {
   "cell_type": "code",
   "execution_count": 4,
   "metadata": {},
   "outputs": [
    {
     "name": "stdout",
     "output_type": "stream",
     "text": [
      "60\n",
      "4170\n"
     ]
    }
   ],
   "source": [
    "count = 0\n",
    "for x in y_test:\n",
    "    if x == 7:\n",
    "        count +=1\n",
    "print(count)\n",
    "print(len(y_test))"
   ]
  },
  {
   "cell_type": "code",
   "execution_count": 5,
   "metadata": {},
   "outputs": [
    {
     "name": "stdout",
     "output_type": "stream",
     "text": [
      "(12660, 2304)\n",
      "(12660,)\n",
      "(4170, 2304)\n",
      "(4170,)\n"
     ]
    }
   ],
   "source": [
    "# Check data has been imported correctly \n",
    "print(x_train.shape)\n",
    "print(y_train.shape)\n",
    "print(x_test.shape)\n",
    "print(y_test.shape)"
   ]
  },
  {
   "cell_type": "markdown",
   "metadata": {},
   "source": [
    "## Preprocessing"
   ]
  },
  {
   "cell_type": "code",
   "execution_count": 6,
   "metadata": {},
   "outputs": [],
   "source": [
    "# Combinging data with labels\n",
    "\n",
    "y_train = y_train.reshape(12660,1)\n",
    "train_data_combined = np.append(x_train, y_train, axis=1)\n",
    "\n",
    "y_test = y_test.reshape(4170,1)\n",
    "test_data_combined = np.append(x_test, y_test, axis=1)\n"
   ]
  },
  {
   "cell_type": "code",
   "execution_count": 7,
   "metadata": {},
   "outputs": [],
   "source": [
    "# Randomises row order in a reproducable way \n",
    "np.random.seed(0)\n",
    "np.random.shuffle(train_data_combined)\n",
    "np.random.shuffle(test_data_combined)"
   ]
  },
  {
   "cell_type": "code",
   "execution_count": 8,
   "metadata": {},
   "outputs": [],
   "source": [
    "# Split data and lables that have undergone the same randomization process\n",
    "x_train = train_data_combined[:,:-1]\n",
    "y_train = train_data_combined[:, [-1]].reshape(12660,)\n",
    "\n",
    "x_test = test_data_combined[:,:-1]\n",
    "y_test = test_data_combined[:, [-1]].reshape(4170,)\n"
   ]
  },
  {
   "cell_type": "code",
   "execution_count": 9,
   "metadata": {},
   "outputs": [],
   "source": [
    "# Normalisation of pixels\n",
    "x_train = x_train.astype('float')/255\n",
    "x_test  = x_test.astype('float')/255"
   ]
  },
  {
   "cell_type": "code",
   "execution_count": 10,
   "metadata": {},
   "outputs": [],
   "source": [
    "#  Reducing the number of attributes using opencv's reduce functionality as shown in the second python Lecture\n",
    "#  As seen in python lectures: https://vision.hw.ac.uk/webapps/blackboard/content/listContent.jsp?course_id=_94419_1&content_id=_3391865_1\n",
    "\n",
    "x_train = np.apply_along_axis(\n",
    "        func1d=lambda img: cv2.resize(img.reshape((48,48)), (num_pixels,num_pixels)),\n",
    "        axis =1, arr = x_train).reshape((-1,num_pixels*num_pixels))\n",
    "\n",
    "x_test  = np.apply_along_axis(\n",
    "        func1d=lambda img: cv2.resize(img.reshape((48,48)), (num_pixels,num_pixels)),\n",
    "        axis =1, arr = x_test).reshape((-1,num_pixels*num_pixels))"
   ]
  },
  {
   "cell_type": "code",
   "execution_count": 11,
   "metadata": {},
   "outputs": [
    {
     "data": {
      "text/plain": [
       "(12660, 256)"
      ]
     },
     "execution_count": 11,
     "metadata": {},
     "output_type": "execute_result"
    }
   ],
   "source": [
    "x_train.shape"
   ]
  },
  {
   "cell_type": "markdown",
   "metadata": {},
   "source": [
    "## Tree Clasifier"
   ]
  },
  {
   "cell_type": "code",
   "execution_count": 12,
   "metadata": {},
   "outputs": [
    {
     "data": {
      "text/plain": [
       "DecisionTreeClassifier(class_weight=None, criterion='gini', max_depth=None,\n",
       "                       max_features=None, max_leaf_nodes=None,\n",
       "                       min_impurity_decrease=0.0, min_impurity_split=None,\n",
       "                       min_samples_leaf=1, min_samples_split=2,\n",
       "                       min_weight_fraction_leaf=0.0, presort=False,\n",
       "                       random_state=None, splitter='best')"
      ]
     },
     "execution_count": 12,
     "metadata": {},
     "output_type": "execute_result"
    }
   ],
   "source": [
    "#from sklearn.datasets import load_iris\n",
    "\n",
    "#iris = load_iris()\n",
    "clf = tree.DecisionTreeClassifier()\n",
    "clf.fit(x_train, y_train)\n",
    "#tree.plot_tree(clf.fit(x_train, y_train)) \n",
    "\n"
   ]
  },
  {
   "cell_type": "code",
   "execution_count": 13,
   "metadata": {},
   "outputs": [
    {
     "data": {
      "text/plain": [
       "'first.pdf'"
      ]
     },
     "execution_count": 13,
     "metadata": {},
     "output_type": "execute_result"
    }
   ],
   "source": [
    "dot_data = tree.export_graphviz(clf, out_file=None) \n",
    "graph = graphviz.Source(dot_data) \n",
    "graph.render(\"first\") "
   ]
  },
  {
   "cell_type": "code",
   "execution_count": 14,
   "metadata": {},
   "outputs": [],
   "source": [
    "y_pred_ga = clf.predict(x_test)"
   ]
  },
  {
   "cell_type": "code",
   "execution_count": 15,
   "metadata": {},
   "outputs": [],
   "source": [
    "cm = confusion_matrix(y_test,y_pred_ga)"
   ]
  },
  {
   "cell_type": "code",
   "execution_count": 16,
   "metadata": {},
   "outputs": [
    {
     "data": {
      "image/png": "[encoded data removed]",
      "text/plain": [
       "<Figure size 360x360 with 1 Axes>"
      ]
     },
     "metadata": {
      "needs_background": "light"
     },
     "output_type": "display_data"
    }
   ],
   "source": [
    "\n",
    "#we transform the confusion matrix to a heatmap\n",
    "fig, ax = plt.subplots(figsize=(5,5))\n",
    "ax = sns.heatmap(cm,annot=True,cmap=\"RdPu\",fmt=\".0f\",cbar=False)\n",
    "plt.show()"
   ]
  },
  {
   "cell_type": "code",
   "execution_count": 17,
   "metadata": {},
   "outputs": [
    {
     "name": "stdout",
     "output_type": "stream",
     "text": [
      "              precision    recall  f1-score   support\n",
      "\n",
      "         0.0       0.53      0.57      0.55       450\n",
      "         1.0       0.60      0.64      0.62       630\n",
      "         2.0       0.58      0.40      0.47       150\n",
      "         3.0       0.80      0.82      0.81       420\n",
      "         4.0       0.73      0.75      0.74       690\n",
      "         5.0       0.87      0.91      0.89       720\n",
      "         6.0       0.83      0.66      0.74       270\n",
      "         7.0       0.04      0.03      0.04        60\n",
      "         8.0       0.83      0.85      0.84       690\n",
      "         9.0       0.65      0.37      0.47        90\n",
      "\n",
      "    accuracy                           0.73      4170\n",
      "   macro avg       0.65      0.60      0.62      4170\n",
      "weighted avg       0.73      0.73      0.72      4170\n",
      "\n"
     ]
    }
   ],
   "source": [
    "#classidication report\n",
    "print(classification_report(y_test,y_pred_ga))"
   ]
  },
  {
   "cell_type": "markdown",
   "metadata": {},
   "source": [
    "## Ten Fold Cross Validation\n"
   ]
  },
  {
   "cell_type": "code",
   "execution_count": 18,
   "metadata": {},
   "outputs": [
    {
     "name": "stdout",
     "output_type": "stream",
     "text": [
      "[0.89516068 0.88637007 0.87542116 0.86573923 0.87547352 0.89345161\n",
      " 0.86801407 0.86403479 0.85584953 0.89672009]\n",
      "Average F score: 0.877623475883623\n"
     ]
    }
   ],
   "source": [
    "#create model and run 10 fold cross validation\n",
    "clf = tree.DecisionTreeClassifier()\n",
    "scores = cross_val_score(clf, x_train, y_train, cv=10, scoring=\"f1_macro\")\n",
    "print(scores) #score is an array of f1 scores \n",
    "print(\"Average F score:\", scores.mean())"
   ]
  },
  {
   "cell_type": "code",
   "execution_count": 19,
   "metadata": {},
   "outputs": [
    {
     "data": {
      "image/png": "[encoded data removed]",
      "text/plain": [
       "<Figure size 360x360 with 1 Axes>"
      ]
     },
     "metadata": {
      "needs_background": "light"
     },
     "output_type": "display_data"
    }
   ],
   "source": [
    "y_pred = cross_val_predict(clf, x_train, y_train, cv=10)\n",
    "conf_mat = confusion_matrix(y_train, y_pred)\n",
    "#confusion matrix\n",
    "fig, ax = plt.subplots(figsize=(5,5))\n",
    "ax = sns.heatmap(conf_mat,annot=True,cmap=\"RdPu\",fmt=\".0f\",cbar=False)\n",
    "plt.show()"
   ]
  },
  {
   "cell_type": "code",
   "execution_count": 20,
   "metadata": {},
   "outputs": [
    {
     "name": "stdout",
     "output_type": "stream",
     "text": [
      "              precision    recall  f1-score   support\n",
      "\n",
      "         0.0       0.78      0.79      0.78      1410\n",
      "         1.0       0.82      0.81      0.81      1860\n",
      "         2.0       0.84      0.86      0.85       420\n",
      "         3.0       0.92      0.89      0.91      1320\n",
      "         4.0       0.91      0.91      0.91      2100\n",
      "         5.0       0.93      0.94      0.93      2160\n",
      "         6.0       0.92      0.90      0.91       780\n",
      "         7.0       0.78      0.85      0.81       240\n",
      "         8.0       0.93      0.94      0.93      2070\n",
      "         9.0       0.91      0.92      0.91       300\n",
      "\n",
      "    accuracy                           0.88     12660\n",
      "   macro avg       0.87      0.88      0.88     12660\n",
      "weighted avg       0.88      0.88      0.88     12660\n",
      "\n"
     ]
    }
   ],
   "source": [
    "print(classification_report(y_train, y_pred))"
   ]
  },
  {
   "cell_type": "code",
   "execution_count": 21,
   "metadata": {},
   "outputs": [],
   "source": [
    "#try manuel 10 fold\n",
    "clf = tree.DecisionTreeClassifier()\n",
    "kf = KFold(n_splits=10)\n",
    "cr = []\n",
    "\n",
    "for train_index, test_index in kf.split(y_train):\n",
    "    x_train10, x_test10 = x_train[train_index], x_train[test_index]\n",
    "    y_train10, y_test10 = y_train[train_index], y_train[test_index] \n",
    "    clf.fit(x_train10, y_train10)\n",
    "    #print(confusion_matrix(y_test, clf.predict(x_test)))\n",
    "    cr.append(classification_report(y_test,clf.predict(x_test), output_dict=True))\n",
    "#print(cr[-1])"
   ]
  },
  {
   "cell_type": "code",
   "execution_count": 22,
   "metadata": {},
   "outputs": [
    {
     "name": "stdout",
     "output_type": "stream",
     "text": [
      "mean f1: 0.6573534661465172\n",
      "mean recall: 0.6420471474580172\n",
      "mean precision: 0.6861804054265879\n"
     ]
    }
   ],
   "source": [
    "#calculate results from 10 fold cross validation\n",
    "f1mean = 0\n",
    "recall = 0\n",
    "precision = 0\n",
    "for x in cr:\n",
    "    dictionary = x['macro avg']\n",
    "    f1mean += dictionary['f1-score']\n",
    "    recall += dictionary['recall']\n",
    "    precision += dictionary['precision']\n",
    "f1mean = f1mean / 10\n",
    "recall = recall / 10\n",
    "precision = precision / 10\n",
    "print(\"mean f1:\",f1mean)\n",
    "print(\"mean recall:\",recall)\n",
    "print(\"mean precision:\",precision)"
   ]
  },
  {
   "cell_type": "markdown",
   "metadata": {},
   "source": [
    "## Test overfitting"
   ]
  },
  {
   "cell_type": "code",
   "execution_count": 41,
   "metadata": {},
   "outputs": [
    {
     "data": {
      "image/png": "[encoded data removed]",
      "text/plain": [
       "<Figure size 432x288 with 1 Axes>"
      ]
     },
     "metadata": {
      "needs_background": "light"
     },
     "output_type": "display_data"
    }
   ],
   "source": [
    "clf = tree.DecisionTreeClassifier()\n",
    "#clf.fit(x_train, y_train)\n",
    "tree.plot_tree(clf.fit(x_train, y_train)) \n",
    "dot_data = tree.export_graphviz(clf, out_file=None) \n",
    "\n",
    "#graph.render(\"first\") "
   ]
  },
  {
   "cell_type": "code",
   "execution_count": 42,
   "metadata": {},
   "outputs": [
    {
     "name": "stdout",
     "output_type": "stream",
     "text": [
      "              precision    recall  f1-score   support\n",
      "\n",
      "         0.0       0.54      0.57      0.55       450\n",
      "         1.0       0.56      0.61      0.59       630\n",
      "         2.0       0.50      0.37      0.43       150\n",
      "         3.0       0.81      0.85      0.83       420\n",
      "         4.0       0.75      0.74      0.74       690\n",
      "         5.0       0.87      0.90      0.88       720\n",
      "         6.0       0.81      0.71      0.76       270\n",
      "         7.0       0.07      0.05      0.06        60\n",
      "         8.0       0.85      0.86      0.86       690\n",
      "         9.0       0.68      0.33      0.45        90\n",
      "\n",
      "    accuracy                           0.73      4170\n",
      "   macro avg       0.64      0.60      0.62      4170\n",
      "weighted avg       0.73      0.73      0.72      4170\n",
      "\n"
     ]
    }
   ],
   "source": [
    "graph = graphviz.Source(dot_data) \n",
    "graph.render(\"overfitting_tree\") \n",
    "y_pred_test_data = clf.predict(x_test)\n",
    "y_pred_train_data = clf.predict(x_train)\n",
    "print(classification_report(y_test, y_pred_test_data))"
   ]
  },
  {
   "cell_type": "code",
   "execution_count": 43,
   "metadata": {},
   "outputs": [
    {
     "name": "stdout",
     "output_type": "stream",
     "text": [
      "              precision    recall  f1-score   support\n",
      "\n",
      "         0.0       1.00      1.00      1.00      1410\n",
      "         1.0       1.00      1.00      1.00      1860\n",
      "         2.0       1.00      1.00      1.00       420\n",
      "         3.0       1.00      1.00      1.00      1320\n",
      "         4.0       1.00      1.00      1.00      2100\n",
      "         5.0       1.00      1.00      1.00      2160\n",
      "         6.0       1.00      1.00      1.00       780\n",
      "         7.0       1.00      1.00      1.00       240\n",
      "         8.0       1.00      1.00      1.00      2070\n",
      "         9.0       1.00      1.00      1.00       300\n",
      "\n",
      "    accuracy                           1.00     12660\n",
      "   macro avg       1.00      1.00      1.00     12660\n",
      "weighted avg       1.00      1.00      1.00     12660\n",
      "\n"
     ]
    }
   ],
   "source": [
    "print(classification_report(y_train, y_pred_train_data))"
   ]
  },
  {
   "cell_type": "markdown",
   "metadata": {},
   "source": [
    "Now limmit fitting"
   ]
  },
  {
   "cell_type": "code",
   "execution_count": 44,
   "metadata": {},
   "outputs": [
    {
     "data": {
      "image/png": "[encoded data removed]",
      "text/plain": [
       "<Figure size 432x288 with 1 Axes>"
      ]
     },
     "metadata": {
      "needs_background": "light"
     },
     "output_type": "display_data"
    }
   ],
   "source": [
    "clf_smpl_splt = tree.DecisionTreeClassifier(min_samples_split = 0.01)\n",
    "tree.plot_tree(clf_smpl_splt.fit(x_train, y_train)) \n",
    "dot_data = tree.export_graphviz(clf_smpl_splt, out_file=None) \n",
    "\n",
    " "
   ]
  },
  {
   "cell_type": "code",
   "execution_count": 45,
   "metadata": {},
   "outputs": [
    {
     "name": "stdout",
     "output_type": "stream",
     "text": [
      "              precision    recall  f1-score   support\n",
      "\n",
      "         0.0       0.55      0.51      0.53       450\n",
      "         1.0       0.54      0.63      0.58       630\n",
      "         2.0       0.45      0.34      0.39       150\n",
      "         3.0       0.74      0.85      0.79       420\n",
      "         4.0       0.77      0.74      0.75       690\n",
      "         5.0       0.89      0.91      0.90       720\n",
      "         6.0       0.64      0.55      0.59       270\n",
      "         7.0       0.06      0.05      0.06        60\n",
      "         8.0       0.87      0.84      0.85       690\n",
      "         9.0       0.58      0.41      0.48        90\n",
      "\n",
      "    accuracy                           0.71      4170\n",
      "   macro avg       0.61      0.58      0.59      4170\n",
      "weighted avg       0.71      0.71      0.71      4170\n",
      "\n"
     ]
    }
   ],
   "source": [
    "y_pred_test_data_splt = clf_smpl_splt.predict(x_test)\n",
    "y_pred_train_data_splt = clf_smpl_splt.predict(x_train)\n",
    "\n",
    "print(classification_report(y_test, y_pred_test_data_splt))"
   ]
  },
  {
   "cell_type": "code",
   "execution_count": 46,
   "metadata": {},
   "outputs": [
    {
     "name": "stdout",
     "output_type": "stream",
     "text": [
      "              precision    recall  f1-score   support\n",
      "\n",
      "         0.0       0.74      0.71      0.72      1410\n",
      "         1.0       0.71      0.77      0.74      1860\n",
      "         2.0       0.76      0.81      0.78       420\n",
      "         3.0       0.81      0.89      0.85      1320\n",
      "         4.0       0.90      0.87      0.88      2100\n",
      "         5.0       0.94      0.90      0.92      2160\n",
      "         6.0       0.84      0.87      0.86       780\n",
      "         7.0       0.64      0.62      0.63       240\n",
      "         8.0       0.94      0.92      0.93      2070\n",
      "         9.0       0.82      0.70      0.75       300\n",
      "\n",
      "    accuracy                           0.84     12660\n",
      "   macro avg       0.81      0.80      0.81     12660\n",
      "weighted avg       0.84      0.84      0.84     12660\n",
      "\n"
     ]
    }
   ],
   "source": [
    "print(classification_report(y_train, y_pred_train_data_splt))"
   ]
  },
  {
   "cell_type": "code",
   "execution_count": null,
   "metadata": {},
   "outputs": [],
   "source": [
    "clf_smpl_leaf = tree.DecisionTreeClassifier(min_samples_leaf = 0.0005)\n",
    "tree.plot_tree(clf_smpl_leaf.fit(x_train, y_train)) \n",
    "dot_data = tree.export_graphviz(clf_smpl_leaf, out_file=None)"
   ]
  },
  {
   "cell_type": "code",
   "execution_count": null,
   "metadata": {},
   "outputs": [],
   "source": [
    "y_pred_test_data_leaf = clf_smpl_leaf.predict(x_test)\n",
    "y_pred_train_data_leaf = clf_smpl_leaf.predict(x_train)\n",
    "\n",
    "print(classification_report(y_test, y_pred_test_data_leaf))"
   ]
  },
  {
   "cell_type": "code",
   "execution_count": null,
   "metadata": {},
   "outputs": [],
   "source": [
    "print(classification_report(y_train, y_pred_train_data_leaf))"
   ]
  },
  {
   "cell_type": "code",
   "execution_count": null,
   "metadata": {},
   "outputs": [],
   "source": []
  }
 ],
 "metadata": {
  "kernelspec": {
   "display_name": "Python 3",
   "language": "python",
   "name": "python3"
  },
  "language_info": {
   "codemirror_mode": {
    "name": "ipython",
    "version": 3
   },
   "file_extension": ".py",
   "mimetype": "text/x-python",
   "name": "python",
   "nbconvert_exporter": "python",
   "pygments_lexer": "ipython3",
   "version": "3.7.5"
  }
 },
 "nbformat": 4,
 "nbformat_minor": 4
}
