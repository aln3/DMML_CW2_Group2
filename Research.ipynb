{
 "cells": [
  {
   "cell_type": "code",
   "execution_count": 1,
   "metadata": {},
   "outputs": [
    {
     "name": "stderr",
     "output_type": "stream",
     "text": [
      "Using TensorFlow backend.\n"
     ]
    }
   ],
   "source": [
    "import cv2\n",
    "import random\n",
    "import numpy as np\n",
    "import matplotlib.pyplot as plt\n",
    "import pandas as pd\n",
    "import seaborn as sns\n",
    "import time\n",
    "\n",
    "\n",
    "from numpy import genfromtxt\n",
    "from sklearn.metrics import accuracy_score, roc_curve\n",
    "from sklearn.metrics import confusion_matrix, classification_report\n",
    "from mpl_toolkits.mplot3d import Axes3D\n",
    "\n",
    "\n",
    "from sklearn.linear_model import LogisticRegression\n",
    "#----------------------------------------------Neural Net Imports\n",
    "from keras.datasets import mnist\n",
    "from keras.preprocessing.image import load_img, array_to_img\n",
    "from keras.utils.np_utils import to_categorical\n",
    "\n",
    "# Linear stack of NN layers\n",
    "from keras.models import Sequential\n",
    "\n",
    "# Ensure Fully connected layer \n",
    "from keras.layers import Dense\n",
    "#----------------------------------------------------------------\n",
    "\n",
    "import numpy as np\n",
    "import matplotlib.pyplot as plt\n",
    "%matplotlib inline\n",
    "\n",
    "\n",
    "\n",
    "num_pixels = 28\n",
    "%matplotlib inline"
   ]
  },
  {
   "cell_type": "code",
   "execution_count": 2,
   "metadata": {},
   "outputs": [
    {
     "name": "stdout",
     "output_type": "stream",
     "text": [
      "[39. 40. 39. ... 43. 45. 45.]\n"
     ]
    }
   ],
   "source": [
    "x_test = genfromtxt('Data/Testing/x_test_gr_smpl.csv', delimiter=',', skip_header =1)\n",
    "print(x_test[0])"
   ]
  },
  {
   "cell_type": "code",
   "execution_count": 3,
   "metadata": {},
   "outputs": [],
   "source": [
    "def makeContrastedDataset(dataset, upperLimitOfContrast, lowerLimitOfContrast):\n",
    "    manipulationDataset = []\n",
    "    for val in dataset:\n",
    "        index = []\n",
    "        for a in val:\n",
    "            b = random.randint(lowerLimitOfContrast, upperLimitOfContrast)\n",
    "            newVal = b + a\n",
    "            if newVal > 255:\n",
    "                newVal = 255\n",
    "            if newVal < 0:\n",
    "                newVal = 0\n",
    "            index.append(newVal)\n",
    "        manipulationDataset.append(index)\n",
    "    return manipulationDataset"
   ]
  },
  {
   "cell_type": "code",
   "execution_count": 4,
   "metadata": {},
   "outputs": [
    {
     "name": "stdout",
     "output_type": "stream",
     "text": [
      "[39. 40. 39. ... 43. 45. 45.]\n"
     ]
    }
   ],
   "source": [
    "print(x_test[0])"
   ]
  },
  {
   "cell_type": "code",
   "execution_count": 5,
   "metadata": {},
   "outputs": [],
   "source": [
    "brightx_test = makeContrastedDataset(x_test, 15, 10)"
   ]
  },
  {
   "cell_type": "code",
   "execution_count": 6,
   "metadata": {},
   "outputs": [],
   "source": [
    "darkerx_test = makeContrastedDataset(x_test, -10, -15)"
   ]
  },
  {
   "cell_type": "code",
   "execution_count": 7,
   "metadata": {},
   "outputs": [
    {
     "data": {
      "text/plain": [
       "array([39., 40., 39., ..., 43., 45., 45.])"
      ]
     },
     "execution_count": 7,
     "metadata": {},
     "output_type": "execute_result"
    }
   ],
   "source": [
    "x_test[0]"
   ]
  },
  {
   "cell_type": "code",
   "execution_count": null,
   "metadata": {},
   "outputs": [],
   "source": []
  },
  {
   "cell_type": "code",
   "execution_count": null,
   "metadata": {},
   "outputs": [],
   "source": []
  },
  {
   "cell_type": "code",
   "execution_count": 8,
   "metadata": {},
   "outputs": [],
   "source": [
    "x_train = genfromtxt('Data/Training/x_train_gr_smpl.csv', delimiter=',', skip_header =1)\n",
    "y_train = genfromtxt('Data/Training/y_train_smpl.csv', delimiter=',', skip_header =1 )"
   ]
  },
  {
   "cell_type": "code",
   "execution_count": 9,
   "metadata": {},
   "outputs": [],
   "source": [
    "y_test = genfromtxt('Data/Testing/y_test_smpl.csv', delimiter=',', skip_header =1 )"
   ]
  },
  {
   "cell_type": "code",
   "execution_count": 10,
   "metadata": {},
   "outputs": [],
   "source": [
    "y_train = y_train.reshape(12660,1)\n",
    "train_data_combined = np.append(x_train, y_train, axis=1)\n",
    "\n",
    "y_test = y_test.reshape(4170,1)\n",
    "test_data_combined = np.append(brightx_test, y_test, axis=1)\n",
    "test_data_combined1 = np.append(darkerx_test, y_test, axis = 1)\n",
    "np.random.seed(0)\n",
    "np.random.shuffle(train_data_combined)\n",
    "np.random.shuffle(test_data_combined)\n",
    "np.random.shuffle(test_data_combined1)\n",
    "x_train = train_data_combined[:,:-1]\n",
    "y_train = train_data_combined[:, [-1]].reshape(12660,)\n",
    "\n",
    "brightx_test = test_data_combined[:,:-1]\n",
    "darkerx_test = test_data_combined1[:,:-1]\n",
    "y_test = test_data_combined[:, [-1]].reshape(4170,)\n",
    "# Normalisation of pixels\n",
    "x_train = x_train.astype('float')/255\n",
    "brightx_test  = brightx_test.astype('float')/255\n",
    "darkerx_test  = darkerx_test.astype('float')/255\n",
    "#  Reducing the number of attributes using opencv's reduce functionality as shown in the second python Lecture\n",
    "#  As seen in python lectures: https://vision.hw.ac.uk/webapps/blackboard/content/listContent.jsp?course_id=_94419_1&content_id=_3391865_1\n",
    "\n",
    "x_train = np.apply_along_axis(\n",
    "        func1d=lambda img: cv2.resize(img.reshape((48,48)), (num_pixels,num_pixels)),\n",
    "        axis =1, arr = x_train).reshape((-1,num_pixels*num_pixels))\n",
    "\n",
    "brightx_test  = np.apply_along_axis(\n",
    "        func1d=lambda img: cv2.resize(img.reshape((48,48)), (num_pixels,num_pixels)),\n",
    "        axis =1, arr = brightx_test).reshape((-1,num_pixels*num_pixels))\n",
    "\n",
    "darkerx_test  = np.apply_along_axis(\n",
    "        func1d=lambda img: cv2.resize(img.reshape((48,48)), (num_pixels,num_pixels)),\n",
    "        axis =1, arr = darkerx_test).reshape((-1,num_pixels*num_pixels))"
   ]
  },
  {
   "cell_type": "code",
   "execution_count": 13,
   "metadata": {},
   "outputs": [],
   "source": [
    "y_train = to_categorical(y_train,10)\n",
    "y_test = to_categorical(y_test,10)"
   ]
  },
  {
   "cell_type": "code",
   "execution_count": 30,
   "metadata": {},
   "outputs": [],
   "source": [
    "model2 = Sequential()"
   ]
  },
  {
   "cell_type": "code",
   "execution_count": 31,
   "metadata": {},
   "outputs": [],
   "source": [
    "model2.add(Dense(512, activation = 'relu',input_shape=(784,)))\n",
    "\n",
    "# Layer 2\n",
    "model2.add(Dense(512, activation = 'relu'))\n",
    "# Layer 3\n",
    "model2.add(Dense(512, activation = 'relu'))\n",
    "# Layer 4\n",
    "model2.add(Dense(512, activation = 'relu'))\n",
    "\n",
    "#Output Layer\n",
    "model2.add(Dense(10, activation = 'softmax'))"
   ]
  },
  {
   "cell_type": "code",
   "execution_count": 32,
   "metadata": {},
   "outputs": [],
   "source": [
    "model2.compile(optimizer='adam', loss='categorical_crossentropy', metrics = ['accuracy'])"
   ]
  },
  {
   "cell_type": "code",
   "execution_count": 33,
   "metadata": {},
   "outputs": [
    {
     "name": "stdout",
     "output_type": "stream",
     "text": [
      "Model: \"sequential_3\"\n",
      "_________________________________________________________________\n",
      "Layer (type)                 Output Shape              Param #   \n",
      "=================================================================\n",
      "dense_7 (Dense)              (None, 512)               401920    \n",
      "_________________________________________________________________\n",
      "dense_8 (Dense)              (None, 512)               262656    \n",
      "_________________________________________________________________\n",
      "dense_9 (Dense)              (None, 512)               262656    \n",
      "_________________________________________________________________\n",
      "dense_10 (Dense)             (None, 512)               262656    \n",
      "_________________________________________________________________\n",
      "dense_11 (Dense)             (None, 10)                5130      \n",
      "=================================================================\n",
      "Total params: 1,195,018\n",
      "Trainable params: 1,195,018\n",
      "Non-trainable params: 0\n",
      "_________________________________________________________________\n"
     ]
    }
   ],
   "source": [
    "model2.summary()"
   ]
  },
  {
   "cell_type": "code",
   "execution_count": 34,
   "metadata": {},
   "outputs": [
    {
     "name": "stdout",
     "output_type": "stream",
     "text": [
      "Train on 12660 samples, validate on 4170 samples\n",
      "Epoch 1/20\n",
      "12660/12660 [==============================] - 6s 465us/step - loss: 0.8683 - accuracy: 0.7006 - val_loss: 0.5870 - val_accuracy: 0.7607\n",
      "Epoch 2/20\n",
      "12660/12660 [==============================] - 5s 425us/step - loss: 0.3631 - accuracy: 0.8656 - val_loss: 0.5322 - val_accuracy: 0.8144\n",
      "Epoch 3/20\n",
      "12660/12660 [==============================] - 5s 429us/step - loss: 0.2853 - accuracy: 0.8938 - val_loss: 0.3787 - val_accuracy: 0.8935\n",
      "Epoch 4/20\n",
      "12660/12660 [==============================] - 5s 432us/step - loss: 0.2404 - accuracy: 0.9126 - val_loss: 0.4867 - val_accuracy: 0.8621\n",
      "Epoch 5/20\n",
      "12660/12660 [==============================] - 5s 426us/step - loss: 0.1824 - accuracy: 0.9342 - val_loss: 0.5141 - val_accuracy: 0.8626\n",
      "Epoch 6/20\n",
      "12660/12660 [==============================] - 5s 430us/step - loss: 0.1915 - accuracy: 0.9305 - val_loss: 0.5813 - val_accuracy: 0.8293\n",
      "Epoch 7/20\n",
      "12660/12660 [==============================] - 6s 439us/step - loss: 0.1618 - accuracy: 0.9421 - val_loss: 0.3543 - val_accuracy: 0.9110\n",
      "Epoch 8/20\n",
      "12660/12660 [==============================] - 5s 425us/step - loss: 0.1628 - accuracy: 0.9439 - val_loss: 0.4132 - val_accuracy: 0.8820\n",
      "Epoch 9/20\n",
      "12660/12660 [==============================] - 5s 423us/step - loss: 0.1528 - accuracy: 0.9475 - val_loss: 0.5024 - val_accuracy: 0.8568\n",
      "Epoch 10/20\n",
      "12660/12660 [==============================] - 5s 423us/step - loss: 0.1172 - accuracy: 0.9606 - val_loss: 0.3161 - val_accuracy: 0.9170\n",
      "Epoch 11/20\n",
      "12660/12660 [==============================] - 6s 438us/step - loss: 0.1378 - accuracy: 0.9536 - val_loss: 0.3390 - val_accuracy: 0.9199\n",
      "Epoch 12/20\n",
      "12660/12660 [==============================] - 5s 431us/step - loss: 0.1179 - accuracy: 0.9585 - val_loss: 0.6947 - val_accuracy: 0.8240\n",
      "Epoch 13/20\n",
      "12660/12660 [==============================] - 6s 450us/step - loss: 0.0952 - accuracy: 0.9671 - val_loss: 0.4441 - val_accuracy: 0.8767\n",
      "Epoch 14/20\n",
      "12660/12660 [==============================] - 6s 450us/step - loss: 0.1107 - accuracy: 0.9634 - val_loss: 0.4520 - val_accuracy: 0.8724\n",
      "Epoch 15/20\n",
      "12660/12660 [==============================] - 5s 433us/step - loss: 0.0889 - accuracy: 0.9704 - val_loss: 0.4322 - val_accuracy: 0.9089\n",
      "Epoch 16/20\n",
      "12660/12660 [==============================] - 5s 428us/step - loss: 0.0861 - accuracy: 0.9717 - val_loss: 0.4373 - val_accuracy: 0.8532\n",
      "Epoch 17/20\n",
      "12660/12660 [==============================] - 5s 428us/step - loss: 0.0785 - accuracy: 0.9732 - val_loss: 0.5105 - val_accuracy: 0.8928\n",
      "Epoch 18/20\n",
      "12660/12660 [==============================] - 5s 426us/step - loss: 0.0832 - accuracy: 0.9712 - val_loss: 0.4808 - val_accuracy: 0.8880\n",
      "Epoch 19/20\n",
      "12660/12660 [==============================] - 6s 466us/step - loss: 0.0676 - accuracy: 0.9766 - val_loss: 0.3939 - val_accuracy: 0.8926\n",
      "Epoch 20/20\n",
      "12660/12660 [==============================] - 6s 451us/step - loss: 0.0802 - accuracy: 0.9740 - val_loss: 0.6116 - val_accuracy: 0.8588\n"
     ]
    }
   ],
   "source": [
    "Brighter_Model = model2.fit(x_train,y_train, epochs = 20, validation_data = (brightx_test, y_test))"
   ]
  },
  {
   "cell_type": "code",
   "execution_count": 35,
   "metadata": {},
   "outputs": [
    {
     "data": {
      "text/plain": [
       "Text(0, 0.5, 'Accuracy')"
      ]
     },
     "execution_count": 35,
     "metadata": {},
     "output_type": "execute_result"
    },
    {
     "data": {
      "image/png": "[encoded data removed]",
      "text/plain": [
       "<Figure size 432x288 with 1 Axes>"
      ]
     },
     "metadata": {
      "needs_background": "light"
     },
     "output_type": "display_data"
    }
   ],
   "source": [
    "plt.plot(Brighter_Model.history['accuracy'], label='Accuracy of Base Model')\n",
    "plt.plot(Brighter_Model.history['val_accuracy'], label=' Validation Accuracy of Base Model')\n",
    "plt.legend(loc='upper center', bbox_to_anchor=(0.5, -0.15), shadow=True, ncol=2)\n",
    "plt.xlabel('Epoch')\n",
    "plt.ylabel('Accuracy')"
   ]
  },
  {
   "cell_type": "code",
   "execution_count": 36,
   "metadata": {},
   "outputs": [],
   "source": [
    "model3 = Sequential()"
   ]
  },
  {
   "cell_type": "code",
   "execution_count": 37,
   "metadata": {},
   "outputs": [],
   "source": [
    "model3.add(Dense(512, activation = 'relu',input_shape=(784,)))\n",
    "\n",
    "# Layer 2\n",
    "model3.add(Dense(512, activation = 'relu'))\n",
    "\n",
    "#Output Layer\n",
    "model3.add(Dense(10, activation = 'softmax'))"
   ]
  },
  {
   "cell_type": "code",
   "execution_count": 38,
   "metadata": {},
   "outputs": [],
   "source": [
    "model3.compile(optimizer='adam', loss='categorical_crossentropy', metrics = ['accuracy'])"
   ]
  },
  {
   "cell_type": "code",
   "execution_count": 39,
   "metadata": {},
   "outputs": [
    {
     "name": "stdout",
     "output_type": "stream",
     "text": [
      "Model: \"sequential_4\"\n",
      "_________________________________________________________________\n",
      "Layer (type)                 Output Shape              Param #   \n",
      "=================================================================\n",
      "dense_12 (Dense)             (None, 512)               401920    \n",
      "_________________________________________________________________\n",
      "dense_13 (Dense)             (None, 512)               262656    \n",
      "_________________________________________________________________\n",
      "dense_14 (Dense)             (None, 10)                5130      \n",
      "=================================================================\n",
      "Total params: 669,706\n",
      "Trainable params: 669,706\n",
      "Non-trainable params: 0\n",
      "_________________________________________________________________\n"
     ]
    }
   ],
   "source": [
    "model3.summary()"
   ]
  },
  {
   "cell_type": "code",
   "execution_count": null,
   "metadata": {},
   "outputs": [],
   "source": []
  },
  {
   "cell_type": "code",
   "execution_count": 40,
   "metadata": {},
   "outputs": [
    {
     "name": "stdout",
     "output_type": "stream",
     "text": [
      "Train on 12660 samples, validate on 4170 samples\n",
      "Epoch 1/20\n",
      "12660/12660 [==============================] - 4s 293us/step - loss: 0.8168 - accuracy: 0.7367 - val_loss: 8.2529 - val_accuracy: 0.1441\n",
      "Epoch 2/20\n",
      "12660/12660 [==============================] - 3s 266us/step - loss: 0.3935 - accuracy: 0.8708 - val_loss: 12.3771 - val_accuracy: 0.1489\n",
      "Epoch 3/20\n",
      "12660/12660 [==============================] - 3s 270us/step - loss: 0.2884 - accuracy: 0.9052 - val_loss: 13.6422 - val_accuracy: 0.1427\n",
      "Epoch 4/20\n",
      "12660/12660 [==============================] - 3s 264us/step - loss: 0.2313 - accuracy: 0.9220 - val_loss: 16.9964 - val_accuracy: 0.1456\n",
      "Epoch 5/20\n",
      "12660/12660 [==============================] - 3s 259us/step - loss: 0.2060 - accuracy: 0.9340 - val_loss: 16.1048 - val_accuracy: 0.1456\n",
      "Epoch 6/20\n",
      "12660/12660 [==============================] - 3s 258us/step - loss: 0.1656 - accuracy: 0.9427 - val_loss: 16.8822 - val_accuracy: 0.1410\n",
      "Epoch 7/20\n",
      "12660/12660 [==============================] - 3s 267us/step - loss: 0.1425 - accuracy: 0.9532 - val_loss: 17.9634 - val_accuracy: 0.1444\n",
      "Epoch 8/20\n",
      "12660/12660 [==============================] - 3s 268us/step - loss: 0.1547 - accuracy: 0.9496 - val_loss: 18.9701 - val_accuracy: 0.1396\n",
      "Epoch 9/20\n",
      "12660/12660 [==============================] - 3s 257us/step - loss: 0.1204 - accuracy: 0.9599 - val_loss: 19.1022 - val_accuracy: 0.1412\n",
      "Epoch 10/20\n",
      "12660/12660 [==============================] - 3s 254us/step - loss: 0.1118 - accuracy: 0.9630 - val_loss: 19.7557 - val_accuracy: 0.1422\n",
      "Epoch 11/20\n",
      "12660/12660 [==============================] - 3s 258us/step - loss: 0.1108 - accuracy: 0.9655 - val_loss: 20.2087 - val_accuracy: 0.1420\n",
      "Epoch 12/20\n",
      "12660/12660 [==============================] - 3s 260us/step - loss: 0.0971 - accuracy: 0.9693 - val_loss: 20.9639 - val_accuracy: 0.1403\n",
      "Epoch 13/20\n",
      "12660/12660 [==============================] - 3s 259us/step - loss: 0.0901 - accuracy: 0.9687 - val_loss: 20.2733 - val_accuracy: 0.1460\n",
      "Epoch 14/20\n",
      "12660/12660 [==============================] - 3s 259us/step - loss: 0.0765 - accuracy: 0.9751 - val_loss: 22.1669 - val_accuracy: 0.1427\n",
      "Epoch 15/20\n",
      "12660/12660 [==============================] - 3s 255us/step - loss: 0.0844 - accuracy: 0.9720 - val_loss: 22.3760 - val_accuracy: 0.1391\n",
      "Epoch 16/20\n",
      "12660/12660 [==============================] - 3s 260us/step - loss: 0.0712 - accuracy: 0.9761 - val_loss: 24.6790 - val_accuracy: 0.1446\n",
      "Epoch 17/20\n",
      "12660/12660 [==============================] - 3s 275us/step - loss: 0.0676 - accuracy: 0.9790 - val_loss: 24.4445 - val_accuracy: 0.1441\n",
      "Epoch 18/20\n",
      "12660/12660 [==============================] - 3s 257us/step - loss: 0.0598 - accuracy: 0.9796 - val_loss: 26.7343 - val_accuracy: 0.1429\n",
      "Epoch 19/20\n",
      "12660/12660 [==============================] - 3s 257us/step - loss: 0.0750 - accuracy: 0.9755 - val_loss: 27.8839 - val_accuracy: 0.1424\n",
      "Epoch 20/20\n",
      "12660/12660 [==============================] - 4s 278us/step - loss: 0.0581 - accuracy: 0.9805 - val_loss: 26.6218 - val_accuracy: 0.1444\n"
     ]
    }
   ],
   "source": [
    "Darker_Model = model3.fit(x_train,y_train, epochs = 20, validation_data = (darkerx_test, y_test))"
   ]
  },
  {
   "cell_type": "code",
   "execution_count": 41,
   "metadata": {},
   "outputs": [
    {
     "data": {
      "text/plain": [
       "Text(0, 0.5, 'Accuracy')"
      ]
     },
     "execution_count": 41,
     "metadata": {},
     "output_type": "execute_result"
    },
    {
     "data": {
      "image/png": "[encoded data removed]",
      "text/plain": [
       "<Figure size 432x288 with 1 Axes>"
      ]
     },
     "metadata": {
      "needs_background": "light"
     },
     "output_type": "display_data"
    }
   ],
   "source": [
    "plt.plot(Brighter_Model.history['accuracy'], label='Accuracy of Brighter Model')\n",
    "plt.plot(Darker_Model.history['accuracy'], label='Accuracy of Darker Model')\n",
    "plt.plot(Brighter_Model.history['val_accuracy'], label=' Validation Accuracy of Brighter Model')\n",
    "plt.plot(Darker_Model.history['val_accuracy'], label=' Validation Accuracy of Darker Model')\n",
    "plt.legend(loc='upper center', bbox_to_anchor=(0.5, -0.15), shadow=True, ncol=2)\n",
    "plt.xlabel('Epoch')\n",
    "plt.ylabel('Accuracy')"
   ]
  },
  {
   "cell_type": "markdown",
   "metadata": {},
   "source": [
    "# Adding Dropout to reduce Overfitting"
   ]
  },
  {
   "cell_type": "code",
   "execution_count": 45,
   "metadata": {},
   "outputs": [],
   "source": [
    "from keras.layers import Dropout"
   ]
  },
  {
   "cell_type": "code",
   "execution_count": 46,
   "metadata": {},
   "outputs": [],
   "source": [
    "model4 = Sequential()"
   ]
  },
  {
   "cell_type": "code",
   "execution_count": 47,
   "metadata": {},
   "outputs": [],
   "source": [
    "model4.add(Dense(512, activation = 'relu',input_shape=(784,)))\n",
    "model4.add(Dropout(0.2))\n",
    "# Layer 2\n",
    "model4.add(Dense(512, activation = 'relu'))\n",
    "model4.add(Dropout(0.2))\n",
    "# Layer 3\n",
    "model4.add(Dense(512, activation = 'relu'))\n",
    "model4.add(Dropout(0.2))\n",
    "# Layer 4\n",
    "model4.add(Dense(512, activation = 'relu'))\n",
    "model4.add(Dropout(0.2))\n",
    "#Output Layer\n",
    "model4.add(Dense(10, activation = 'softmax'))"
   ]
  },
  {
   "cell_type": "code",
   "execution_count": 48,
   "metadata": {},
   "outputs": [],
   "source": [
    "model4.compile(optimizer='adam', loss='categorical_crossentropy', metrics = ['accuracy'])"
   ]
  },
  {
   "cell_type": "code",
   "execution_count": 49,
   "metadata": {},
   "outputs": [
    {
     "name": "stdout",
     "output_type": "stream",
     "text": [
      "Model: \"sequential_7\"\n",
      "_________________________________________________________________\n",
      "Layer (type)                 Output Shape              Param #   \n",
      "=================================================================\n",
      "dense_16 (Dense)             (None, 512)               401920    \n",
      "_________________________________________________________________\n",
      "dropout_1 (Dropout)          (None, 512)               0         \n",
      "_________________________________________________________________\n",
      "dense_17 (Dense)             (None, 512)               262656    \n",
      "_________________________________________________________________\n",
      "dropout_2 (Dropout)          (None, 512)               0         \n",
      "_________________________________________________________________\n",
      "dense_18 (Dense)             (None, 512)               262656    \n",
      "_________________________________________________________________\n",
      "dropout_3 (Dropout)          (None, 512)               0         \n",
      "_________________________________________________________________\n",
      "dense_19 (Dense)             (None, 512)               262656    \n",
      "_________________________________________________________________\n",
      "dropout_4 (Dropout)          (None, 512)               0         \n",
      "_________________________________________________________________\n",
      "dense_20 (Dense)             (None, 10)                5130      \n",
      "=================================================================\n",
      "Total params: 1,195,018\n",
      "Trainable params: 1,195,018\n",
      "Non-trainable params: 0\n",
      "_________________________________________________________________\n"
     ]
    }
   ],
   "source": [
    "model4.summary()"
   ]
  },
  {
   "cell_type": "code",
   "execution_count": 50,
   "metadata": {},
   "outputs": [
    {
     "name": "stdout",
     "output_type": "stream",
     "text": [
      "Train on 12660 samples, validate on 4170 samples\n",
      "Epoch 1/20\n",
      "12660/12660 [==============================] - 7s 529us/step - loss: 1.0603 - accuracy: 0.6438 - val_loss: 0.6313 - val_accuracy: 0.8002\n",
      "Epoch 2/20\n",
      "12660/12660 [==============================] - 6s 467us/step - loss: 0.5359 - accuracy: 0.8019 - val_loss: 0.5456 - val_accuracy: 0.8070\n",
      "Epoch 3/20\n",
      "12660/12660 [==============================] - 6s 481us/step - loss: 0.4190 - accuracy: 0.8478 - val_loss: 0.4477 - val_accuracy: 0.8619\n",
      "Epoch 4/20\n",
      "12660/12660 [==============================] - 6s 475us/step - loss: 0.3607 - accuracy: 0.8664 - val_loss: 0.4091 - val_accuracy: 0.8600\n",
      "Epoch 5/20\n",
      "12660/12660 [==============================] - 6s 475us/step - loss: 0.3320 - accuracy: 0.8806 - val_loss: 0.5914 - val_accuracy: 0.8058\n",
      "Epoch 6/20\n",
      "12660/12660 [==============================] - 6s 480us/step - loss: 0.3041 - accuracy: 0.8916 - val_loss: 0.4374 - val_accuracy: 0.8518\n",
      "Epoch 7/20\n",
      "12660/12660 [==============================] - 6s 474us/step - loss: 0.2689 - accuracy: 0.9074 - val_loss: 0.4163 - val_accuracy: 0.8906\n",
      "Epoch 8/20\n",
      "12660/12660 [==============================] - 6s 472us/step - loss: 0.2807 - accuracy: 0.9047 - val_loss: 0.3073 - val_accuracy: 0.9082\n",
      "Epoch 9/20\n",
      "12660/12660 [==============================] - 6s 478us/step - loss: 0.2472 - accuracy: 0.9150 - val_loss: 0.3300 - val_accuracy: 0.9014\n",
      "Epoch 10/20\n",
      "12660/12660 [==============================] - 6s 474us/step - loss: 0.2598 - accuracy: 0.9103 - val_loss: 0.3127 - val_accuracy: 0.8887\n",
      "Epoch 11/20\n",
      "12660/12660 [==============================] - 6s 496us/step - loss: 0.2364 - accuracy: 0.9222 - val_loss: 0.3118 - val_accuracy: 0.9007\n",
      "Epoch 12/20\n",
      "12660/12660 [==============================] - 6s 472us/step - loss: 0.1991 - accuracy: 0.9318 - val_loss: 0.3666 - val_accuracy: 0.8760\n",
      "Epoch 13/20\n",
      "12660/12660 [==============================] - 6s 473us/step - loss: 0.2267 - accuracy: 0.9209 - val_loss: 0.3117 - val_accuracy: 0.9084\n",
      "Epoch 14/20\n",
      "12660/12660 [==============================] - 6s 498us/step - loss: 0.2120 - accuracy: 0.9250 - val_loss: 0.3789 - val_accuracy: 0.8818\n",
      "Epoch 15/20\n",
      "12660/12660 [==============================] - 6s 485us/step - loss: 0.1996 - accuracy: 0.9329 - val_loss: 0.2549 - val_accuracy: 0.9201\n",
      "Epoch 16/20\n",
      "12660/12660 [==============================] - 6s 483us/step - loss: 0.1779 - accuracy: 0.9393 - val_loss: 0.3096 - val_accuracy: 0.9017\n",
      "Epoch 17/20\n",
      "12660/12660 [==============================] - 6s 480us/step - loss: 0.1920 - accuracy: 0.9327 - val_loss: 0.2891 - val_accuracy: 0.9098\n",
      "Epoch 18/20\n",
      "12660/12660 [==============================] - 6s 487us/step - loss: 0.1819 - accuracy: 0.9408 - val_loss: 0.3959 - val_accuracy: 0.8851\n",
      "Epoch 19/20\n",
      "12660/12660 [==============================] - 6s 492us/step - loss: 0.1767 - accuracy: 0.9413 - val_loss: 0.4161 - val_accuracy: 0.8875\n",
      "Epoch 20/20\n",
      "12660/12660 [==============================] - 6s 468us/step - loss: 0.1687 - accuracy: 0.9434 - val_loss: 0.3595 - val_accuracy: 0.8990\n"
     ]
    }
   ],
   "source": [
    "NoOverFit = model4.fit(x_train,y_train, epochs = 20, validation_data = (brightx_test, y_test))"
   ]
  },
  {
   "cell_type": "code",
   "execution_count": 52,
   "metadata": {},
   "outputs": [
    {
     "data": {
      "text/plain": [
       "Text(0, 0.5, 'Accuracy')"
      ]
     },
     "execution_count": 52,
     "metadata": {},
     "output_type": "execute_result"
    },
    {
     "data": {
      "image/png": "[encoded data removed]",
      "text/plain": [
       "<Figure size 432x288 with 1 Axes>"
      ]
     },
     "metadata": {
      "needs_background": "light"
     },
     "output_type": "display_data"
    }
   ],
   "source": [
    "plt.plot(Brighter_Model.history['accuracy'], label='Accuracy of Brighter Model')\n",
    "plt.plot(NoOverFit.history['accuracy'], label='Accuracy of NoOverFit Model')\n",
    "plt.plot(Brighter_Model.history['val_accuracy'], label=' Validation Accuracy of Brighter Model')\n",
    "plt.plot(NoOverFit.history['val_accuracy'], label=' Validation Accuracy of NoOverFit Model')\n",
    "plt.legend(loc='upper center', bbox_to_anchor=(0.5, -0.15), shadow=True, ncol=2)\n",
    "plt.xlabel('Epoch')\n",
    "plt.ylabel('Accuracy')"
   ]
  },
  {
   "cell_type": "code",
   "execution_count": 54,
   "metadata": {},
   "outputs": [],
   "source": [
    "x_test  = np.apply_along_axis(\n",
    "        func1d=lambda img: cv2.resize(img.reshape((48,48)), (num_pixels,num_pixels)),\n",
    "        axis =1, arr = x_test).reshape((-1,num_pixels*num_pixels))"
   ]
  },
  {
   "cell_type": "code",
   "execution_count": 55,
   "metadata": {},
   "outputs": [],
   "source": [
    "prediction1 = model4.predict_classes(x_test, batch_size=10)"
   ]
  },
  {
   "cell_type": "code",
   "execution_count": 56,
   "metadata": {},
   "outputs": [],
   "source": [
    "prediction2 = model4.predict_classes(brightx_test, batch_size=10)"
   ]
  },
  {
   "cell_type": "code",
   "execution_count": 57,
   "metadata": {},
   "outputs": [],
   "source": [
    "rounded_labels=np.argmax(y_test, axis=1)"
   ]
  },
  {
   "cell_type": "code",
   "execution_count": 60,
   "metadata": {},
   "outputs": [],
   "source": [
    "cm = confusion_matrix(rounded_labels, prediction1)"
   ]
  },
  {
   "cell_type": "code",
   "execution_count": 61,
   "metadata": {},
   "outputs": [],
   "source": [
    "cm1 = confusion_matrix(rounded_labels, prediction2)"
   ]
  },
  {
   "cell_type": "code",
   "execution_count": 62,
   "metadata": {},
   "outputs": [
    {
     "data": {
      "image/png": "[encoded data removed]",
      "text/plain": [
       "<Figure size 432x288 with 1 Axes>"
      ]
     },
     "metadata": {
      "needs_background": "light"
     },
     "output_type": "display_data"
    }
   ],
   "source": [
    "sns.heatmap(cm.T, square=True, annot=True,cmap=\"RdPu\", fmt='.0f', cbar=False)\n",
    "plt.xlabel('True Class')\n",
    "plt.ylabel('Predicted Class');"
   ]
  },
  {
   "cell_type": "code",
   "execution_count": 63,
   "metadata": {},
   "outputs": [
    {
     "data": {
      "image/png": "[encoded data removed]",
      "text/plain": [
       "<Figure size 432x288 with 1 Axes>"
      ]
     },
     "metadata": {
      "needs_background": "light"
     },
     "output_type": "display_data"
    }
   ],
   "source": [
    "sns.heatmap(cm1.T, square=True, annot=True,cmap=\"RdPu\", fmt='.0f', cbar=False)\n",
    "plt.xlabel('True Class')\n",
    "plt.ylabel('Predicted Class');"
   ]
  },
  {
   "cell_type": "code",
   "execution_count": 64,
   "metadata": {},
   "outputs": [
    {
     "name": "stdout",
     "output_type": "stream",
     "text": [
      "              precision    recall  f1-score   support\n",
      "\n",
      "           0       0.13      0.13      0.13       450\n",
      "           1       0.16      0.13      0.14       630\n",
      "           2       0.03      0.01      0.01       150\n",
      "           3       0.09      0.10      0.09       420\n",
      "           4       0.17      0.19      0.18       690\n",
      "           5       0.14      0.17      0.15       720\n",
      "           6       0.08      0.08      0.08       270\n",
      "           7       0.01      0.02      0.01        60\n",
      "           8       0.18      0.15      0.16       690\n",
      "           9       0.04      0.04      0.04        90\n",
      "\n",
      "    accuracy                           0.14      4170\n",
      "   macro avg       0.10      0.10      0.10      4170\n",
      "weighted avg       0.14      0.14      0.13      4170\n",
      "\n"
     ]
    }
   ],
   "source": [
    "print(classification_report(rounded_labels,prediction1))"
   ]
  },
  {
   "cell_type": "code",
   "execution_count": 65,
   "metadata": {},
   "outputs": [
    {
     "name": "stdout",
     "output_type": "stream",
     "text": [
      "              precision    recall  f1-score   support\n",
      "\n",
      "           0       0.88      0.67      0.76       450\n",
      "           1       0.82      0.94      0.87       630\n",
      "           2       1.00      0.55      0.71       150\n",
      "           3       0.97      0.98      0.98       420\n",
      "           4       0.84      0.97      0.90       690\n",
      "           5       0.94      0.99      0.96       720\n",
      "           6       0.92      0.98      0.95       270\n",
      "           7       0.69      0.57      0.62        60\n",
      "           8       0.97      0.87      0.91       690\n",
      "           9       0.98      0.93      0.95        90\n",
      "\n",
      "    accuracy                           0.90      4170\n",
      "   macro avg       0.90      0.84      0.86      4170\n",
      "weighted avg       0.90      0.90      0.90      4170\n",
      "\n"
     ]
    }
   ],
   "source": [
    "print(classification_report(rounded_labels,prediction2))"
   ]
  },
  {
   "cell_type": "code",
   "execution_count": null,
   "metadata": {},
   "outputs": [],
   "source": []
  }
 ],
 "metadata": {
  "kernelspec": {
   "display_name": "Python 3",
   "language": "python",
   "name": "python3"
  },
  "language_info": {
   "codemirror_mode": {
    "name": "ipython",
    "version": 3
   },
   "file_extension": ".py",
   "mimetype": "text/x-python",
   "name": "python",
   "nbconvert_exporter": "python",
   "pygments_lexer": "ipython3",
   "version": "3.7.5"
  }
 },
 "nbformat": 4,
 "nbformat_minor": 4
}
