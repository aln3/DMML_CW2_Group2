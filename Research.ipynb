{
 "cells": [
  {
   "cell_type": "code",
   "execution_count": 1,
   "metadata": {},
   "outputs": [
    {
     "name": "stderr",
     "output_type": "stream",
     "text": [
      "Using TensorFlow backend.\n"
     ]
    }
   ],
   "source": [
    "import cv2\n",
    "import random\n",
    "import numpy as np\n",
    "import matplotlib.pyplot as plt\n",
    "import pandas as pd\n",
    "import seaborn as sns\n",
    "import time\n",
    "\n",
    "\n",
    "from numpy import genfromtxt\n",
    "from sklearn.metrics import accuracy_score, roc_curve\n",
    "from sklearn.metrics import confusion_matrix, classification_report\n",
    "from mpl_toolkits.mplot3d import Axes3D\n",
    "\n",
    "\n",
    "from sklearn.linear_model import LogisticRegression\n",
    "#----------------------------------------------Neural Net Imports\n",
    "from keras.datasets import mnist\n",
    "from keras.preprocessing.image import load_img, array_to_img\n",
    "from keras.utils.np_utils import to_categorical\n",
    "\n",
    "# Linear stack of NN layers\n",
    "from keras.models import Sequential\n",
    "\n",
    "# Ensure Fully connected layer \n",
    "from keras.layers import Dense\n",
    "#----------------------------------------------------------------\n",
    "\n",
    "import numpy as np\n",
    "import matplotlib.pyplot as plt\n",
    "%matplotlib inline\n",
    "\n",
    "\n",
    "\n",
    "num_pixels = 28\n",
    "%matplotlib inline"
   ]
  },
  {
   "cell_type": "code",
   "execution_count": 2,
   "metadata": {},
   "outputs": [
    {
     "name": "stdout",
     "output_type": "stream",
     "text": [
      "[39. 40. 39. ... 43. 45. 45.]\n"
     ]
    }
   ],
   "source": [
    "x_test = genfromtxt('Data/Testing/x_test_gr_smpl.csv', delimiter=',', skip_header =1)\n",
    "print(x_test[0])"
   ]
  },
  {
   "cell_type": "code",
   "execution_count": 3,
   "metadata": {},
   "outputs": [],
   "source": [
    "def makeContrastedDataset(dataset, upperLimitOfContrast, lowerLimitOfContrast):\n",
    "    manipulationDataset = []\n",
    "    for val in dataset:\n",
    "        index = []\n",
    "        for a in val:\n",
    "            b = random.randint(lowerLimitOfContrast, upperLimitOfContrast)\n",
    "            newVal = b + a\n",
    "            if newVal > 255:\n",
    "                newVal = 255\n",
    "            if newVal < 0:\n",
    "                newVal = 0\n",
    "            index.append(newVal)\n",
    "        manipulationDataset.append(index)\n",
    "    return manipulationDataset"
   ]
  },
  {
   "cell_type": "code",
   "execution_count": 4,
   "metadata": {},
   "outputs": [
    {
     "name": "stdout",
     "output_type": "stream",
     "text": [
      "[39. 40. 39. ... 43. 45. 45.]\n"
     ]
    }
   ],
   "source": [
    "print(x_test[0])"
   ]
  },
  {
   "cell_type": "code",
   "execution_count": 5,
   "metadata": {},
   "outputs": [],
   "source": [
    "brightx_test = makeContrastedDataset(x_test, 15, 10)"
   ]
  },
  {
   "cell_type": "code",
   "execution_count": 6,
   "metadata": {},
   "outputs": [],
   "source": [
    "darkerx_test = makeContrastedDataset(x_test, -10, -15)"
   ]
  },
  {
   "cell_type": "code",
   "execution_count": 7,
   "metadata": {},
   "outputs": [
    {
     "data": {
      "text/plain": [
       "array([39., 40., 39., ..., 43., 45., 45.])"
      ]
     },
     "execution_count": 7,
     "metadata": {},
     "output_type": "execute_result"
    }
   ],
   "source": [
    "x_test[0]"
   ]
  },
  {
   "cell_type": "code",
   "execution_count": null,
   "metadata": {},
   "outputs": [],
   "source": []
  },
  {
   "cell_type": "code",
   "execution_count": null,
   "metadata": {},
   "outputs": [],
   "source": []
  },
  {
   "cell_type": "code",
   "execution_count": 8,
   "metadata": {},
   "outputs": [],
   "source": [
    "x_train = genfromtxt('Data/Training/x_train_gr_smpl.csv', delimiter=',', skip_header =1)\n",
    "y_train = genfromtxt('Data/Training/y_train_smpl.csv', delimiter=',', skip_header =1 )"
   ]
  },
  {
   "cell_type": "code",
   "execution_count": 9,
   "metadata": {},
   "outputs": [],
   "source": [
    "y_test = genfromtxt('Data/Testing/y_test_smpl.csv', delimiter=',', skip_header =1 )"
   ]
  },
  {
   "cell_type": "code",
   "execution_count": 10,
   "metadata": {},
   "outputs": [],
   "source": [
    "y_train = y_train.reshape(12660,1)\n",
    "train_data_combined = np.append(x_train, y_train, axis=1)\n",
    "\n",
    "y_test = y_test.reshape(4170,1)\n",
    "test_data_combined = np.append(brightx_test, y_test, axis=1)\n",
    "test_data_combined1 = np.append(darkerx_test, y_test, axis = 1)\n",
    "np.random.seed(0)\n",
    "np.random.shuffle(train_data_combined)\n",
    "np.random.shuffle(test_data_combined)\n",
    "np.random.shuffle(test_data_combined1)\n",
    "x_train = train_data_combined[:,:-1]\n",
    "y_train = train_data_combined[:, [-1]].reshape(12660,)\n",
    "\n",
    "brightx_test = test_data_combined[:,:-1]\n",
    "darkerx_test = test_data_combined1[:,:-1]\n",
    "y_test = test_data_combined[:, [-1]].reshape(4170,)\n",
    "# Normalisation of pixels\n",
    "x_train = x_train.astype('float')/255\n",
    "brightx_test  = brightx_test.astype('float')/255\n",
    "darkerx_test  = darkerx_test.astype('float')/255\n",
    "#  Reducing the number of attributes using opencv's reduce functionality as shown in the second python Lecture\n",
    "#  As seen in python lectures: https://vision.hw.ac.uk/webapps/blackboard/content/listContent.jsp?course_id=_94419_1&content_id=_3391865_1\n",
    "\n",
    "x_train = np.apply_along_axis(\n",
    "        func1d=lambda img: cv2.resize(img.reshape((48,48)), (num_pixels,num_pixels)),\n",
    "        axis =1, arr = x_train).reshape((-1,num_pixels*num_pixels))\n",
    "\n",
    "brightx_test  = np.apply_along_axis(\n",
    "        func1d=lambda img: cv2.resize(img.reshape((48,48)), (num_pixels,num_pixels)),\n",
    "        axis =1, arr = brightx_test).reshape((-1,num_pixels*num_pixels))\n",
    "\n",
    "darkerx_test  = np.apply_along_axis(\n",
    "        func1d=lambda img: cv2.resize(img.reshape((48,48)), (num_pixels,num_pixels)),\n",
    "        axis =1, arr = darkerx_test).reshape((-1,num_pixels*num_pixels))"
   ]
  },
  {
   "cell_type": "code",
   "execution_count": 11,
   "metadata": {},
   "outputs": [],
   "source": [
    "y_train = to_categorical(y_train,10)\n",
    "y_test = to_categorical(y_test,10)"
   ]
  },
  {
   "cell_type": "code",
   "execution_count": 12,
   "metadata": {},
   "outputs": [],
   "source": [
    "model2 = Sequential()"
   ]
  },
  {
   "cell_type": "code",
   "execution_count": 13,
   "metadata": {},
   "outputs": [],
   "source": [
    "model2.add(Dense(512, activation = 'relu',input_shape=(784,)))\n",
    "\n",
    "# Layer 2\n",
    "model2.add(Dense(512, activation = 'relu'))\n",
    "# Layer 3\n",
    "model2.add(Dense(512, activation = 'relu'))\n",
    "# Layer 4\n",
    "model2.add(Dense(512, activation = 'relu'))\n",
    "\n",
    "#Output Layer\n",
    "model2.add(Dense(10, activation = 'softmax'))"
   ]
  },
  {
   "cell_type": "code",
   "execution_count": 14,
   "metadata": {},
   "outputs": [],
   "source": [
    "model2.compile(optimizer='adam', loss='categorical_crossentropy', metrics = ['accuracy'])"
   ]
  },
  {
   "cell_type": "code",
   "execution_count": 15,
   "metadata": {},
   "outputs": [
    {
     "name": "stdout",
     "output_type": "stream",
     "text": [
      "Model: \"sequential_1\"\n",
      "_________________________________________________________________\n",
      "Layer (type)                 Output Shape              Param #   \n",
      "=================================================================\n",
      "dense_1 (Dense)              (None, 512)               401920    \n",
      "_________________________________________________________________\n",
      "dense_2 (Dense)              (None, 512)               262656    \n",
      "_________________________________________________________________\n",
      "dense_3 (Dense)              (None, 512)               262656    \n",
      "_________________________________________________________________\n",
      "dense_4 (Dense)              (None, 512)               262656    \n",
      "_________________________________________________________________\n",
      "dense_5 (Dense)              (None, 10)                5130      \n",
      "=================================================================\n",
      "Total params: 1,195,018\n",
      "Trainable params: 1,195,018\n",
      "Non-trainable params: 0\n",
      "_________________________________________________________________\n"
     ]
    }
   ],
   "source": [
    "model2.summary()"
   ]
  },
  {
   "cell_type": "code",
   "execution_count": 16,
   "metadata": {},
   "outputs": [
    {
     "name": "stdout",
     "output_type": "stream",
     "text": [
      "Train on 12660 samples, validate on 4170 samples\n",
      "Epoch 1/20\n",
      "12660/12660 [==============================] - 14s 1ms/step - loss: 0.8636 - accuracy: 0.7021 - val_loss: 0.6333 - val_accuracy: 0.7691\n",
      "Epoch 2/20\n",
      "12660/12660 [==============================] - 13s 1ms/step - loss: 0.3822 - accuracy: 0.8606 - val_loss: 0.6952 - val_accuracy: 0.7844\n",
      "Epoch 3/20\n",
      "12660/12660 [==============================] - 14s 1ms/step - loss: 0.2760 - accuracy: 0.8995 - val_loss: 0.6155 - val_accuracy: 0.7983\n",
      "Epoch 4/20\n",
      "12660/12660 [==============================] - 14s 1ms/step - loss: 0.2422 - accuracy: 0.9102 - val_loss: 0.4767 - val_accuracy: 0.8477\n",
      "Epoch 5/20\n",
      "12660/12660 [==============================] - 14s 1ms/step - loss: 0.1971 - accuracy: 0.9299 - val_loss: 0.4374 - val_accuracy: 0.8765\n",
      "Epoch 6/20\n",
      "12660/12660 [==============================] - 14s 1ms/step - loss: 0.1749 - accuracy: 0.9403 - val_loss: 0.3982 - val_accuracy: 0.8950\n",
      "Epoch 7/20\n",
      "12660/12660 [==============================] - 14s 1ms/step - loss: 0.1432 - accuracy: 0.9485 - val_loss: 0.5952 - val_accuracy: 0.8381\n",
      "Epoch 8/20\n",
      "12660/12660 [==============================] - 14s 1ms/step - loss: 0.1441 - accuracy: 0.9523 - val_loss: 0.3557 - val_accuracy: 0.9041\n",
      "Epoch 9/20\n",
      "12660/12660 [==============================] - 14s 1ms/step - loss: 0.1388 - accuracy: 0.9537 - val_loss: 0.4476 - val_accuracy: 0.8957\n",
      "Epoch 10/20\n",
      "12660/12660 [==============================] - 13s 1ms/step - loss: 0.1132 - accuracy: 0.9590 - val_loss: 0.6137 - val_accuracy: 0.8374\n",
      "Epoch 11/20\n",
      "12660/12660 [==============================] - 13s 988us/step - loss: 0.1155 - accuracy: 0.9597 - val_loss: 0.4564 - val_accuracy: 0.8647\n",
      "Epoch 12/20\n",
      "12660/12660 [==============================] - 12s 963us/step - loss: 0.1179 - accuracy: 0.9626 - val_loss: 0.4592 - val_accuracy: 0.8839\n",
      "Epoch 13/20\n",
      "12660/12660 [==============================] - 12s 983us/step - loss: 0.0995 - accuracy: 0.9666 - val_loss: 0.4403 - val_accuracy: 0.8902\n",
      "Epoch 14/20\n",
      "12660/12660 [==============================] - 12s 971us/step - loss: 0.0995 - accuracy: 0.9663 - val_loss: 0.4476 - val_accuracy: 0.8859\n",
      "Epoch 15/20\n",
      "12660/12660 [==============================] - 12s 961us/step - loss: 0.0988 - accuracy: 0.9675 - val_loss: 0.6300 - val_accuracy: 0.8153\n",
      "Epoch 16/20\n",
      "12660/12660 [==============================] - 12s 970us/step - loss: 0.0863 - accuracy: 0.9712 - val_loss: 0.3777 - val_accuracy: 0.9046\n",
      "Epoch 17/20\n",
      "12660/12660 [==============================] - 13s 1ms/step - loss: 0.0805 - accuracy: 0.9727 - val_loss: 0.5531 - val_accuracy: 0.8902\n",
      "Epoch 18/20\n",
      "12660/12660 [==============================] - 14s 1ms/step - loss: 0.0844 - accuracy: 0.9723 - val_loss: 1.1421 - val_accuracy: 0.8516\n",
      "Epoch 19/20\n",
      "12660/12660 [==============================] - 13s 1ms/step - loss: 0.0691 - accuracy: 0.9760 - val_loss: 0.7663 - val_accuracy: 0.8391\n",
      "Epoch 20/20\n",
      "12660/12660 [==============================] - 13s 1ms/step - loss: 0.0929 - accuracy: 0.9692 - val_loss: 0.4576 - val_accuracy: 0.8995\n"
     ]
    }
   ],
   "source": [
    "Brighter_Model = model2.fit(x_train,y_train, epochs = 20, validation_data = (brightx_test, y_test))"
   ]
  },
  {
   "cell_type": "code",
   "execution_count": 17,
   "metadata": {},
   "outputs": [
    {
     "data": {
      "text/plain": [
       "Text(0, 0.5, 'Accuracy')"
      ]
     },
     "execution_count": 17,
     "metadata": {},
     "output_type": "execute_result"
    },
    {
     "data": {
      "image/png": "[encoded data removed]",
      "text/plain": [
       "<Figure size 432x288 with 1 Axes>"
      ]
     },
     "metadata": {
      "needs_background": "light"
     },
     "output_type": "display_data"
    }
   ],
   "source": [
    "plt.plot(Brighter_Model.history['accuracy'], label='Accuracy of Base Model')\n",
    "plt.plot(Brighter_Model.history['val_accuracy'], label=' Validation Accuracy of Base Model')\n",
    "plt.legend(loc='upper center', bbox_to_anchor=(0.5, -0.15), shadow=True, ncol=2)\n",
    "plt.xlabel('Epoch')\n",
    "plt.ylabel('Accuracy')"
   ]
  },
  {
   "cell_type": "code",
   "execution_count": 18,
   "metadata": {},
   "outputs": [],
   "source": [
    "model3 = Sequential()"
   ]
  },
  {
   "cell_type": "code",
   "execution_count": 19,
   "metadata": {},
   "outputs": [],
   "source": [
    "model3.add(Dense(512, activation = 'relu',input_shape=(784,)))\n",
    "\n",
    "# Layer 2\n",
    "model3.add(Dense(512, activation = 'relu'))\n",
    "\n",
    "#Output Layer\n",
    "model3.add(Dense(10, activation = 'softmax'))"
   ]
  },
  {
   "cell_type": "code",
   "execution_count": 20,
   "metadata": {},
   "outputs": [],
   "source": [
    "model3.compile(optimizer='adam', loss='categorical_crossentropy', metrics = ['accuracy'])"
   ]
  },
  {
   "cell_type": "code",
   "execution_count": 21,
   "metadata": {},
   "outputs": [
    {
     "name": "stdout",
     "output_type": "stream",
     "text": [
      "Model: \"sequential_2\"\n",
      "_________________________________________________________________\n",
      "Layer (type)                 Output Shape              Param #   \n",
      "=================================================================\n",
      "dense_6 (Dense)              (None, 512)               401920    \n",
      "_________________________________________________________________\n",
      "dense_7 (Dense)              (None, 512)               262656    \n",
      "_________________________________________________________________\n",
      "dense_8 (Dense)              (None, 10)                5130      \n",
      "=================================================================\n",
      "Total params: 669,706\n",
      "Trainable params: 669,706\n",
      "Non-trainable params: 0\n",
      "_________________________________________________________________\n"
     ]
    }
   ],
   "source": [
    "model3.summary()"
   ]
  },
  {
   "cell_type": "code",
   "execution_count": null,
   "metadata": {},
   "outputs": [],
   "source": []
  },
  {
   "cell_type": "code",
   "execution_count": 22,
   "metadata": {},
   "outputs": [
    {
     "name": "stdout",
     "output_type": "stream",
     "text": [
      "Train on 12660 samples, validate on 4170 samples\n",
      "Epoch 1/20\n",
      "12660/12660 [==============================] - 9s 675us/step - loss: 0.8167 - accuracy: 0.7453 - val_loss: 8.8357 - val_accuracy: 0.1496\n",
      "Epoch 2/20\n",
      "12660/12660 [==============================] - 8s 599us/step - loss: 0.4149 - accuracy: 0.8661 - val_loss: 11.2572 - val_accuracy: 0.1448\n",
      "Epoch 3/20\n",
      "12660/12660 [==============================] - 8s 621us/step - loss: 0.2748 - accuracy: 0.9096 - val_loss: 13.6622 - val_accuracy: 0.1439\n",
      "Epoch 4/20\n",
      "12660/12660 [==============================] - 7s 591us/step - loss: 0.2445 - accuracy: 0.9201 - val_loss: 14.5988 - val_accuracy: 0.1429\n",
      "Epoch 5/20\n",
      "12660/12660 [==============================] - 8s 666us/step - loss: 0.1976 - accuracy: 0.9356 - val_loss: 15.6340 - val_accuracy: 0.1386\n",
      "Epoch 6/20\n",
      "12660/12660 [==============================] - 8s 658us/step - loss: 0.1569 - accuracy: 0.9491 - val_loss: 17.3173 - val_accuracy: 0.1379\n",
      "Epoch 7/20\n",
      "12660/12660 [==============================] - 9s 704us/step - loss: 0.1539 - accuracy: 0.9500 - val_loss: 18.0111 - val_accuracy: 0.1436\n",
      "Epoch 8/20\n",
      "12660/12660 [==============================] - 9s 673us/step - loss: 0.1376 - accuracy: 0.9562 - val_loss: 18.8886 - val_accuracy: 0.1458\n",
      "Epoch 9/20\n",
      "12660/12660 [==============================] - 9s 689us/step - loss: 0.1059 - accuracy: 0.9650 - val_loss: 20.2387 - val_accuracy: 0.1412\n",
      "Epoch 10/20\n",
      "12660/12660 [==============================] - 9s 672us/step - loss: 0.1187 - accuracy: 0.9610 - val_loss: 19.3142 - val_accuracy: 0.1436\n",
      "Epoch 11/20\n",
      "12660/12660 [==============================] - 9s 729us/step - loss: 0.1159 - accuracy: 0.9637 - val_loss: 20.2793 - val_accuracy: 0.1424\n",
      "Epoch 12/20\n",
      "12660/12660 [==============================] - 8s 660us/step - loss: 0.0955 - accuracy: 0.9690 - val_loss: 20.5377 - val_accuracy: 0.1439\n",
      "Epoch 13/20\n",
      "12660/12660 [==============================] - 9s 705us/step - loss: 0.0751 - accuracy: 0.9745 - val_loss: 22.5106 - val_accuracy: 0.1436\n",
      "Epoch 14/20\n",
      "12660/12660 [==============================] - 9s 694us/step - loss: 0.0602 - accuracy: 0.9805 - val_loss: 25.1400 - val_accuracy: 0.1422\n",
      "Epoch 15/20\n",
      "12660/12660 [==============================] - 8s 646us/step - loss: 0.1063 - accuracy: 0.9657 - val_loss: 22.1833 - val_accuracy: 0.1420\n",
      "Epoch 16/20\n",
      "12660/12660 [==============================] - 8s 650us/step - loss: 0.0854 - accuracy: 0.9724 - val_loss: 23.6898 - val_accuracy: 0.1427\n",
      "Epoch 17/20\n",
      "12660/12660 [==============================] - 8s 639us/step - loss: 0.0590 - accuracy: 0.9802 - val_loss: 26.1539 - val_accuracy: 0.1415\n",
      "Epoch 18/20\n",
      "12660/12660 [==============================] - 8s 641us/step - loss: 0.0537 - accuracy: 0.9818 - val_loss: 26.5095 - val_accuracy: 0.1415\n",
      "Epoch 19/20\n",
      "12660/12660 [==============================] - 8s 618us/step - loss: 0.0703 - accuracy: 0.9783 - val_loss: 26.7412 - val_accuracy: 0.1415\n",
      "Epoch 20/20\n",
      "12660/12660 [==============================] - 8s 652us/step - loss: 0.0488 - accuracy: 0.9842 - val_loss: 27.8087 - val_accuracy: 0.1405\n"
     ]
    }
   ],
   "source": [
    "Darker_Model = model3.fit(x_train,y_train, epochs = 20, validation_data = (darkerx_test, y_test))"
   ]
  },
  {
   "cell_type": "code",
   "execution_count": 23,
   "metadata": {},
   "outputs": [
    {
     "data": {
      "text/plain": [
       "Text(0, 0.5, 'Accuracy')"
      ]
     },
     "execution_count": 23,
     "metadata": {},
     "output_type": "execute_result"
    },
    {
     "data": {
      "image/png": "[encoded data removed]",
      "text/plain": [
       "<Figure size 432x288 with 1 Axes>"
      ]
     },
     "metadata": {
      "needs_background": "light"
     },
     "output_type": "display_data"
    }
   ],
   "source": [
    "plt.plot(Brighter_Model.history['accuracy'], label='Accuracy of Brighter Model')\n",
    "plt.plot(Darker_Model.history['accuracy'], label='Accuracy of Darker Model')\n",
    "plt.plot(Brighter_Model.history['val_accuracy'], label=' Validation Accuracy of Brighter Model')\n",
    "plt.plot(Darker_Model.history['val_accuracy'], label=' Validation Accuracy of Darker Model')\n",
    "plt.legend(loc='upper center', bbox_to_anchor=(0.5, -0.15), shadow=True, ncol=2)\n",
    "plt.xlabel('Epoch')\n",
    "plt.ylabel('Accuracy')"
   ]
  },
  {
   "cell_type": "markdown",
   "metadata": {},
   "source": [
    "# Adding Dropout to reduce Overfitting"
   ]
  },
  {
   "cell_type": "code",
   "execution_count": 24,
   "metadata": {},
   "outputs": [],
   "source": [
    "from keras.layers import Dropout"
   ]
  },
  {
   "cell_type": "code",
   "execution_count": 25,
   "metadata": {},
   "outputs": [],
   "source": [
    "model4 = Sequential()"
   ]
  },
  {
   "cell_type": "code",
   "execution_count": 26,
   "metadata": {},
   "outputs": [],
   "source": [
    "model4.add(Dense(512, activation = 'relu',input_shape=(784,)))\n",
    "model4.add(Dropout(0.2))\n",
    "# Layer 2\n",
    "model4.add(Dense(512, activation = 'relu'))\n",
    "model4.add(Dropout(0.2))\n",
    "# Layer 3\n",
    "model4.add(Dense(512, activation = 'relu'))\n",
    "model4.add(Dropout(0.2))\n",
    "# Layer 4\n",
    "model4.add(Dense(512, activation = 'relu'))\n",
    "model4.add(Dropout(0.2))\n",
    "#Output Layer\n",
    "model4.add(Dense(10, activation = 'softmax'))"
   ]
  },
  {
   "cell_type": "code",
   "execution_count": 27,
   "metadata": {},
   "outputs": [],
   "source": [
    "model4.compile(optimizer='adam', loss='categorical_crossentropy', metrics = ['accuracy'])"
   ]
  },
  {
   "cell_type": "code",
   "execution_count": 28,
   "metadata": {},
   "outputs": [
    {
     "name": "stdout",
     "output_type": "stream",
     "text": [
      "Model: \"sequential_3\"\n",
      "_________________________________________________________________\n",
      "Layer (type)                 Output Shape              Param #   \n",
      "=================================================================\n",
      "dense_9 (Dense)              (None, 512)               401920    \n",
      "_________________________________________________________________\n",
      "dropout_1 (Dropout)          (None, 512)               0         \n",
      "_________________________________________________________________\n",
      "dense_10 (Dense)             (None, 512)               262656    \n",
      "_________________________________________________________________\n",
      "dropout_2 (Dropout)          (None, 512)               0         \n",
      "_________________________________________________________________\n",
      "dense_11 (Dense)             (None, 512)               262656    \n",
      "_________________________________________________________________\n",
      "dropout_3 (Dropout)          (None, 512)               0         \n",
      "_________________________________________________________________\n",
      "dense_12 (Dense)             (None, 512)               262656    \n",
      "_________________________________________________________________\n",
      "dropout_4 (Dropout)          (None, 512)               0         \n",
      "_________________________________________________________________\n",
      "dense_13 (Dense)             (None, 10)                5130      \n",
      "=================================================================\n",
      "Total params: 1,195,018\n",
      "Trainable params: 1,195,018\n",
      "Non-trainable params: 0\n",
      "_________________________________________________________________\n"
     ]
    }
   ],
   "source": [
    "model4.summary()"
   ]
  },
  {
   "cell_type": "code",
   "execution_count": 29,
   "metadata": {},
   "outputs": [
    {
     "name": "stdout",
     "output_type": "stream",
     "text": [
      "Train on 12660 samples, validate on 4170 samples\n",
      "Epoch 1/20\n",
      "12660/12660 [==============================] - 17s 1ms/step - loss: 1.0733 - accuracy: 0.6264 - val_loss: 0.6608 - val_accuracy: 0.7542\n",
      "Epoch 2/20\n",
      "12660/12660 [==============================] - 15s 1ms/step - loss: 0.5124 - accuracy: 0.8130 - val_loss: 0.5259 - val_accuracy: 0.8295\n",
      "Epoch 3/20\n",
      "12660/12660 [==============================] - 16s 1ms/step - loss: 0.4211 - accuracy: 0.8462 - val_loss: 0.4750 - val_accuracy: 0.8235\n",
      "Epoch 4/20\n",
      "12660/12660 [==============================] - 15s 1ms/step - loss: 0.3499 - accuracy: 0.8725 - val_loss: 0.5161 - val_accuracy: 0.8367\n",
      "Epoch 5/20\n",
      "12660/12660 [==============================] - 15s 1ms/step - loss: 0.3109 - accuracy: 0.8888 - val_loss: 0.3238 - val_accuracy: 0.8995\n",
      "Epoch 6/20\n",
      "12660/12660 [==============================] - 15s 1ms/step - loss: 0.2879 - accuracy: 0.8957 - val_loss: 0.3857 - val_accuracy: 0.8621\n",
      "Epoch 7/20\n",
      "12660/12660 [==============================] - 15s 1ms/step - loss: 0.2605 - accuracy: 0.9088 - val_loss: 0.3713 - val_accuracy: 0.8801\n",
      "Epoch 8/20\n",
      "12660/12660 [==============================] - 14s 1ms/step - loss: 0.2315 - accuracy: 0.9187 - val_loss: 0.3813 - val_accuracy: 0.8940\n",
      "Epoch 9/20\n",
      "12660/12660 [==============================] - 15s 1ms/step - loss: 0.2439 - accuracy: 0.9135 - val_loss: 0.3246 - val_accuracy: 0.9070\n",
      "Epoch 10/20\n",
      "12660/12660 [==============================] - 15s 1ms/step - loss: 0.2194 - accuracy: 0.9250 - val_loss: 0.3453 - val_accuracy: 0.8935\n",
      "Epoch 11/20\n",
      "12660/12660 [==============================] - 15s 1ms/step - loss: 0.2092 - accuracy: 0.9251 - val_loss: 0.2853 - val_accuracy: 0.9170\n",
      "Epoch 12/20\n",
      "12660/12660 [==============================] - 15s 1ms/step - loss: 0.2235 - accuracy: 0.9206 - val_loss: 0.4168 - val_accuracy: 0.8700\n",
      "Epoch 13/20\n",
      "12660/12660 [==============================] - 15s 1ms/step - loss: 0.1985 - accuracy: 0.9343 - val_loss: 0.4046 - val_accuracy: 0.8863\n",
      "Epoch 14/20\n",
      "12660/12660 [==============================] - 15s 1ms/step - loss: 0.1846 - accuracy: 0.9386 - val_loss: 0.4262 - val_accuracy: 0.8710\n",
      "Epoch 15/20\n",
      "12660/12660 [==============================] - 15s 1ms/step - loss: 0.1877 - accuracy: 0.9370 - val_loss: 0.3344 - val_accuracy: 0.9137\n",
      "Epoch 16/20\n",
      "12660/12660 [==============================] - 15s 1ms/step - loss: 0.1810 - accuracy: 0.9396 - val_loss: 0.3375 - val_accuracy: 0.9017\n",
      "Epoch 17/20\n",
      "12660/12660 [==============================] - 15s 1ms/step - loss: 0.1722 - accuracy: 0.9403 - val_loss: 0.2978 - val_accuracy: 0.9252\n",
      "Epoch 18/20\n",
      "12660/12660 [==============================] - 15s 1ms/step - loss: 0.1774 - accuracy: 0.9420 - val_loss: 0.3092 - val_accuracy: 0.9173\n",
      "Epoch 19/20\n",
      "12660/12660 [==============================] - 14s 1ms/step - loss: 0.1699 - accuracy: 0.9410 - val_loss: 0.2995 - val_accuracy: 0.9187\n",
      "Epoch 20/20\n",
      "12660/12660 [==============================] - 14s 1ms/step - loss: 0.1649 - accuracy: 0.9462 - val_loss: 0.2958 - val_accuracy: 0.9233\n"
     ]
    }
   ],
   "source": [
    "NoOverFit = model4.fit(x_train,y_train, epochs = 20, validation_data = (brightx_test, y_test))"
   ]
  },
  {
   "cell_type": "code",
   "execution_count": 41,
   "metadata": {},
   "outputs": [
    {
     "data": {
      "text/plain": [
       "Text(0, 0.5, 'Accuracy')"
      ]
     },
     "execution_count": 41,
     "metadata": {},
     "output_type": "execute_result"
    },
    {
     "data": {
      "image/png": "[encoded data removed]",
      "text/plain": [
       "<Figure size 432x288 with 1 Axes>"
      ]
     },
     "metadata": {
      "needs_background": "light"
     },
     "output_type": "display_data"
    }
   ],
   "source": [
    "plt.plot(Brighter_Model.history['accuracy'], label='Accuracy of Base Model')\n",
    "plt.plot(NoOverFit.history['accuracy'], label='Accuracy of Dropout Model')\n",
    "plt.plot(Brighter_Model.history['val_accuracy'], label=' Validation Accuracy of Base Model')\n",
    "plt.plot(NoOverFit.history['val_accuracy'], label=' Validation Accuracy of Dropout Model')\n",
    "plt.legend(loc='upper center', bbox_to_anchor=(0.5, -0.15), shadow=True, ncol=2)\n",
    "plt.xlabel('Epoch')\n",
    "plt.ylabel('Accuracy')"
   ]
  },
  {
   "cell_type": "code",
   "execution_count": 31,
   "metadata": {},
   "outputs": [],
   "source": [
    "x_test  = np.apply_along_axis(\n",
    "        func1d=lambda img: cv2.resize(img.reshape((48,48)), (num_pixels,num_pixels)),\n",
    "        axis =1, arr = x_test).reshape((-1,num_pixels*num_pixels))"
   ]
  },
  {
   "cell_type": "code",
   "execution_count": 44,
   "metadata": {},
   "outputs": [],
   "source": [
    "prediction1 = model2.predict_classes(brightx_test, batch_size=10)"
   ]
  },
  {
   "cell_type": "code",
   "execution_count": 45,
   "metadata": {},
   "outputs": [],
   "source": [
    "prediction2 = model4.predict_classes(brightx_test, batch_size=10)"
   ]
  },
  {
   "cell_type": "code",
   "execution_count": 46,
   "metadata": {},
   "outputs": [],
   "source": [
    "rounded_labels=np.argmax(y_test, axis=1)"
   ]
  },
  {
   "cell_type": "code",
   "execution_count": 47,
   "metadata": {},
   "outputs": [],
   "source": [
    "cm = confusion_matrix(rounded_labels, prediction1)"
   ]
  },
  {
   "cell_type": "code",
   "execution_count": 48,
   "metadata": {},
   "outputs": [],
   "source": [
    "cm1 = confusion_matrix(rounded_labels, prediction2)"
   ]
  },
  {
   "cell_type": "code",
   "execution_count": 49,
   "metadata": {},
   "outputs": [
    {
     "data": {
      "image/png": "[encoded data removed]",
      "text/plain": [
       "<Figure size 432x288 with 1 Axes>"
      ]
     },
     "metadata": {
      "needs_background": "light"
     },
     "output_type": "display_data"
    }
   ],
   "source": [
    "sns.heatmap(cm.T, square=True, annot=True,cmap=\"RdPu\", fmt='.0f', cbar=False)\n",
    "plt.xlabel('True Class')\n",
    "plt.ylabel('Predicted Class');"
   ]
  },
  {
   "cell_type": "code",
   "execution_count": 50,
   "metadata": {},
   "outputs": [
    {
     "data": {
      "image/png": "[encoded data removed]",
      "text/plain": [
       "<Figure size 432x288 with 1 Axes>"
      ]
     },
     "metadata": {
      "needs_background": "light"
     },
     "output_type": "display_data"
    }
   ],
   "source": [
    "sns.heatmap(cm1.T, square=True, annot=True,cmap=\"RdPu\", fmt='.0f', cbar=False)\n",
    "plt.xlabel('True Class')\n",
    "plt.ylabel('Predicted Class');"
   ]
  },
  {
   "cell_type": "code",
   "execution_count": 51,
   "metadata": {},
   "outputs": [
    {
     "name": "stdout",
     "output_type": "stream",
     "text": [
      "              precision    recall  f1-score   support\n",
      "\n",
      "           0       0.85      0.78      0.81       450\n",
      "           1       0.87      0.90      0.89       630\n",
      "           2       0.98      0.63      0.76       150\n",
      "           3       0.82      0.98      0.89       420\n",
      "           4       0.96      0.88      0.92       690\n",
      "           5       0.94      0.97      0.96       720\n",
      "           6       0.94      1.00      0.97       270\n",
      "           7       0.65      0.70      0.67        60\n",
      "           8       0.90      0.97      0.94       690\n",
      "           9       0.97      0.37      0.53        90\n",
      "\n",
      "    accuracy                           0.90      4170\n",
      "   macro avg       0.89      0.82      0.83      4170\n",
      "weighted avg       0.90      0.90      0.90      4170\n",
      "\n"
     ]
    }
   ],
   "source": [
    "print(classification_report(rounded_labels,prediction1))"
   ]
  },
  {
   "cell_type": "code",
   "execution_count": 52,
   "metadata": {},
   "outputs": [
    {
     "name": "stdout",
     "output_type": "stream",
     "text": [
      "              precision    recall  f1-score   support\n",
      "\n",
      "           0       0.92      0.74      0.82       450\n",
      "           1       0.86      0.93      0.89       630\n",
      "           2       0.99      0.77      0.86       150\n",
      "           3       0.94      0.96      0.95       420\n",
      "           4       0.94      0.96      0.95       690\n",
      "           5       0.95      0.99      0.97       720\n",
      "           6       0.94      0.94      0.94       270\n",
      "           7       0.90      0.92      0.91        60\n",
      "           8       0.91      0.94      0.92       690\n",
      "           9       0.99      0.92      0.95        90\n",
      "\n",
      "    accuracy                           0.92      4170\n",
      "   macro avg       0.93      0.91      0.92      4170\n",
      "weighted avg       0.92      0.92      0.92      4170\n",
      "\n"
     ]
    }
   ],
   "source": [
    "print(classification_report(rounded_labels,prediction2))"
   ]
  },
  {
   "cell_type": "code",
   "execution_count": null,
   "metadata": {},
   "outputs": [],
   "source": []
  }
 ],
 "metadata": {
  "kernelspec": {
   "display_name": "Python 3",
   "language": "python",
   "name": "python3"
  },
  "language_info": {
   "codemirror_mode": {
    "name": "ipython",
    "version": 3
   },
   "file_extension": ".py",
   "mimetype": "text/x-python",
   "name": "python",
   "nbconvert_exporter": "python",
   "pygments_lexer": "ipython3",
   "version": "3.7.4"
  }
 },
 "nbformat": 4,
 "nbformat_minor": 4
}
