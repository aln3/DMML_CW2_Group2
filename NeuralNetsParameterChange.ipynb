{
 "cells": [
  {
   "cell_type": "code",
   "execution_count": 1,
   "metadata": {},
   "outputs": [
    {
     "name": "stderr",
     "output_type": "stream",
     "text": [
      "Using TensorFlow backend.\n"
     ]
    }
   ],
   "source": [
    "import cv2\n",
    "import random\n",
    "import numpy as np\n",
    "import matplotlib.pyplot as plt\n",
    "import pandas as pd\n",
    "import seaborn as sns\n",
    "import time\n",
    "\n",
    "\n",
    "from numpy import genfromtxt\n",
    "from sklearn.metrics import accuracy_score\n",
    "from sklearn.metrics import confusion_matrix, classification_report\n",
    "from mpl_toolkits.mplot3d import Axes3D\n",
    "\n",
    "\n",
    "from sklearn.linear_model import LogisticRegression\n",
    "#----------------------------------------------Neural Net Imports\n",
    "from keras.datasets import mnist\n",
    "from keras.preprocessing.image import load_img, array_to_img\n",
    "from keras.utils.np_utils import to_categorical\n",
    "\n",
    "# Linear stack of NN layers\n",
    "from keras.models import Sequential\n",
    "\n",
    "# Ensure Fully connected layer \n",
    "from keras.layers import Dense\n",
    "#----------------------------------------------------------------\n",
    "\n",
    "import numpy as np\n",
    "import matplotlib.pyplot as plt\n",
    "%matplotlib inline\n",
    "\n",
    "\n",
    "\n",
    "num_pixels = 28\n",
    "%matplotlib inline"
   ]
  },
  {
   "cell_type": "code",
   "execution_count": 2,
   "metadata": {},
   "outputs": [],
   "source": [
    "# Importing training  data from CSV files\n",
    "x_train = genfromtxt('Data/Training/x_train_gr_smpl.csv', delimiter=',', skip_header =1)\n",
    "y_train = genfromtxt('Data/Training/y_train_smpl.csv', delimiter=',', skip_header =1 )"
   ]
  },
  {
   "cell_type": "code",
   "execution_count": 3,
   "metadata": {},
   "outputs": [],
   "source": [
    "# Importing testing data from CSV files\n",
    "x_test = genfromtxt('Data/Testing/x_test_gr_smpl.csv', delimiter=',', skip_header =1)\n",
    "y_test = genfromtxt('Data/Testing/y_test_smpl.csv', delimiter=',', skip_header =1 )"
   ]
  },
  {
   "cell_type": "code",
   "execution_count": 4,
   "metadata": {},
   "outputs": [],
   "source": [
    "y_train = y_train.reshape(12660,1)\n",
    "train_data_combined = np.append(x_train, y_train, axis=1)\n",
    "\n",
    "y_test = y_test.reshape(4170,1)\n",
    "test_data_combined = np.append(x_test, y_test, axis=1)\n",
    "np.random.seed(0)\n",
    "np.random.shuffle(train_data_combined)\n",
    "np.random.shuffle(test_data_combined)\n",
    "x_train = train_data_combined[:,:-1]\n",
    "y_train = train_data_combined[:, [-1]].reshape(12660,)\n",
    "\n",
    "x_test = test_data_combined[:,:-1]\n",
    "y_test = test_data_combined[:, [-1]].reshape(4170,)\n",
    "# Normalisation of pixels\n",
    "x_train = x_train.astype('float')/255\n",
    "x_test  = x_test.astype('float')/255\n",
    "#  Reducing the number of attributes using opencv's reduce functionality as shown in the second python Lecture\n",
    "#  As seen in python lectures: https://vision.hw.ac.uk/webapps/blackboard/content/listContent.jsp?course_id=_94419_1&content_id=_3391865_1\n",
    "\n",
    "x_train = np.apply_along_axis(\n",
    "        func1d=lambda img: cv2.resize(img.reshape((48,48)), (num_pixels,num_pixels)),\n",
    "        axis =1, arr = x_train).reshape((-1,num_pixels*num_pixels))\n",
    "\n",
    "x_test  = np.apply_along_axis(\n",
    "        func1d=lambda img: cv2.resize(img.reshape((48,48)), (num_pixels,num_pixels)),\n",
    "        axis =1, arr = x_test).reshape((-1,num_pixels*num_pixels))"
   ]
  },
  {
   "cell_type": "code",
   "execution_count": 5,
   "metadata": {},
   "outputs": [],
   "source": [
    "# Creating 10 bins for output\n",
    "y_train = to_categorical(y_train,10)\n",
    "y_test = to_categorical(y_test,10)"
   ]
  },
  {
   "cell_type": "code",
   "execution_count": 6,
   "metadata": {},
   "outputs": [],
   "source": [
    "model = Sequential()"
   ]
  },
  {
   "cell_type": "code",
   "execution_count": 7,
   "metadata": {},
   "outputs": [],
   "source": [
    "model.add(Dense(512, activation = 'relu',input_shape=(784,)))\n",
    "\n",
    "# Layer 2\n",
    "model.add(Dense(512, activation = 'relu'))\n",
    "\n",
    "#Output Layer\n",
    "model.add(Dense(10, activation = 'softmax'))"
   ]
  },
  {
   "cell_type": "code",
   "execution_count": 8,
   "metadata": {},
   "outputs": [],
   "source": [
    "model.compile(optimizer='adam', loss='categorical_crossentropy', metrics = ['accuracy'])"
   ]
  },
  {
   "cell_type": "code",
   "execution_count": 9,
   "metadata": {},
   "outputs": [
    {
     "name": "stdout",
     "output_type": "stream",
     "text": [
      "Model: \"sequential_1\"\n",
      "_________________________________________________________________\n",
      "Layer (type)                 Output Shape              Param #   \n",
      "=================================================================\n",
      "dense_1 (Dense)              (None, 512)               401920    \n",
      "_________________________________________________________________\n",
      "dense_2 (Dense)              (None, 512)               262656    \n",
      "_________________________________________________________________\n",
      "dense_3 (Dense)              (None, 10)                5130      \n",
      "=================================================================\n",
      "Total params: 669,706\n",
      "Trainable params: 669,706\n",
      "Non-trainable params: 0\n",
      "_________________________________________________________________\n"
     ]
    }
   ],
   "source": [
    "model.summary()"
   ]
  },
  {
   "cell_type": "code",
   "execution_count": 10,
   "metadata": {},
   "outputs": [
    {
     "name": "stdout",
     "output_type": "stream",
     "text": [
      "Train on 12660 samples, validate on 4170 samples\n",
      "Epoch 1/20\n",
      "12660/12660 [==============================] - 3s 269us/step - loss: 0.8312 - accuracy: 0.7367 - val_loss: 0.6726 - val_accuracy: 0.7624\n",
      "Epoch 2/20\n",
      "12660/12660 [==============================] - 3s 248us/step - loss: 0.3804 - accuracy: 0.8731 - val_loss: 0.5159 - val_accuracy: 0.8420\n",
      "Epoch 3/20\n",
      "12660/12660 [==============================] - 3s 248us/step - loss: 0.2857 - accuracy: 0.9076 - val_loss: 0.4944 - val_accuracy: 0.8631\n",
      "Epoch 4/20\n",
      "12660/12660 [==============================] - 3s 242us/step - loss: 0.2469 - accuracy: 0.9184 - val_loss: 0.5742 - val_accuracy: 0.8592\n",
      "Epoch 5/20\n",
      "12660/12660 [==============================] - 3s 244us/step - loss: 0.1970 - accuracy: 0.9397 - val_loss: 0.4381 - val_accuracy: 0.8990\n",
      "Epoch 6/20\n",
      "12660/12660 [==============================] - 3s 242us/step - loss: 0.1513 - accuracy: 0.9498 - val_loss: 0.3433 - val_accuracy: 0.9249\n",
      "Epoch 7/20\n",
      "12660/12660 [==============================] - 3s 243us/step - loss: 0.1438 - accuracy: 0.9533 - val_loss: 0.3714 - val_accuracy: 0.9146\n",
      "Epoch 8/20\n",
      "12660/12660 [==============================] - 3s 246us/step - loss: 0.1388 - accuracy: 0.9536 - val_loss: 0.4563 - val_accuracy: 0.8894\n",
      "Epoch 9/20\n",
      "12660/12660 [==============================] - 3s 240us/step - loss: 0.1382 - accuracy: 0.9544 - val_loss: 0.4369 - val_accuracy: 0.9031\n",
      "Epoch 10/20\n",
      "12660/12660 [==============================] - 3s 251us/step - loss: 0.0928 - accuracy: 0.9697 - val_loss: 0.4328 - val_accuracy: 0.9002\n",
      "Epoch 11/20\n",
      "12660/12660 [==============================] - 3s 246us/step - loss: 0.1256 - accuracy: 0.9579 - val_loss: 0.5265 - val_accuracy: 0.8859\n",
      "Epoch 12/20\n",
      "12660/12660 [==============================] - 3s 250us/step - loss: 0.0981 - accuracy: 0.9667 - val_loss: 0.4026 - val_accuracy: 0.9199\n",
      "Epoch 13/20\n",
      "12660/12660 [==============================] - 3s 245us/step - loss: 0.0851 - accuracy: 0.9730 - val_loss: 0.4835 - val_accuracy: 0.9024\n",
      "Epoch 14/20\n",
      "12660/12660 [==============================] - 3s 249us/step - loss: 0.0708 - accuracy: 0.9780 - val_loss: 0.6823 - val_accuracy: 0.8820\n",
      "Epoch 15/20\n",
      "12660/12660 [==============================] - 3s 242us/step - loss: 0.0844 - accuracy: 0.9711 - val_loss: 0.4677 - val_accuracy: 0.8938\n",
      "Epoch 16/20\n",
      "12660/12660 [==============================] - 3s 244us/step - loss: 0.0695 - accuracy: 0.9781 - val_loss: 0.3564 - val_accuracy: 0.9283\n",
      "Epoch 17/20\n",
      "12660/12660 [==============================] - 3s 250us/step - loss: 0.0748 - accuracy: 0.9754 - val_loss: 0.6798 - val_accuracy: 0.8621\n",
      "Epoch 18/20\n",
      "12660/12660 [==============================] - 3s 242us/step - loss: 0.0584 - accuracy: 0.9785 - val_loss: 0.3983 - val_accuracy: 0.9201\n",
      "Epoch 19/20\n",
      "12660/12660 [==============================] - 3s 254us/step - loss: 0.0675 - accuracy: 0.9771 - val_loss: 0.4211 - val_accuracy: 0.9125\n",
      "Epoch 20/20\n",
      "12660/12660 [==============================] - 4s 301us/step - loss: 0.0545 - accuracy: 0.9816 - val_loss: 0.4828 - val_accuracy: 0.9077\n"
     ]
    }
   ],
   "source": [
    "Base_Model = model.fit(x_train,y_train, epochs = 20, validation_data = (x_test, y_test))"
   ]
  },
  {
   "cell_type": "code",
   "execution_count": 11,
   "metadata": {},
   "outputs": [
    {
     "data": {
      "text/plain": [
       "[<matplotlib.lines.Line2D at 0x17dfd501f48>]"
      ]
     },
     "execution_count": 11,
     "metadata": {},
     "output_type": "execute_result"
    },
    {
     "data": {
      "image/png": "[encoded data removed]",
      "text/plain": [
       "<Figure size 432x288 with 1 Axes>"
      ]
     },
     "metadata": {
      "needs_background": "light"
     },
     "output_type": "display_data"
    }
   ],
   "source": [
    "plt.plot(Base_Model.history['accuracy'])"
   ]
  },
  {
   "cell_type": "code",
   "execution_count": 13,
   "metadata": {},
   "outputs": [
    {
     "data": {
      "text/plain": [
       "[<matplotlib.lines.Line2D at 0x17df8c7c348>]"
      ]
     },
     "execution_count": 13,
     "metadata": {},
     "output_type": "execute_result"
    },
    {
     "data": {
      "image/png": "[encoded data removed]",
      "text/plain": [
       "<Figure size 432x288 with 1 Axes>"
      ]
     },
     "metadata": {
      "needs_background": "light"
     },
     "output_type": "display_data"
    }
   ],
   "source": [
    "plt.plot(Base_Model.history['accuracy'])\n",
    "plt.plot(Base_Model.history['val_accuracy'])"
   ]
  },
  {
   "cell_type": "code",
   "execution_count": 14,
   "metadata": {},
   "outputs": [
    {
     "name": "stdout",
     "output_type": "stream",
     "text": [
      "4170/4170 [==============================] - 0s 98us/step\n"
     ]
    }
   ],
   "source": [
    "score = model.evaluate(x_test, y_test)"
   ]
  },
  {
   "cell_type": "code",
   "execution_count": 30,
   "metadata": {},
   "outputs": [
    {
     "data": {
      "text/plain": [
       "[0.48275352509187563, 0.9076738357543945]"
      ]
     },
     "execution_count": 30,
     "metadata": {},
     "output_type": "execute_result"
    }
   ],
   "source": [
    "score"
   ]
  },
  {
   "cell_type": "code",
   "execution_count": 52,
   "metadata": {},
   "outputs": [],
   "source": [
    "predictions = model.predict_classes(x_test, batch_size=10)"
   ]
  },
  {
   "cell_type": "code",
   "execution_count": 48,
   "metadata": {},
   "outputs": [],
   "source": [
    "rounded_labels=np.argmax(y_test, axis=1)"
   ]
  },
  {
   "cell_type": "code",
   "execution_count": 49,
   "metadata": {},
   "outputs": [],
   "source": [
    "cm = confusion_matrix(rounded_labels, predictions)"
   ]
  },
  {
   "cell_type": "code",
   "execution_count": 50,
   "metadata": {},
   "outputs": [
    {
     "data": {
      "image/png": "[encoded data removed]",
      "text/plain": [
       "<Figure size 432x288 with 1 Axes>"
      ]
     },
     "metadata": {
      "needs_background": "light"
     },
     "output_type": "display_data"
    }
   ],
   "source": [
    "sns.heatmap(cm.T, square=True, annot=True,cmap=\"RdPu\", fmt='.0f', cbar=False)\n",
    "plt.xlabel('True Class')\n",
    "plt.ylabel('Predicted Class');"
   ]
  },
  {
   "cell_type": "code",
   "execution_count": 64,
   "metadata": {},
   "outputs": [
    {
     "name": "stdout",
     "output_type": "stream",
     "text": [
      "              precision    recall  f1-score   support\n",
      "\n",
      "           0       0.92      0.75      0.83       450\n",
      "           1       0.80      0.95      0.87       630\n",
      "           2       0.95      0.75      0.84       150\n",
      "           3       0.82      0.98      0.89       420\n",
      "           4       0.94      0.88      0.91       690\n",
      "           5       0.96      0.99      0.98       720\n",
      "           6       0.91      0.97      0.94       270\n",
      "           7       0.85      0.93      0.89        60\n",
      "           8       0.98      0.93      0.96       690\n",
      "           9       0.98      0.53      0.69        90\n",
      "\n",
      "    accuracy                           0.91      4170\n",
      "   macro avg       0.91      0.87      0.88      4170\n",
      "weighted avg       0.91      0.91      0.91      4170\n",
      "\n"
     ]
    }
   ],
   "source": [
    "print(classification_report(rounded_labels,predictions))"
   ]
  },
  {
   "cell_type": "code",
   "execution_count": null,
   "metadata": {},
   "outputs": [],
   "source": []
  },
  {
   "cell_type": "code",
   "execution_count": null,
   "metadata": {},
   "outputs": [],
   "source": []
  },
  {
   "cell_type": "code",
   "execution_count": null,
   "metadata": {},
   "outputs": [],
   "source": []
  },
  {
   "cell_type": "code",
   "execution_count": null,
   "metadata": {},
   "outputs": [],
   "source": []
  },
  {
   "cell_type": "code",
   "execution_count": null,
   "metadata": {},
   "outputs": [],
   "source": []
  },
  {
   "cell_type": "code",
   "execution_count": null,
   "metadata": {},
   "outputs": [],
   "source": []
  },
  {
   "cell_type": "code",
   "execution_count": null,
   "metadata": {},
   "outputs": [],
   "source": []
  },
  {
   "cell_type": "code",
   "execution_count": 21,
   "metadata": {},
   "outputs": [],
   "source": [
    "def construct_new_model():\n",
    "    model = Sequential()\n",
    "    # Dense Adds fully connected nodes in each layer \n",
    "\n",
    "    # Input layer is the number of pixels & their values \n",
    "\n",
    "    # Layer 1\n",
    "    model.add(Dense(512, activation = 'relu',input_shape=(784,)))\n",
    "\n",
    "    # Layer 2\n",
    "    model.add(Dense(512, activation = 'relu'))    \n",
    "    \n",
    "    # Layer 3\n",
    "    model.add(Dense(512, activation = 'relu'))\n",
    "    \n",
    "    # Layer 4\n",
    "    model.add(Dense(512, activation = 'relu'))\n",
    "    \n",
    "    #Output Layer\n",
    "    model.add(Dense(10, activation = 'softmax'))\n",
    "    \n",
    "    model.compile(optimizer='adam', loss='categorical_crossentropy', metrics = ['accuracy'])\n",
    "    \n",
    "    return model"
   ]
  },
  {
   "cell_type": "code",
   "execution_count": 22,
   "metadata": {},
   "outputs": [],
   "source": [
    "from sklearn.model_selection import StratifiedKFold\n",
    "skf = StratifiedKFold(n_splits=10, random_state=None, shuffle=False)"
   ]
  },
  {
   "cell_type": "code",
   "execution_count": 23,
   "metadata": {},
   "outputs": [],
   "source": [
    "def get_score(model, x_train, x_test, y_train, y_test):\n",
    "    model.fit(x_train, y_train, epochs = 5, validation_data = (x_test, y_test))\n",
    "    return model.evaluate(x_test, y_test)"
   ]
  },
  {
   "cell_type": "code",
   "execution_count": 24,
   "metadata": {},
   "outputs": [],
   "source": [
    "def get_network_output(model, x_train, x_test, y_train, y_test):\n",
    "    x = model.fit(x_train, y_train, epochs = 20, validation_data = (x_test, y_test))\n",
    "    return x"
   ]
  },
  {
   "cell_type": "code",
   "execution_count": 25,
   "metadata": {},
   "outputs": [],
   "source": [
    "ScoreArray = []"
   ]
  },
  {
   "cell_type": "code",
   "execution_count": 26,
   "metadata": {},
   "outputs": [
    {
     "name": "stdout",
     "output_type": "stream",
     "text": [
      "Train on 11394 samples, validate on 1266 samples\n",
      "Epoch 1/5\n",
      "11394/11394 [==============================] - 5s 412us/step - loss: 0.9474 - accuracy: 0.6727 - val_loss: 0.5547 - val_accuracy: 0.7978\n",
      "Epoch 2/5\n",
      "11394/11394 [==============================] - 4s 381us/step - loss: 0.4054 - accuracy: 0.8509 - val_loss: 0.3126 - val_accuracy: 0.8949\n",
      "Epoch 3/5\n",
      "11394/11394 [==============================] - 4s 380us/step - loss: 0.3147 - accuracy: 0.8851 - val_loss: 0.8076 - val_accuracy: 0.7725\n",
      "Epoch 4/5\n",
      "11394/11394 [==============================] - 5s 399us/step - loss: 0.2796 - accuracy: 0.8998 - val_loss: 0.2021 - val_accuracy: 0.9258\n",
      "Epoch 5/5\n",
      "11394/11394 [==============================] - 5s 402us/step - loss: 0.2139 - accuracy: 0.9220 - val_loss: 0.1806 - val_accuracy: 0.9218\n",
      "1266/1266 [==============================] - 0s 104us/step\n",
      "Train on 11394 samples, validate on 1266 samples\n",
      "Epoch 1/5\n",
      "11394/11394 [==============================] - 5s 416us/step - loss: 0.8988 - accuracy: 0.6913 - val_loss: 0.6136 - val_accuracy: 0.7670\n",
      "Epoch 2/5\n",
      "11394/11394 [==============================] - 4s 389us/step - loss: 0.3925 - accuracy: 0.8529 - val_loss: 0.3219 - val_accuracy: 0.8768\n",
      "Epoch 3/5\n",
      "11394/11394 [==============================] - 4s 392us/step - loss: 0.2691 - accuracy: 0.9025 - val_loss: 0.3746 - val_accuracy: 0.8657\n",
      "Epoch 4/5\n",
      "11394/11394 [==============================] - 5s 398us/step - loss: 0.2507 - accuracy: 0.9111 - val_loss: 0.2218 - val_accuracy: 0.9123\n",
      "Epoch 5/5\n",
      "11394/11394 [==============================] - 4s 393us/step - loss: 0.2141 - accuracy: 0.9250 - val_loss: 0.3101 - val_accuracy: 0.8791\n",
      "1266/1266 [==============================] - 0s 104us/step\n",
      "Train on 11394 samples, validate on 1266 samples\n",
      "Epoch 1/5\n",
      "11394/11394 [==============================] - 5s 419us/step - loss: 0.9181 - accuracy: 0.6847 - val_loss: 0.8884 - val_accuracy: 0.7093\n",
      "Epoch 2/5\n",
      "11394/11394 [==============================] - 4s 388us/step - loss: 0.4079 - accuracy: 0.8486 - val_loss: 0.3788 - val_accuracy: 0.8491\n",
      "Epoch 3/5\n",
      "11394/11394 [==============================] - 4s 371us/step - loss: 0.3180 - accuracy: 0.8859 - val_loss: 0.3416 - val_accuracy: 0.8934\n",
      "Epoch 4/5\n",
      "11394/11394 [==============================] - 4s 381us/step - loss: 0.2459 - accuracy: 0.9112 - val_loss: 0.3818 - val_accuracy: 0.8894\n",
      "Epoch 5/5\n",
      "11394/11394 [==============================] - 4s 394us/step - loss: 0.2260 - accuracy: 0.9200 - val_loss: 0.1776 - val_accuracy: 0.9392\n",
      "1266/1266 [==============================] - 0s 108us/step\n",
      "Train on 11394 samples, validate on 1266 samples\n",
      "Epoch 1/5\n",
      "11394/11394 [==============================] - 5s 434us/step - loss: 0.9050 - accuracy: 0.6837 - val_loss: 0.7942 - val_accuracy: 0.7259\n",
      "Epoch 2/5\n",
      "11394/11394 [==============================] - 4s 388us/step - loss: 0.4054 - accuracy: 0.8501 - val_loss: 0.4788 - val_accuracy: 0.8428\n",
      "Epoch 3/5\n",
      "11394/11394 [==============================] - 4s 387us/step - loss: 0.2872 - accuracy: 0.8975 - val_loss: 0.8274 - val_accuracy: 0.7773\n",
      "Epoch 4/5\n",
      "11394/11394 [==============================] - 4s 384us/step - loss: 0.2521 - accuracy: 0.9109 - val_loss: 0.2461 - val_accuracy: 0.9147\n",
      "Epoch 5/5\n",
      "11394/11394 [==============================] - 4s 385us/step - loss: 0.2160 - accuracy: 0.9248 - val_loss: 0.2610 - val_accuracy: 0.9107\n",
      "1266/1266 [==============================] - 0s 109us/step\n",
      "Train on 11394 samples, validate on 1266 samples\n",
      "Epoch 1/5\n",
      "11394/11394 [==============================] - 5s 434us/step - loss: 0.8973 - accuracy: 0.6935 - val_loss: 0.5311 - val_accuracy: 0.7915\n",
      "Epoch 2/5\n",
      "11394/11394 [==============================] - 4s 377us/step - loss: 0.3933 - accuracy: 0.8539 - val_loss: 0.2922 - val_accuracy: 0.8807\n",
      "Epoch 3/5\n",
      "11394/11394 [==============================] - 4s 380us/step - loss: 0.3165 - accuracy: 0.8830 - val_loss: 0.4282 - val_accuracy: 0.8341\n",
      "Epoch 4/5\n",
      "11394/11394 [==============================] - 5s 396us/step - loss: 0.2709 - accuracy: 0.9024 - val_loss: 0.2733 - val_accuracy: 0.8910\n",
      "Epoch 5/5\n",
      "11394/11394 [==============================] - 4s 384us/step - loss: 0.2121 - accuracy: 0.9264 - val_loss: 0.1759 - val_accuracy: 0.9400\n",
      "1266/1266 [==============================] - 0s 98us/step\n",
      "Train on 11394 samples, validate on 1266 samples\n",
      "Epoch 1/5\n",
      "11394/11394 [==============================] - 5s 415us/step - loss: 0.9362 - accuracy: 0.6796 - val_loss: 0.4557 - val_accuracy: 0.8262\n",
      "Epoch 2/5\n",
      "11394/11394 [==============================] - 4s 385us/step - loss: 0.3932 - accuracy: 0.8525 - val_loss: 0.3367 - val_accuracy: 0.8689\n",
      "Epoch 3/5\n",
      "11394/11394 [==============================] - 5s 399us/step - loss: 0.2883 - accuracy: 0.8930 - val_loss: 0.2225 - val_accuracy: 0.9155\n",
      "Epoch 4/5\n",
      "11394/11394 [==============================] - 4s 390us/step - loss: 0.2381 - accuracy: 0.9122 - val_loss: 0.4651 - val_accuracy: 0.8744\n",
      "Epoch 5/5\n",
      "11394/11394 [==============================] - 5s 439us/step - loss: 0.2181 - accuracy: 0.9229 - val_loss: 0.1905 - val_accuracy: 0.9297\n",
      "1266/1266 [==============================] - 0s 119us/step\n",
      "Train on 11394 samples, validate on 1266 samples\n",
      "Epoch 1/5\n",
      "11394/11394 [==============================] - 5s 456us/step - loss: 0.9676 - accuracy: 0.6675 - val_loss: 0.8357 - val_accuracy: 0.7259\n",
      "Epoch 2/5\n",
      "11394/11394 [==============================] - 4s 387us/step - loss: 0.4046 - accuracy: 0.8570 - val_loss: 0.3094 - val_accuracy: 0.8894\n",
      "Epoch 3/5\n",
      "11394/11394 [==============================] - 5s 401us/step - loss: 0.3018 - accuracy: 0.8915 - val_loss: 0.4889 - val_accuracy: 0.8223\n",
      "Epoch 4/5\n",
      "11394/11394 [==============================] - 5s 454us/step - loss: 0.2434 - accuracy: 0.9128 - val_loss: 0.1891 - val_accuracy: 0.9329\n",
      "Epoch 5/5\n",
      "11394/11394 [==============================] - 5s 398us/step - loss: 0.1919 - accuracy: 0.9306 - val_loss: 0.2688 - val_accuracy: 0.8981\n",
      "1266/1266 [==============================] - 0s 112us/step\n",
      "Train on 11394 samples, validate on 1266 samples\n",
      "Epoch 1/5\n",
      "11394/11394 [==============================] - 5s 428us/step - loss: 0.9082 - accuracy: 0.6882 - val_loss: 0.9394 - val_accuracy: 0.7283\n",
      "Epoch 2/5\n",
      "11394/11394 [==============================] - 5s 401us/step - loss: 0.4052 - accuracy: 0.8508 - val_loss: 0.3753 - val_accuracy: 0.8436\n",
      "Epoch 3/5\n",
      "11394/11394 [==============================] - 5s 452us/step - loss: 0.3113 - accuracy: 0.8918 - val_loss: 0.3376 - val_accuracy: 0.8823\n",
      "Epoch 4/5\n",
      "11394/11394 [==============================] - 5s 415us/step - loss: 0.2707 - accuracy: 0.9035 - val_loss: 0.2310 - val_accuracy: 0.9163\n",
      "Epoch 5/5\n",
      "11394/11394 [==============================] - 5s 400us/step - loss: 0.2186 - accuracy: 0.9236 - val_loss: 0.2873 - val_accuracy: 0.8823\n",
      "1266/1266 [==============================] - 0s 136us/step\n",
      "Train on 11394 samples, validate on 1266 samples\n",
      "Epoch 1/5\n",
      "11394/11394 [==============================] - 5s 424us/step - loss: 0.9328 - accuracy: 0.6763 - val_loss: 0.6370 - val_accuracy: 0.7464\n",
      "Epoch 2/5\n",
      "11394/11394 [==============================] - 4s 391us/step - loss: 0.3955 - accuracy: 0.8567 - val_loss: 0.3197 - val_accuracy: 0.8870\n",
      "Epoch 3/5\n",
      "11394/11394 [==============================] - 5s 396us/step - loss: 0.3077 - accuracy: 0.8873 - val_loss: 0.2793 - val_accuracy: 0.8989\n",
      "Epoch 4/5\n",
      "11394/11394 [==============================] - 5s 411us/step - loss: 0.2317 - accuracy: 0.9179 - val_loss: 1.0100 - val_accuracy: 0.7125\n",
      "Epoch 5/5\n",
      "11394/11394 [==============================] - 4s 392us/step - loss: 0.2051 - accuracy: 0.9273 - val_loss: 0.3228 - val_accuracy: 0.8744\n",
      "1266/1266 [==============================] - 0s 109us/step\n",
      "Train on 11394 samples, validate on 1266 samples\n",
      "Epoch 1/5\n",
      "11394/11394 [==============================] - 5s 436us/step - loss: 0.9003 - accuracy: 0.6886 - val_loss: 0.5959 - val_accuracy: 0.7923\n",
      "Epoch 2/5\n",
      "11394/11394 [==============================] - 5s 410us/step - loss: 0.3777 - accuracy: 0.8591 - val_loss: 0.3564 - val_accuracy: 0.8705\n",
      "Epoch 3/5\n",
      "11394/11394 [==============================] - 5s 401us/step - loss: 0.2695 - accuracy: 0.8984 - val_loss: 0.3708 - val_accuracy: 0.8728\n",
      "Epoch 4/5\n",
      "11394/11394 [==============================] - 4s 395us/step - loss: 0.2668 - accuracy: 0.9022 - val_loss: 0.3610 - val_accuracy: 0.8483\n",
      "Epoch 5/5\n",
      "11394/11394 [==============================] - 5s 398us/step - loss: 0.1992 - accuracy: 0.9301 - val_loss: 0.2196 - val_accuracy: 0.9289\n",
      "1266/1266 [==============================] - 0s 109us/step\n"
     ]
    }
   ],
   "source": [
    "for i, (train_index, test_index) in enumerate(skf.split(x_train, y_train.argmax(1))):\n",
    "    x_train_kf, x_test_kf = x_train[train_index], x_train[test_index]\n",
    "    y_train_kf, y_test_kf = y_train[train_index], y_train[test_index]\n",
    "    ScoreArray.append(get_score(construct_new_model(), x_train_kf, x_test_kf, y_train_kf, y_test_kf))"
   ]
  },
  {
   "cell_type": "code",
   "execution_count": 27,
   "metadata": {},
   "outputs": [
    {
     "data": {
      "text/plain": [
       "array([[0.92180097],\n",
       "       [0.87914693],\n",
       "       [0.93917853],\n",
       "       [0.91074252],\n",
       "       [0.93996841],\n",
       "       [0.92969984],\n",
       "       [0.89810425],\n",
       "       [0.88230646],\n",
       "       [0.87440759],\n",
       "       [0.92890996]])"
      ]
     },
     "execution_count": 27,
     "metadata": {},
     "output_type": "execute_result"
    }
   ],
   "source": [
    "ScoreArray = np.array(ScoreArray)\n",
    "ScoreArray[:,1:2]"
   ]
  },
  {
   "cell_type": "code",
   "execution_count": 28,
   "metadata": {},
   "outputs": [
    {
     "name": "stdout",
     "output_type": "stream",
     "text": [
      "0.9104265451431275\n"
     ]
    }
   ],
   "source": [
    "print(np.mean(ScoreArray[:,1:2]))"
   ]
  },
  {
   "cell_type": "code",
   "execution_count": null,
   "metadata": {},
   "outputs": [],
   "source": []
  },
  {
   "cell_type": "code",
   "execution_count": null,
   "metadata": {},
   "outputs": [],
   "source": []
  },
  {
   "cell_type": "code",
   "execution_count": null,
   "metadata": {},
   "outputs": [],
   "source": []
  }
 ],
 "metadata": {
  "kernelspec": {
   "display_name": "Python 3",
   "language": "python",
   "name": "python3"
  },
  "language_info": {
   "codemirror_mode": {
    "name": "ipython",
    "version": 3
   },
   "file_extension": ".py",
   "mimetype": "text/x-python",
   "name": "python",
   "nbconvert_exporter": "python",
   "pygments_lexer": "ipython3",
   "version": "3.7.5"
  }
 },
 "nbformat": 4,
 "nbformat_minor": 4
}
