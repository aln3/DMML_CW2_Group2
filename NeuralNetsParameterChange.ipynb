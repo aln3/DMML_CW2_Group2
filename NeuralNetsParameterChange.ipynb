{
 "cells": [
  {
   "cell_type": "code",
   "execution_count": 1,
   "metadata": {},
   "outputs": [
    {
     "name": "stderr",
     "output_type": "stream",
     "text": [
      "Using TensorFlow backend.\n"
     ]
    }
   ],
   "source": [
    "import cv2\n",
    "import random\n",
    "import numpy as np\n",
    "import matplotlib.pyplot as plt\n",
    "import pandas as pd\n",
    "import seaborn as sns\n",
    "import time\n",
    "\n",
    "\n",
    "from numpy import genfromtxt\n",
    "from sklearn.metrics import accuracy_score\n",
    "from sklearn.metrics import confusion_matrix, classification_report\n",
    "from mpl_toolkits.mplot3d import Axes3D\n",
    "\n",
    "\n",
    "from sklearn.linear_model import LogisticRegression\n",
    "#----------------------------------------------Neural Net Imports\n",
    "from keras.datasets import mnist\n",
    "from keras.preprocessing.image import load_img, array_to_img\n",
    "from keras.utils.np_utils import to_categorical\n",
    "\n",
    "# Linear stack of NN layers\n",
    "from keras.models import Sequential\n",
    "\n",
    "# Ensure Fully connected layer \n",
    "from keras.layers import Dense\n",
    "#----------------------------------------------------------------\n",
    "\n",
    "import numpy as np\n",
    "import matplotlib.pyplot as plt\n",
    "%matplotlib inline\n",
    "\n",
    "\n",
    "\n",
    "num_pixels = 28\n",
    "%matplotlib inline"
   ]
  },
  {
   "cell_type": "code",
   "execution_count": 2,
   "metadata": {},
   "outputs": [],
   "source": [
    "# Importing training  data from CSV files\n",
    "x_train = genfromtxt('Data/Training/x_train_gr_smpl.csv', delimiter=',', skip_header =1)\n",
    "y_train = genfromtxt('Data/Training/y_train_smpl.csv', delimiter=',', skip_header =1 )"
   ]
  },
  {
   "cell_type": "code",
   "execution_count": 3,
   "metadata": {},
   "outputs": [],
   "source": [
    "# Importing testing data from CSV files\n",
    "x_test = genfromtxt('Data/Testing/x_test_gr_smpl.csv', delimiter=',', skip_header =1)\n",
    "y_test = genfromtxt('Data/Testing/y_test_smpl.csv', delimiter=',', skip_header =1 )"
   ]
  },
  {
   "cell_type": "code",
   "execution_count": 4,
   "metadata": {},
   "outputs": [],
   "source": [
    "y_train = y_train.reshape(12660,1)\n",
    "train_data_combined = np.append(x_train, y_train, axis=1)\n",
    "\n",
    "y_test = y_test.reshape(4170,1)\n",
    "test_data_combined = np.append(x_test, y_test, axis=1)\n",
    "np.random.seed(0)\n",
    "np.random.shuffle(train_data_combined)\n",
    "np.random.shuffle(test_data_combined)\n",
    "x_train = train_data_combined[:,:-1]\n",
    "y_train = train_data_combined[:, [-1]].reshape(12660,)\n",
    "\n",
    "x_test = test_data_combined[:,:-1]\n",
    "y_test = test_data_combined[:, [-1]].reshape(4170,)\n",
    "# Normalisation of pixels\n",
    "x_train = x_train.astype('float')/255\n",
    "x_test  = x_test.astype('float')/255\n",
    "#  Reducing the number of attributes using opencv's reduce functionality as shown in the second python Lecture\n",
    "#  As seen in python lectures: https://vision.hw.ac.uk/webapps/blackboard/content/listContent.jsp?course_id=_94419_1&content_id=_3391865_1\n",
    "\n",
    "x_train = np.apply_along_axis(\n",
    "        func1d=lambda img: cv2.resize(img.reshape((48,48)), (num_pixels,num_pixels)),\n",
    "        axis =1, arr = x_train).reshape((-1,num_pixels*num_pixels))\n",
    "\n",
    "x_test  = np.apply_along_axis(\n",
    "        func1d=lambda img: cv2.resize(img.reshape((48,48)), (num_pixels,num_pixels)),\n",
    "        axis =1, arr = x_test).reshape((-1,num_pixels*num_pixels))"
   ]
  },
  {
   "cell_type": "code",
   "execution_count": 5,
   "metadata": {},
   "outputs": [],
   "source": [
    "# Creating 10 bins for output\n",
    "y_train = to_categorical(y_train,10)\n",
    "y_test = to_categorical(y_test,10)"
   ]
  },
  {
   "cell_type": "code",
   "execution_count": 6,
   "metadata": {},
   "outputs": [],
   "source": [
    "model = Sequential()"
   ]
  },
  {
   "cell_type": "code",
   "execution_count": 7,
   "metadata": {},
   "outputs": [],
   "source": [
    "model.add(Dense(512, activation = 'relu',input_shape=(784,)))\n",
    "\n",
    "# Layer 2\n",
    "model.add(Dense(512, activation = 'relu'))\n",
    "\n",
    "#Output Layer\n",
    "model.add(Dense(10, activation = 'softmax'))"
   ]
  },
  {
   "cell_type": "code",
   "execution_count": 8,
   "metadata": {},
   "outputs": [],
   "source": [
    "model.compile(optimizer='adam', loss='categorical_crossentropy', metrics = ['accuracy'])"
   ]
  },
  {
   "cell_type": "code",
   "execution_count": 9,
   "metadata": {},
   "outputs": [
    {
     "name": "stdout",
     "output_type": "stream",
     "text": [
      "Model: \"sequential_1\"\n",
      "_________________________________________________________________\n",
      "Layer (type)                 Output Shape              Param #   \n",
      "=================================================================\n",
      "dense_1 (Dense)              (None, 512)               401920    \n",
      "_________________________________________________________________\n",
      "dense_2 (Dense)              (None, 512)               262656    \n",
      "_________________________________________________________________\n",
      "dense_3 (Dense)              (None, 10)                5130      \n",
      "=================================================================\n",
      "Total params: 669,706\n",
      "Trainable params: 669,706\n",
      "Non-trainable params: 0\n",
      "_________________________________________________________________\n"
     ]
    }
   ],
   "source": [
    "model.summary()"
   ]
  },
  {
   "cell_type": "code",
   "execution_count": 10,
   "metadata": {},
   "outputs": [
    {
     "name": "stdout",
     "output_type": "stream",
     "text": [
      "Train on 12660 samples, validate on 4170 samples\n",
      "Epoch 1/20\n",
      "12660/12660 [==============================] - 3s 269us/step - loss: 0.8312 - accuracy: 0.7367 - val_loss: 0.6726 - val_accuracy: 0.7624\n",
      "Epoch 2/20\n",
      "12660/12660 [==============================] - 3s 248us/step - loss: 0.3804 - accuracy: 0.8731 - val_loss: 0.5159 - val_accuracy: 0.8420\n",
      "Epoch 3/20\n",
      "12660/12660 [==============================] - 3s 248us/step - loss: 0.2857 - accuracy: 0.9076 - val_loss: 0.4944 - val_accuracy: 0.8631\n",
      "Epoch 4/20\n",
      "12660/12660 [==============================] - 3s 242us/step - loss: 0.2469 - accuracy: 0.9184 - val_loss: 0.5742 - val_accuracy: 0.8592\n",
      "Epoch 5/20\n",
      "12660/12660 [==============================] - 3s 244us/step - loss: 0.1970 - accuracy: 0.9397 - val_loss: 0.4381 - val_accuracy: 0.8990\n",
      "Epoch 6/20\n",
      "12660/12660 [==============================] - 3s 242us/step - loss: 0.1513 - accuracy: 0.9498 - val_loss: 0.3433 - val_accuracy: 0.9249\n",
      "Epoch 7/20\n",
      "12660/12660 [==============================] - 3s 243us/step - loss: 0.1438 - accuracy: 0.9533 - val_loss: 0.3714 - val_accuracy: 0.9146\n",
      "Epoch 8/20\n",
      "12660/12660 [==============================] - 3s 246us/step - loss: 0.1388 - accuracy: 0.9536 - val_loss: 0.4563 - val_accuracy: 0.8894\n",
      "Epoch 9/20\n",
      "12660/12660 [==============================] - 3s 240us/step - loss: 0.1382 - accuracy: 0.9544 - val_loss: 0.4369 - val_accuracy: 0.9031\n",
      "Epoch 10/20\n",
      "12660/12660 [==============================] - 3s 251us/step - loss: 0.0928 - accuracy: 0.9697 - val_loss: 0.4328 - val_accuracy: 0.9002\n",
      "Epoch 11/20\n",
      "12660/12660 [==============================] - 3s 246us/step - loss: 0.1256 - accuracy: 0.9579 - val_loss: 0.5265 - val_accuracy: 0.8859\n",
      "Epoch 12/20\n",
      "12660/12660 [==============================] - 3s 250us/step - loss: 0.0981 - accuracy: 0.9667 - val_loss: 0.4026 - val_accuracy: 0.9199\n",
      "Epoch 13/20\n",
      "12660/12660 [==============================] - 3s 245us/step - loss: 0.0851 - accuracy: 0.9730 - val_loss: 0.4835 - val_accuracy: 0.9024\n",
      "Epoch 14/20\n",
      "12660/12660 [==============================] - 3s 249us/step - loss: 0.0708 - accuracy: 0.9780 - val_loss: 0.6823 - val_accuracy: 0.8820\n",
      "Epoch 15/20\n",
      "12660/12660 [==============================] - 3s 242us/step - loss: 0.0844 - accuracy: 0.9711 - val_loss: 0.4677 - val_accuracy: 0.8938\n",
      "Epoch 16/20\n",
      "12660/12660 [==============================] - 3s 244us/step - loss: 0.0695 - accuracy: 0.9781 - val_loss: 0.3564 - val_accuracy: 0.9283\n",
      "Epoch 17/20\n",
      "12660/12660 [==============================] - 3s 250us/step - loss: 0.0748 - accuracy: 0.9754 - val_loss: 0.6798 - val_accuracy: 0.8621\n",
      "Epoch 18/20\n",
      "12660/12660 [==============================] - 3s 242us/step - loss: 0.0584 - accuracy: 0.9785 - val_loss: 0.3983 - val_accuracy: 0.9201\n",
      "Epoch 19/20\n",
      "12660/12660 [==============================] - 3s 254us/step - loss: 0.0675 - accuracy: 0.9771 - val_loss: 0.4211 - val_accuracy: 0.9125\n",
      "Epoch 20/20\n",
      "12660/12660 [==============================] - 4s 301us/step - loss: 0.0545 - accuracy: 0.9816 - val_loss: 0.4828 - val_accuracy: 0.9077\n"
     ]
    }
   ],
   "source": [
    "Base_Model = model.fit(x_train,y_train, epochs = 20, validation_data = (x_test, y_test))"
   ]
  },
  {
   "cell_type": "code",
   "execution_count": 11,
   "metadata": {},
   "outputs": [
    {
     "data": {
      "text/plain": [
       "[<matplotlib.lines.Line2D at 0x17dfd501f48>]"
      ]
     },
     "execution_count": 11,
     "metadata": {},
     "output_type": "execute_result"
    },
    {
     "data": {
      "image/png": "[encoded data removed]",
      "text/plain": [
       "<Figure size 432x288 with 1 Axes>"
      ]
     },
     "metadata": {
      "needs_background": "light"
     },
     "output_type": "display_data"
    }
   ],
   "source": [
    "plt.plot(Base_Model.history['accuracy'])"
   ]
  },
  {
   "cell_type": "code",
   "execution_count": 13,
   "metadata": {},
   "outputs": [
    {
     "data": {
      "text/plain": [
       "[<matplotlib.lines.Line2D at 0x17df8c7c348>]"
      ]
     },
     "execution_count": 13,
     "metadata": {},
     "output_type": "execute_result"
    },
    {
     "data": {
      "image/png": "[encoded data removed]",
      "text/plain": [
       "<Figure size 432x288 with 1 Axes>"
      ]
     },
     "metadata": {
      "needs_background": "light"
     },
     "output_type": "display_data"
    }
   ],
   "source": [
    "plt.plot(Base_Model.history['accuracy'])\n",
    "plt.plot(Base_Model.history['val_accuracy'])"
   ]
  },
  {
   "cell_type": "code",
   "execution_count": 14,
   "metadata": {},
   "outputs": [
    {
     "name": "stdout",
     "output_type": "stream",
     "text": [
      "4170/4170 [==============================] - 0s 98us/step\n"
     ]
    }
   ],
   "source": [
    "score = model.evaluate(x_test, y_test) "
   ]
  },
  {
   "cell_type": "code",
   "execution_count": 30,
   "metadata": {},
   "outputs": [
    {
     "data": {
      "text/plain": [
       "[0.48275352509187563, 0.9076738357543945]"
      ]
     },
     "execution_count": 30,
     "metadata": {},
     "output_type": "execute_result"
    }
   ],
   "source": [
    "score "
   ]
  },
  {
   "cell_type": "code",
   "execution_count": 52,
   "metadata": {},
   "outputs": [],
   "source": [
    "predictions = model.predict_classes(x_test, batch_size=10)"
   ]
  },
  {
   "cell_type": "code",
   "execution_count": 48,
   "metadata": {},
   "outputs": [],
   "source": [
    "rounded_labels=np.argmax(y_test, axis=1)"
   ]
  },
  {
   "cell_type": "code",
   "execution_count": 49,
   "metadata": {},
   "outputs": [],
   "source": [
    "cm = confusion_matrix(rounded_labels, predictions)"
   ]
  },
  {
   "cell_type": "code",
   "execution_count": 50,
   "metadata": {},
   "outputs": [
    {
     "data": {
      "image/png": "[encoded data removed]",
      "text/plain": [
       "<Figure size 432x288 with 1 Axes>"
      ]
     },
     "metadata": {
      "needs_background": "light"
     },
     "output_type": "display_data"
    }
   ],
   "source": [
    "sns.heatmap(cm.T, square=True, annot=True,cmap=\"RdPu\", fmt='.0f', cbar=False)\n",
    "plt.xlabel('True Class')\n",
    "plt.ylabel('Predicted Class');"
   ]
  },
  {
   "cell_type": "code",
   "execution_count": 64,
   "metadata": {},
   "outputs": [
    {
     "name": "stdout",
     "output_type": "stream",
     "text": [
      "              precision    recall  f1-score   support\n",
      "\n",
      "           0       0.92      0.75      0.83       450\n",
      "           1       0.80      0.95      0.87       630\n",
      "           2       0.95      0.75      0.84       150\n",
      "           3       0.82      0.98      0.89       420\n",
      "           4       0.94      0.88      0.91       690\n",
      "           5       0.96      0.99      0.98       720\n",
      "           6       0.91      0.97      0.94       270\n",
      "           7       0.85      0.93      0.89        60\n",
      "           8       0.98      0.93      0.96       690\n",
      "           9       0.98      0.53      0.69        90\n",
      "\n",
      "    accuracy                           0.91      4170\n",
      "   macro avg       0.91      0.87      0.88      4170\n",
      "weighted avg       0.91      0.91      0.91      4170\n",
      "\n"
     ]
    }
   ],
   "source": [
    "print(classification_report(rounded_labels,predictions))"
   ]
  },
  {
   "cell_type": "markdown",
   "metadata": {},
   "source": [
    "# Changing Layers"
   ]
  },
  {
   "cell_type": "markdown",
   "metadata": {},
   "source": [
    "## Double the layers"
   ]
  },
  {
   "cell_type": "code",
   "execution_count": 134,
   "metadata": {},
   "outputs": [],
   "source": [
    "model1 = Sequential()"
   ]
  },
  {
   "cell_type": "code",
   "execution_count": 135,
   "metadata": {},
   "outputs": [],
   "source": [
    "model1.add(Dense(512, activation = 'relu',input_shape=(784,)))\n",
    "\n",
    "# Layer 2\n",
    "model1.add(Dense(512, activation = 'relu'))\n",
    "\n",
    "# Layer 3\n",
    "model1.add(Dense(512, activation = 'relu'))\n",
    "\n",
    "# Layer 4\n",
    "model1.add(Dense(512, activation = 'relu'))\n",
    "\n",
    "#Output Layer\n",
    "model1.add(Dense(10, activation = 'softmax'))"
   ]
  },
  {
   "cell_type": "code",
   "execution_count": 136,
   "metadata": {},
   "outputs": [],
   "source": [
    "model1.compile(optimizer='adam', loss='categorical_crossentropy', metrics = ['accuracy'])"
   ]
  },
  {
   "cell_type": "code",
   "execution_count": 137,
   "metadata": {},
   "outputs": [
    {
     "name": "stdout",
     "output_type": "stream",
     "text": [
      "Model: \"sequential_18\"\n",
      "_________________________________________________________________\n",
      "Layer (type)                 Output Shape              Param #   \n",
      "=================================================================\n",
      "dense_78 (Dense)             (None, 512)               401920    \n",
      "_________________________________________________________________\n",
      "dense_79 (Dense)             (None, 512)               262656    \n",
      "_________________________________________________________________\n",
      "dense_80 (Dense)             (None, 512)               262656    \n",
      "_________________________________________________________________\n",
      "dense_81 (Dense)             (None, 512)               262656    \n",
      "_________________________________________________________________\n",
      "dense_82 (Dense)             (None, 10)                5130      \n",
      "=================================================================\n",
      "Total params: 1,195,018\n",
      "Trainable params: 1,195,018\n",
      "Non-trainable params: 0\n",
      "_________________________________________________________________\n"
     ]
    }
   ],
   "source": [
    "model1.summary()"
   ]
  },
  {
   "cell_type": "code",
   "execution_count": 138,
   "metadata": {},
   "outputs": [
    {
     "name": "stdout",
     "output_type": "stream",
     "text": [
      "Train on 12660 samples, validate on 4170 samples\n",
      "Epoch 1/20\n",
      "12660/12660 [==============================] - 6s 445us/step - loss: 0.8763 - accuracy: 0.7019 - val_loss: 0.5649 - val_accuracy: 0.7755\n",
      "Epoch 2/20\n",
      "12660/12660 [==============================] - 5s 426us/step - loss: 0.3609 - accuracy: 0.8679 - val_loss: 0.3771 - val_accuracy: 0.8811\n",
      "Epoch 3/20\n",
      "12660/12660 [==============================] - 5s 414us/step - loss: 0.2840 - accuracy: 0.8977 - val_loss: 0.5157 - val_accuracy: 0.8559\n",
      "Epoch 4/20\n",
      "12660/12660 [==============================] - 5s 410us/step - loss: 0.2225 - accuracy: 0.9227 - val_loss: 0.5247 - val_accuracy: 0.8540\n",
      "Epoch 5/20\n",
      "12660/12660 [==============================] - 5s 415us/step - loss: 0.2122 - accuracy: 0.9228 - val_loss: 0.4806 - val_accuracy: 0.8597\n",
      "Epoch 6/20\n",
      "12660/12660 [==============================] - 5s 427us/step - loss: 0.1649 - accuracy: 0.9406 - val_loss: 0.3552 - val_accuracy: 0.9070\n",
      "Epoch 7/20\n",
      "12660/12660 [==============================] - 5s 414us/step - loss: 0.1686 - accuracy: 0.9398 - val_loss: 0.3523 - val_accuracy: 0.8954\n",
      "Epoch 8/20\n",
      "12660/12660 [==============================] - 5s 425us/step - loss: 0.1467 - accuracy: 0.9488 - val_loss: 0.4444 - val_accuracy: 0.8676\n",
      "Epoch 9/20\n",
      "12660/12660 [==============================] - 5s 427us/step - loss: 0.1295 - accuracy: 0.9552 - val_loss: 0.3356 - val_accuracy: 0.9031\n",
      "Epoch 10/20\n",
      "12660/12660 [==============================] - 5s 425us/step - loss: 0.1125 - accuracy: 0.9605 - val_loss: 0.2870 - val_accuracy: 0.9374\n",
      "Epoch 11/20\n",
      "12660/12660 [==============================] - 5s 428us/step - loss: 0.1099 - accuracy: 0.9635 - val_loss: 0.4465 - val_accuracy: 0.9007\n",
      "Epoch 12/20\n",
      "12660/12660 [==============================] - 5s 417us/step - loss: 0.0993 - accuracy: 0.9663 - val_loss: 0.3224 - val_accuracy: 0.9177\n",
      "Epoch 13/20\n",
      "12660/12660 [==============================] - 5s 419us/step - loss: 0.0998 - accuracy: 0.9665 - val_loss: 0.3617 - val_accuracy: 0.9096\n",
      "Epoch 14/20\n",
      "12660/12660 [==============================] - 5s 423us/step - loss: 0.0892 - accuracy: 0.9704 - val_loss: 0.3378 - val_accuracy: 0.9098\n",
      "Epoch 15/20\n",
      "12660/12660 [==============================] - 5s 431us/step - loss: 0.0873 - accuracy: 0.9719 - val_loss: 0.4289 - val_accuracy: 0.9048\n",
      "Epoch 16/20\n",
      "12660/12660 [==============================] - 5s 415us/step - loss: 0.0826 - accuracy: 0.9709 - val_loss: 0.3363 - val_accuracy: 0.9129\n",
      "Epoch 17/20\n",
      "12660/12660 [==============================] - 5s 416us/step - loss: 0.0825 - accuracy: 0.9727 - val_loss: 0.3386 - val_accuracy: 0.9194\n",
      "Epoch 18/20\n",
      "12660/12660 [==============================] - 5s 412us/step - loss: 0.0817 - accuracy: 0.9734 - val_loss: 0.3689 - val_accuracy: 0.9014\n",
      "Epoch 19/20\n",
      "12660/12660 [==============================] - 5s 431us/step - loss: 0.0802 - accuracy: 0.9731 - val_loss: 0.7038 - val_accuracy: 0.8878\n",
      "Epoch 20/20\n",
      "12660/12660 [==============================] - 5s 411us/step - loss: 0.0900 - accuracy: 0.9697 - val_loss: 0.3941 - val_accuracy: 0.9194\n"
     ]
    }
   ],
   "source": [
    "DoubleLayer = model1.fit(x_train,y_train, epochs = 20, validation_data = (x_test, y_test))"
   ]
  },
  {
   "cell_type": "code",
   "execution_count": 139,
   "metadata": {},
   "outputs": [
    {
     "data": {
      "text/plain": [
       "[<matplotlib.lines.Line2D at 0x17e0e2ee648>]"
      ]
     },
     "execution_count": 139,
     "metadata": {},
     "output_type": "execute_result"
    },
    {
     "data": {
      "image/png": "[encoded data removed]",
      "text/plain": [
       "<Figure size 432x288 with 1 Axes>"
      ]
     },
     "metadata": {
      "needs_background": "light"
     },
     "output_type": "display_data"
    }
   ],
   "source": [
    "plt.plot(DoubleLayer.history['accuracy'])"
   ]
  },
  {
   "cell_type": "code",
   "execution_count": 140,
   "metadata": {},
   "outputs": [
    {
     "data": {
      "text/plain": [
       "[<matplotlib.lines.Line2D at 0x17e0e32c388>]"
      ]
     },
     "execution_count": 140,
     "metadata": {},
     "output_type": "execute_result"
    },
    {
     "data": {
      "image/png": "[encoded data removed]",
      "text/plain": [
       "<Figure size 432x288 with 1 Axes>"
      ]
     },
     "metadata": {
      "needs_background": "light"
     },
     "output_type": "display_data"
    }
   ],
   "source": [
    "plt.plot(Base_Model.history['accuracy'])\n",
    "plt.plot(Base_Model.history['val_accuracy'])\n",
    "plt.plot(DoubleLayer.history['accuracy'])\n",
    "plt.plot(DoubleLayer.history['val_accuracy'])"
   ]
  },
  {
   "cell_type": "code",
   "execution_count": 141,
   "metadata": {},
   "outputs": [
    {
     "name": "stdout",
     "output_type": "stream",
     "text": [
      "4170/4170 [==============================] - 0s 103us/step\n"
     ]
    }
   ],
   "source": [
    "score = model1.evaluate(x_test, y_test)"
   ]
  },
  {
   "cell_type": "code",
   "execution_count": 142,
   "metadata": {},
   "outputs": [
    {
     "data": {
      "text/plain": [
       "[0.3940696577972574, 0.9194244742393494]"
      ]
     },
     "execution_count": 142,
     "metadata": {},
     "output_type": "execute_result"
    }
   ],
   "source": [
    "score"
   ]
  },
  {
   "cell_type": "code",
   "execution_count": 143,
   "metadata": {},
   "outputs": [],
   "source": [
    "predictions = model1.predict_classes(x_test, batch_size=10)"
   ]
  },
  {
   "cell_type": "code",
   "execution_count": 144,
   "metadata": {},
   "outputs": [],
   "source": [
    "cm = confusion_matrix(rounded_labels, predictions)"
   ]
  },
  {
   "cell_type": "code",
   "execution_count": 145,
   "metadata": {},
   "outputs": [
    {
     "data": {
      "image/png": "[encoded data removed]",
      "text/plain": [
       "<Figure size 432x288 with 1 Axes>"
      ]
     },
     "metadata": {
      "needs_background": "light"
     },
     "output_type": "display_data"
    }
   ],
   "source": [
    "sns.heatmap(cm.T, square=True, annot=True,cmap=\"RdPu\", fmt='.0f', cbar=False)\n",
    "plt.xlabel('True Class')\n",
    "plt.ylabel('Predicted Class');"
   ]
  },
  {
   "cell_type": "code",
   "execution_count": 146,
   "metadata": {},
   "outputs": [
    {
     "name": "stdout",
     "output_type": "stream",
     "text": [
      "              precision    recall  f1-score   support\n",
      "\n",
      "           0       0.83      0.81      0.82       450\n",
      "           1       0.87      0.95      0.91       630\n",
      "           2       0.98      0.76      0.86       150\n",
      "           3       0.96      0.95      0.96       420\n",
      "           4       0.93      0.98      0.95       690\n",
      "           5       0.95      0.98      0.97       720\n",
      "           6       0.93      0.81      0.87       270\n",
      "           7       0.67      0.92      0.77        60\n",
      "           8       0.97      0.89      0.93       690\n",
      "           9       0.97      0.93      0.95        90\n",
      "\n",
      "    accuracy                           0.92      4170\n",
      "   macro avg       0.91      0.90      0.90      4170\n",
      "weighted avg       0.92      0.92      0.92      4170\n",
      "\n"
     ]
    }
   ],
   "source": [
    "print(classification_report(rounded_labels,predictions))"
   ]
  },
  {
   "cell_type": "markdown",
   "metadata": {},
   "source": [
    "## Half the Layers"
   ]
  },
  {
   "cell_type": "code",
   "execution_count": 122,
   "metadata": {},
   "outputs": [],
   "source": [
    "model2 = Sequential()"
   ]
  },
  {
   "cell_type": "code",
   "execution_count": 123,
   "metadata": {},
   "outputs": [],
   "source": [
    "model2.add(Dense(512, activation = 'relu',input_shape=(784,)))\n",
    "\n",
    "#Output Layer\n",
    "model2.add(Dense(10, activation = 'softmax'))"
   ]
  },
  {
   "cell_type": "code",
   "execution_count": 124,
   "metadata": {},
   "outputs": [],
   "source": [
    "model2.compile(optimizer='adam', loss='categorical_crossentropy', metrics = ['accuracy'])"
   ]
  },
  {
   "cell_type": "code",
   "execution_count": 125,
   "metadata": {},
   "outputs": [
    {
     "name": "stdout",
     "output_type": "stream",
     "text": [
      "Model: \"sequential_17\"\n",
      "_________________________________________________________________\n",
      "Layer (type)                 Output Shape              Param #   \n",
      "=================================================================\n",
      "dense_76 (Dense)             (None, 512)               401920    \n",
      "_________________________________________________________________\n",
      "dense_77 (Dense)             (None, 10)                5130      \n",
      "=================================================================\n",
      "Total params: 407,050\n",
      "Trainable params: 407,050\n",
      "Non-trainable params: 0\n",
      "_________________________________________________________________\n"
     ]
    }
   ],
   "source": [
    "model2.summary()"
   ]
  },
  {
   "cell_type": "code",
   "execution_count": 126,
   "metadata": {},
   "outputs": [
    {
     "name": "stdout",
     "output_type": "stream",
     "text": [
      "Train on 12660 samples, validate on 4170 samples\n",
      "Epoch 1/20\n",
      "12660/12660 [==============================] - 2s 181us/step - loss: 0.9688 - accuracy: 0.7229 - val_loss: 0.7062 - val_accuracy: 0.7597\n",
      "Epoch 2/20\n",
      "12660/12660 [==============================] - 2s 166us/step - loss: 0.4705 - accuracy: 0.8605 - val_loss: 0.6517 - val_accuracy: 0.8295\n",
      "Epoch 3/20\n",
      "12660/12660 [==============================] - 2s 165us/step - loss: 0.3352 - accuracy: 0.9034 - val_loss: 0.5155 - val_accuracy: 0.8189\n",
      "Epoch 4/20\n",
      "12660/12660 [==============================] - 2s 167us/step - loss: 0.2755 - accuracy: 0.9183 - val_loss: 0.4479 - val_accuracy: 0.8849\n",
      "Epoch 5/20\n",
      "12660/12660 [==============================] - 2s 161us/step - loss: 0.2400 - accuracy: 0.9314 - val_loss: 0.5517 - val_accuracy: 0.8309\n",
      "Epoch 6/20\n",
      "12660/12660 [==============================] - 2s 175us/step - loss: 0.2301 - accuracy: 0.9355 - val_loss: 0.4245 - val_accuracy: 0.8914\n",
      "Epoch 7/20\n",
      "12660/12660 [==============================] - 2s 166us/step - loss: 0.1741 - accuracy: 0.9532 - val_loss: 0.7682 - val_accuracy: 0.8252\n",
      "Epoch 8/20\n",
      "12660/12660 [==============================] - 2s 165us/step - loss: 0.1801 - accuracy: 0.9471 - val_loss: 0.4787 - val_accuracy: 0.8880\n",
      "Epoch 9/20\n",
      "12660/12660 [==============================] - 2s 190us/step - loss: 0.1586 - accuracy: 0.9537 - val_loss: 0.5024 - val_accuracy: 0.8904\n",
      "Epoch 10/20\n",
      "12660/12660 [==============================] - 2s 182us/step - loss: 0.1308 - accuracy: 0.9645 - val_loss: 0.6334 - val_accuracy: 0.8374\n",
      "Epoch 11/20\n",
      "12660/12660 [==============================] - 2s 174us/step - loss: 0.1277 - accuracy: 0.9645 - val_loss: 0.4356 - val_accuracy: 0.9089\n",
      "Epoch 12/20\n",
      "12660/12660 [==============================] - 2s 166us/step - loss: 0.1376 - accuracy: 0.9627 - val_loss: 0.4086 - val_accuracy: 0.8930\n",
      "Epoch 13/20\n",
      "12660/12660 [==============================] - 2s 167us/step - loss: 0.1174 - accuracy: 0.9659 - val_loss: 0.4443 - val_accuracy: 0.9108\n",
      "Epoch 14/20\n",
      "12660/12660 [==============================] - 2s 180us/step - loss: 0.0988 - accuracy: 0.9719 - val_loss: 0.3753 - val_accuracy: 0.9141\n",
      "Epoch 15/20\n",
      "12660/12660 [==============================] - 2s 181us/step - loss: 0.0965 - accuracy: 0.9742 - val_loss: 0.3479 - val_accuracy: 0.9257\n",
      "Epoch 16/20\n",
      "12660/12660 [==============================] - 2s 181us/step - loss: 0.1042 - accuracy: 0.9713 - val_loss: 0.4212 - val_accuracy: 0.9077\n",
      "Epoch 17/20\n",
      "12660/12660 [==============================] - 2s 180us/step - loss: 0.1000 - accuracy: 0.9724 - val_loss: 0.4123 - val_accuracy: 0.8947\n",
      "Epoch 18/20\n",
      "12660/12660 [==============================] - 2s 185us/step - loss: 0.0810 - accuracy: 0.9779 - val_loss: 0.4421 - val_accuracy: 0.9106\n",
      "Epoch 19/20\n",
      "12660/12660 [==============================] - 2s 180us/step - loss: 0.0843 - accuracy: 0.9767 - val_loss: 0.4515 - val_accuracy: 0.9149\n",
      "Epoch 20/20\n",
      "12660/12660 [==============================] - 2s 182us/step - loss: 0.0693 - accuracy: 0.9816 - val_loss: 0.3744 - val_accuracy: 0.9285\n"
     ]
    }
   ],
   "source": [
    "OneLayer = model2.fit(x_train,y_train, epochs = 20, validation_data = (x_test, y_test))"
   ]
  },
  {
   "cell_type": "code",
   "execution_count": 127,
   "metadata": {},
   "outputs": [
    {
     "data": {
      "text/plain": [
       "[<matplotlib.lines.Line2D at 0x17e033b2bc8>]"
      ]
     },
     "execution_count": 127,
     "metadata": {},
     "output_type": "execute_result"
    },
    {
     "data": {
      "image/png": "[encoded data removed]",
      "text/plain": [
       "<Figure size 432x288 with 1 Axes>"
      ]
     },
     "metadata": {
      "needs_background": "light"
     },
     "output_type": "display_data"
    }
   ],
   "source": [
    "plt.plot(Base_Model.history['accuracy'])\n",
    "plt.plot(Base_Model.history['val_accuracy'])\n",
    "plt.plot(DoubleLayer.history['accuracy'])\n",
    "plt.plot(DoubleLayer.history['val_accuracy'])\n",
    "plt.plot(OneLayer.history['accuracy'])\n",
    "plt.plot(OneLayer.history['val_accuracy'])"
   ]
  },
  {
   "cell_type": "code",
   "execution_count": 128,
   "metadata": {},
   "outputs": [
    {
     "name": "stdout",
     "output_type": "stream",
     "text": [
      "4170/4170 [==============================] - 0s 54us/step\n"
     ]
    }
   ],
   "source": [
    "score = model2.evaluate(x_test, y_test)"
   ]
  },
  {
   "cell_type": "code",
   "execution_count": 129,
   "metadata": {},
   "outputs": [
    {
     "data": {
      "text/plain": [
       "[0.37438506212987777, 0.9285371899604797]"
      ]
     },
     "execution_count": 129,
     "metadata": {},
     "output_type": "execute_result"
    }
   ],
   "source": [
    "score"
   ]
  },
  {
   "cell_type": "code",
   "execution_count": 130,
   "metadata": {},
   "outputs": [],
   "source": [
    "predictions = model2.predict_classes(x_test, batch_size=10)"
   ]
  },
  {
   "cell_type": "code",
   "execution_count": 131,
   "metadata": {},
   "outputs": [],
   "source": [
    "cm = confusion_matrix(rounded_labels, predictions)"
   ]
  },
  {
   "cell_type": "code",
   "execution_count": 132,
   "metadata": {},
   "outputs": [
    {
     "data": {
      "image/png": "[encoded data removed]",
      "text/plain": [
       "<Figure size 432x288 with 1 Axes>"
      ]
     },
     "metadata": {
      "needs_background": "light"
     },
     "output_type": "display_data"
    }
   ],
   "source": [
    "sns.heatmap(cm.T, square=True, annot=True,cmap=\"RdPu\", fmt='.0f', cbar=False)\n",
    "plt.xlabel('True Class')\n",
    "plt.ylabel('Predicted Class');"
   ]
  },
  {
   "cell_type": "code",
   "execution_count": 133,
   "metadata": {},
   "outputs": [
    {
     "name": "stdout",
     "output_type": "stream",
     "text": [
      "              precision    recall  f1-score   support\n",
      "\n",
      "           0       0.95      0.81      0.87       450\n",
      "           1       0.88      0.96      0.91       630\n",
      "           2       0.95      0.68      0.79       150\n",
      "           3       0.99      0.93      0.96       420\n",
      "           4       0.95      0.95      0.95       690\n",
      "           5       0.96      0.99      0.97       720\n",
      "           6       0.89      1.00      0.94       270\n",
      "           7       0.62      0.90      0.73        60\n",
      "           8       0.94      0.92      0.93       690\n",
      "           9       0.96      0.96      0.96        90\n",
      "\n",
      "    accuracy                           0.93      4170\n",
      "   macro avg       0.91      0.91      0.90      4170\n",
      "weighted avg       0.93      0.93      0.93      4170\n",
      "\n"
     ]
    }
   ],
   "source": [
    "print(classification_report(rounded_labels,predictions))"
   ]
  },
  {
   "cell_type": "markdown",
   "metadata": {},
   "source": [
    "# Changing Epochs"
   ]
  },
  {
   "cell_type": "markdown",
   "metadata": {},
   "source": [
    "## Half Epochs"
   ]
  },
  {
   "cell_type": "code",
   "execution_count": 148,
   "metadata": {},
   "outputs": [],
   "source": [
    "model3 = Sequential()"
   ]
  },
  {
   "cell_type": "code",
   "execution_count": 149,
   "metadata": {},
   "outputs": [],
   "source": [
    "model3.add(Dense(512, activation = 'relu',input_shape=(784,)))\n",
    "\n",
    "# Layer 2\n",
    "model3.add(Dense(512, activation = 'relu'))\n",
    "\n",
    "#Output Layer\n",
    "model3.add(Dense(10, activation = 'softmax'))"
   ]
  },
  {
   "cell_type": "code",
   "execution_count": 150,
   "metadata": {},
   "outputs": [],
   "source": [
    "model3.compile(optimizer='adam', loss='categorical_crossentropy', metrics = ['accuracy'])"
   ]
  },
  {
   "cell_type": "code",
   "execution_count": 151,
   "metadata": {},
   "outputs": [
    {
     "name": "stdout",
     "output_type": "stream",
     "text": [
      "Model: \"sequential_19\"\n",
      "_________________________________________________________________\n",
      "Layer (type)                 Output Shape              Param #   \n",
      "=================================================================\n",
      "dense_83 (Dense)             (None, 512)               401920    \n",
      "_________________________________________________________________\n",
      "dense_84 (Dense)             (None, 512)               262656    \n",
      "_________________________________________________________________\n",
      "dense_85 (Dense)             (None, 10)                5130      \n",
      "=================================================================\n",
      "Total params: 669,706\n",
      "Trainable params: 669,706\n",
      "Non-trainable params: 0\n",
      "_________________________________________________________________\n"
     ]
    }
   ],
   "source": [
    "model3.summary()"
   ]
  },
  {
   "cell_type": "code",
   "execution_count": 153,
   "metadata": {},
   "outputs": [
    {
     "name": "stdout",
     "output_type": "stream",
     "text": [
      "Train on 12660 samples, validate on 4170 samples\n",
      "Epoch 1/10\n",
      "12660/12660 [==============================] - 4s 281us/step - loss: 0.8432 - accuracy: 0.7293 - val_loss: 0.6886 - val_accuracy: 0.7871\n",
      "Epoch 2/10\n",
      "12660/12660 [==============================] - 3s 251us/step - loss: 0.3542 - accuracy: 0.8865 - val_loss: 0.5316 - val_accuracy: 0.8326\n",
      "Epoch 3/10\n",
      "12660/12660 [==============================] - 3s 255us/step - loss: 0.2784 - accuracy: 0.9080 - val_loss: 0.4413 - val_accuracy: 0.8688\n",
      "Epoch 4/10\n",
      "12660/12660 [==============================] - 3s 252us/step - loss: 0.2349 - accuracy: 0.9227 - val_loss: 0.7276 - val_accuracy: 0.8710\n",
      "Epoch 5/10\n",
      "12660/12660 [==============================] - 3s 259us/step - loss: 0.1926 - accuracy: 0.9393 - val_loss: 0.3864 - val_accuracy: 0.8894\n",
      "Epoch 6/10\n",
      "12660/12660 [==============================] - 3s 255us/step - loss: 0.1649 - accuracy: 0.9477 - val_loss: 0.3965 - val_accuracy: 0.9048\n",
      "Epoch 7/10\n",
      "12660/12660 [==============================] - 3s 248us/step - loss: 0.1434 - accuracy: 0.9530 - val_loss: 0.3800 - val_accuracy: 0.9055\n",
      "Epoch 8/10\n",
      "12660/12660 [==============================] - 3s 253us/step - loss: 0.1263 - accuracy: 0.9580 - val_loss: 0.3496 - val_accuracy: 0.9074\n",
      "Epoch 9/10\n",
      "12660/12660 [==============================] - 3s 254us/step - loss: 0.1241 - accuracy: 0.9600 - val_loss: 0.3580 - val_accuracy: 0.8966\n",
      "Epoch 10/10\n",
      "12660/12660 [==============================] - 3s 251us/step - loss: 0.1232 - accuracy: 0.9593 - val_loss: 0.4033 - val_accuracy: 0.9091\n"
     ]
    }
   ],
   "source": [
    "HalfEpochs = model3.fit(x_train,y_train, epochs = 10, validation_data = (x_test, y_test))"
   ]
  },
  {
   "cell_type": "code",
   "execution_count": 154,
   "metadata": {},
   "outputs": [
    {
     "data": {
      "text/plain": [
       "[<matplotlib.lines.Line2D at 0x17e0353ffc8>]"
      ]
     },
     "execution_count": 154,
     "metadata": {},
     "output_type": "execute_result"
    },
    {
     "data": {
      "image/png": "[encoded data removed]",
      "text/plain": [
       "<Figure size 432x288 with 1 Axes>"
      ]
     },
     "metadata": {
      "needs_background": "light"
     },
     "output_type": "display_data"
    }
   ],
   "source": [
    "plt.plot(Base_Model.history['accuracy'])\n",
    "plt.plot(Base_Model.history['val_accuracy'])\n",
    "plt.plot(HalfEpochs.history['accuracy'])\n",
    "plt.plot(HalfEpochs.history['val_accuracy'])"
   ]
  },
  {
   "cell_type": "code",
   "execution_count": 155,
   "metadata": {},
   "outputs": [
    {
     "name": "stdout",
     "output_type": "stream",
     "text": [
      "4170/4170 [==============================] - 0s 68us/step\n"
     ]
    }
   ],
   "source": [
    "score = model3.evaluate(x_test, y_test)"
   ]
  },
  {
   "cell_type": "code",
   "execution_count": 156,
   "metadata": {},
   "outputs": [
    {
     "data": {
      "text/plain": [
       "[0.40326762165454366, 0.9091126918792725]"
      ]
     },
     "execution_count": 156,
     "metadata": {},
     "output_type": "execute_result"
    }
   ],
   "source": [
    "score"
   ]
  },
  {
   "cell_type": "code",
   "execution_count": 158,
   "metadata": {},
   "outputs": [
    {
     "data": {
      "image/png": "[encoded data removed]",
      "text/plain": [
       "<Figure size 432x288 with 1 Axes>"
      ]
     },
     "metadata": {
      "needs_background": "light"
     },
     "output_type": "display_data"
    }
   ],
   "source": [
    "predictions = model3.predict_classes(x_test, batch_size=10)\n",
    "cm = confusion_matrix(rounded_labels, predictions)\n",
    "sns.heatmap(cm.T, square=True, annot=True,cmap=\"RdPu\", fmt='.0f', cbar=False)\n",
    "plt.xlabel('True Class')\n",
    "plt.ylabel('Predicted Class');"
   ]
  },
  {
   "cell_type": "code",
   "execution_count": 159,
   "metadata": {},
   "outputs": [
    {
     "name": "stdout",
     "output_type": "stream",
     "text": [
      "              precision    recall  f1-score   support\n",
      "\n",
      "           0       0.81      0.85      0.83       450\n",
      "           1       0.92      0.85      0.89       630\n",
      "           2       0.97      0.67      0.79       150\n",
      "           3       0.94      0.95      0.94       420\n",
      "           4       0.89      0.95      0.92       690\n",
      "           5       0.96      0.99      0.98       720\n",
      "           6       0.83      1.00      0.91       270\n",
      "           7       0.72      0.65      0.68        60\n",
      "           8       0.95      0.91      0.93       690\n",
      "           9       0.91      0.79      0.85        90\n",
      "\n",
      "    accuracy                           0.91      4170\n",
      "   macro avg       0.89      0.86      0.87      4170\n",
      "weighted avg       0.91      0.91      0.91      4170\n",
      "\n"
     ]
    }
   ],
   "source": [
    "print(classification_report(rounded_labels,predictions))\n"
   ]
  },
  {
   "cell_type": "markdown",
   "metadata": {},
   "source": [
    "# Double Epochs"
   ]
  },
  {
   "cell_type": "code",
   "execution_count": 170,
   "metadata": {},
   "outputs": [],
   "source": [
    "model4 = Sequential()"
   ]
  },
  {
   "cell_type": "code",
   "execution_count": 171,
   "metadata": {},
   "outputs": [],
   "source": [
    "model4.add(Dense(512, activation='relu', input_shape=(784,)))\n",
    "model4.add(Dense(512, activation='relu'))\n",
    "model4.add(Dense(10, activation='softmax'))\n"
   ]
  },
  {
   "cell_type": "code",
   "execution_count": 172,
   "metadata": {},
   "outputs": [],
   "source": [
    "model4.compile(optimizer='adam', loss='categorical_crossentropy', metrics=['accuracy'])"
   ]
  },
  {
   "cell_type": "code",
   "execution_count": 173,
   "metadata": {},
   "outputs": [
    {
     "name": "stdout",
     "output_type": "stream",
     "text": [
      "Model: \"sequential_21\"\n",
      "_________________________________________________________________\n",
      "Layer (type)                 Output Shape              Param #   \n",
      "=================================================================\n",
      "dense_92 (Dense)             (None, 512)               401920    \n",
      "_________________________________________________________________\n",
      "dense_93 (Dense)             (None, 512)               262656    \n",
      "_________________________________________________________________\n",
      "dense_94 (Dense)             (None, 10)                5130      \n",
      "=================================================================\n",
      "Total params: 669,706\n",
      "Trainable params: 669,706\n",
      "Non-trainable params: 0\n",
      "_________________________________________________________________\n"
     ]
    }
   ],
   "source": [
    "model4.summary()"
   ]
  },
  {
   "cell_type": "code",
   "execution_count": 175,
   "metadata": {},
   "outputs": [
    {
     "name": "stdout",
     "output_type": "stream",
     "text": [
      "Train on 12660 samples, validate on 4170 samples\n",
      "Epoch 1/40\n",
      "12660/12660 [==============================] - 3s 253us/step - loss: 0.0376 - accuracy: 0.9886 - val_loss: 0.5037 - val_accuracy: 0.9266\n",
      "Epoch 2/40\n",
      "12660/12660 [==============================] - 3s 254us/step - loss: 0.0339 - accuracy: 0.9893 - val_loss: 0.5326 - val_accuracy: 0.9074\n",
      "Epoch 3/40\n",
      "12660/12660 [==============================] - 3s 254us/step - loss: 0.0100 - accuracy: 0.9971 - val_loss: 0.4568 - val_accuracy: 0.9312\n",
      "Epoch 4/40\n",
      "12660/12660 [==============================] - 3s 270us/step - loss: 0.0579 - accuracy: 0.9831 - val_loss: 0.4264 - val_accuracy: 0.9369\n",
      "Epoch 5/40\n",
      "12660/12660 [==============================] - 3s 252us/step - loss: 0.0188 - accuracy: 0.9945 - val_loss: 0.4623 - val_accuracy: 0.9321\n",
      "Epoch 6/40\n",
      "12660/12660 [==============================] - 3s 263us/step - loss: 0.0339 - accuracy: 0.9885 - val_loss: 0.5363 - val_accuracy: 0.9187\n",
      "Epoch 7/40\n",
      "12660/12660 [==============================] - 3s 257us/step - loss: 0.0156 - accuracy: 0.9947 - val_loss: 0.4567 - val_accuracy: 0.9376\n",
      "Epoch 8/40\n",
      "12660/12660 [==============================] - 3s 260us/step - loss: 0.0241 - accuracy: 0.9915 - val_loss: 0.5883 - val_accuracy: 0.9189\n",
      "Epoch 9/40\n",
      "12660/12660 [==============================] - 3s 273us/step - loss: 0.0382 - accuracy: 0.9876 - val_loss: 0.4583 - val_accuracy: 0.9254\n",
      "Epoch 10/40\n",
      "12660/12660 [==============================] - 3s 260us/step - loss: 0.0368 - accuracy: 0.9887 - val_loss: 0.5415 - val_accuracy: 0.9321\n",
      "Epoch 11/40\n",
      "12660/12660 [==============================] - 3s 267us/step - loss: 0.0181 - accuracy: 0.9942 - val_loss: 0.5798 - val_accuracy: 0.9134\n",
      "Epoch 12/40\n",
      "12660/12660 [==============================] - 3s 271us/step - loss: 0.0196 - accuracy: 0.9941 - val_loss: 0.5425 - val_accuracy: 0.9233\n",
      "Epoch 13/40\n",
      "12660/12660 [==============================] - 3s 267us/step - loss: 0.0111 - accuracy: 0.9963 - val_loss: 0.5126 - val_accuracy: 0.9314\n",
      "Epoch 14/40\n",
      "12660/12660 [==============================] - 4s 277us/step - loss: 0.0491 - accuracy: 0.9865 - val_loss: 0.5602 - val_accuracy: 0.9161\n",
      "Epoch 15/40\n",
      "12660/12660 [==============================] - 4s 300us/step - loss: 0.0147 - accuracy: 0.9954 - val_loss: 0.7642 - val_accuracy: 0.9216\n",
      "Epoch 16/40\n",
      "12660/12660 [==============================] - 3s 262us/step - loss: 0.0072 - accuracy: 0.9979 - val_loss: 0.4785 - val_accuracy: 0.9273\n",
      "Epoch 17/40\n",
      "12660/12660 [==============================] - 3s 257us/step - loss: 0.0114 - accuracy: 0.9965 - val_loss: 0.5910 - val_accuracy: 0.9000\n",
      "Epoch 18/40\n",
      "12660/12660 [==============================] - 3s 268us/step - loss: 0.0321 - accuracy: 0.9899 - val_loss: 0.7206 - val_accuracy: 0.8799\n",
      "Epoch 19/40\n",
      "12660/12660 [==============================] - 3s 264us/step - loss: 0.0553 - accuracy: 0.9837 - val_loss: 0.5897 - val_accuracy: 0.9266\n",
      "Epoch 20/40\n",
      "12660/12660 [==============================] - 3s 256us/step - loss: 0.0107 - accuracy: 0.9965 - val_loss: 0.4989 - val_accuracy: 0.9281\n",
      "Epoch 21/40\n",
      "12660/12660 [==============================] - 3s 266us/step - loss: 0.0099 - accuracy: 0.9972 - val_loss: 0.5198 - val_accuracy: 0.9329\n",
      "Epoch 22/40\n",
      "12660/12660 [==============================] - 3s 257us/step - loss: 0.0322 - accuracy: 0.9905 - val_loss: 0.4745 - val_accuracy: 0.9156\n",
      "Epoch 23/40\n",
      "12660/12660 [==============================] - 3s 272us/step - loss: 0.0213 - accuracy: 0.9932 - val_loss: 0.7719 - val_accuracy: 0.8957\n",
      "Epoch 24/40\n",
      "12660/12660 [==============================] - 3s 260us/step - loss: 0.0077 - accuracy: 0.9977 - val_loss: 0.6547 - val_accuracy: 0.9281\n",
      "Epoch 25/40\n",
      "12660/12660 [==============================] - 3s 259us/step - loss: 0.0380 - accuracy: 0.9888 - val_loss: 0.5977 - val_accuracy: 0.9199\n",
      "Epoch 26/40\n",
      "12660/12660 [==============================] - 3s 262us/step - loss: 0.0017 - accuracy: 0.9999 - val_loss: 0.6398 - val_accuracy: 0.9297\n",
      "Epoch 27/40\n",
      "12660/12660 [==============================] - 3s 260us/step - loss: 0.0021 - accuracy: 0.9994 - val_loss: 0.6270 - val_accuracy: 0.9245\n",
      "Epoch 28/40\n",
      "12660/12660 [==============================] - 3s 274us/step - loss: 0.0461 - accuracy: 0.9852 - val_loss: 0.7205 - val_accuracy: 0.9005\n",
      "Epoch 29/40\n",
      "12660/12660 [==============================] - 3s 254us/step - loss: 0.0306 - accuracy: 0.9913 - val_loss: 0.6515 - val_accuracy: 0.9120\n",
      "Epoch 30/40\n",
      "12660/12660 [==============================] - 3s 260us/step - loss: 0.0182 - accuracy: 0.9935 - val_loss: 0.8877 - val_accuracy: 0.9050\n",
      "Epoch 31/40\n",
      "12660/12660 [==============================] - 3s 264us/step - loss: 0.0141 - accuracy: 0.9952 - val_loss: 0.4884 - val_accuracy: 0.9372\n",
      "Epoch 32/40\n",
      "12660/12660 [==============================] - 3s 254us/step - loss: 0.0050 - accuracy: 0.9984 - val_loss: 0.5825 - val_accuracy: 0.9348\n",
      "Epoch 33/40\n",
      "12660/12660 [==============================] - 3s 275us/step - loss: 0.0181 - accuracy: 0.9942 - val_loss: 0.8631 - val_accuracy: 0.8827\n",
      "Epoch 34/40\n",
      "12660/12660 [==============================] - 3s 259us/step - loss: 0.0143 - accuracy: 0.9959 - val_loss: 0.5966 - val_accuracy: 0.9379\n",
      "Epoch 35/40\n",
      "12660/12660 [==============================] - 3s 258us/step - loss: 5.5550e-04 - accuracy: 1.0000 - val_loss: 0.6434 - val_accuracy: 0.9362\n",
      "Epoch 36/40\n",
      "12660/12660 [==============================] - 3s 262us/step - loss: 5.7179e-04 - accuracy: 0.9999 - val_loss: 0.6320 - val_accuracy: 0.9355\n",
      "Epoch 37/40\n",
      "12660/12660 [==============================] - 3s 261us/step - loss: 0.0559 - accuracy: 0.9843 - val_loss: 0.7133 - val_accuracy: 0.9199\n",
      "Epoch 38/40\n",
      "12660/12660 [==============================] - 3s 272us/step - loss: 0.0562 - accuracy: 0.9832 - val_loss: 0.5623 - val_accuracy: 0.9180\n",
      "Epoch 39/40\n",
      "12660/12660 [==============================] - 3s 258us/step - loss: 0.0057 - accuracy: 0.9987 - val_loss: 0.7576 - val_accuracy: 0.9216\n",
      "Epoch 40/40\n",
      "12660/12660 [==============================] - 3s 261us/step - loss: 0.0200 - accuracy: 0.9947 - val_loss: 0.5430 - val_accuracy: 0.9115\n"
     ]
    }
   ],
   "source": [
    "DoubleEpochs = model4.fit(x_train,y_train,epochs=40,validation_data=(x_test,y_test))"
   ]
  },
  {
   "cell_type": "code",
   "execution_count": 176,
   "metadata": {},
   "outputs": [
    {
     "data": {
      "text/plain": [
       "[<matplotlib.lines.Line2D at 0x17e0f10c908>]"
      ]
     },
     "execution_count": 176,
     "metadata": {},
     "output_type": "execute_result"
    },
    {
     "data": {
      "image/png": "[encoded data removed]",
      "text/plain": [
       "<Figure size 432x288 with 1 Axes>"
      ]
     },
     "metadata": {
      "needs_background": "light"
     },
     "output_type": "display_data"
    }
   ],
   "source": [
    "plt.plot(Base_Model.history['accuracy'])\n",
    "plt.plot(Base_Model.history['val_accuracy'])\n",
    "plt.plot(HalfEpochs.history['accuracy'])\n",
    "plt.plot(HalfEpochs.history['val_accuracy'])\n",
    "plt.plot(DoubleEpochs.history['accuracy'])\n",
    "plt.plot(DoubleEpochs.history['val_accuracy'])"
   ]
  },
  {
   "cell_type": "code",
   "execution_count": 179,
   "metadata": {},
   "outputs": [
    {
     "name": "stdout",
     "output_type": "stream",
     "text": [
      "4170/4170 [==============================] - 0s 58us/step\n"
     ]
    }
   ],
   "source": [
    "score = model4.evaluate(x_test, y_test)"
   ]
  },
  {
   "cell_type": "code",
   "execution_count": 180,
   "metadata": {},
   "outputs": [
    {
     "data": {
      "text/plain": [
       "[0.5430014838739264, 0.9115107655525208]"
      ]
     },
     "execution_count": 180,
     "metadata": {},
     "output_type": "execute_result"
    }
   ],
   "source": [
    "score"
   ]
  },
  {
   "cell_type": "code",
   "execution_count": 181,
   "metadata": {},
   "outputs": [
    {
     "data": {
      "image/png": "[encoded data removed]",
      "text/plain": [
       "<Figure size 432x288 with 1 Axes>"
      ]
     },
     "metadata": {
      "needs_background": "light"
     },
     "output_type": "display_data"
    }
   ],
   "source": [
    "predictions = model4.predict_classes(x_test, batch_size=10)\n",
    "cm = confusion_matrix(rounded_labels, predictions)\n",
    "sns.heatmap(cm.T, square=True, annot=True,cmap=\"RdPu\", fmt='.0f', cbar=False)\n",
    "plt.xlabel('True Class')\n",
    "plt.ylabel('Predicted Class')"
   ]
  },
  {
   "cell_type": "code",
   "execution_count": 182,
   "metadata": {},
   "outputs": [
    {
     "name": "stdout",
     "output_type": "stream",
     "text": [
      "              precision    recall  f1-score   support\n",
      "\n",
      "           0       0.79      0.82      0.80       450\n",
      "           1       0.84      0.93      0.88       630\n",
      "           2       0.90      0.77      0.83       150\n",
      "           3       0.96      0.95      0.95       420\n",
      "           4       0.97      0.90      0.93       690\n",
      "           5       0.94      0.99      0.96       720\n",
      "           6       0.91      0.98      0.95       270\n",
      "           7       0.89      0.93      0.91        60\n",
      "           8       0.95      0.89      0.92       690\n",
      "           9       0.98      0.64      0.78        90\n",
      "\n",
      "    accuracy                           0.91      4170\n",
      "   macro avg       0.91      0.88      0.89      4170\n",
      "weighted avg       0.91      0.91      0.91      4170\n",
      "\n"
     ]
    }
   ],
   "source": [
    "print(classification_report(rounded_labels,predictions))"
   ]
  },
  {
   "cell_type": "code",
   "execution_count": null,
   "metadata": {},
   "outputs": [],
   "source": []
  }
 ],
 "metadata": {
  "kernelspec": {
   "display_name": "Python 3",
   "language": "python",
   "name": "python3"
  },
  "language_info": {
   "codemirror_mode": {
    "name": "ipython",
    "version": 3
   },
   "file_extension": ".py",
   "mimetype": "text/x-python",
   "name": "python",
   "nbconvert_exporter": "python",
   "pygments_lexer": "ipython3",
   "version": "3.7.5"
  }
 },
 "nbformat": 4,
 "nbformat_minor": 4
}
