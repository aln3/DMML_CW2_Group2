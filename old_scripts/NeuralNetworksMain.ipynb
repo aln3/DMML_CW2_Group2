{
 "cells": [
  {
   "cell_type": "markdown",
   "metadata": {},
   "source": [
    "## Imports"
   ]
  },
  {
   "cell_type": "code",
   "execution_count": 1,
   "metadata": {},
   "outputs": [
    {
     "name": "stderr",
     "output_type": "stream",
     "text": [
      "Using TensorFlow backend.\n"
     ]
    }
   ],
   "source": [
    "import cv2\n",
    "import random\n",
    "import numpy as np\n",
    "import matplotlib.pyplot as plt\n",
    "import pandas as pd\n",
    "import seaborn as sns\n",
    "import time\n",
    "\n",
    "\n",
    "from numpy import genfromtxt\n",
    "from sklearn.metrics import accuracy_score\n",
    "from sklearn.metrics import confusion_matrix, classification_report\n",
    "from mpl_toolkits.mplot3d import Axes3D\n",
    "\n",
    "\n",
    "from sklearn.linear_model import LogisticRegression\n",
    "#----------------------------------------------Neural Net Imports\n",
    "from keras.datasets import mnist\n",
    "from keras.preprocessing.image import load_img, array_to_img\n",
    "from keras.utils.np_utils import to_categorical\n",
    "\n",
    "# Linear stack of NN layers\n",
    "from keras.models import Sequential\n",
    "\n",
    "# Ensure Fully connected layer \n",
    "from keras.layers import Dense\n",
    "#----------------------------------------------------------------\n",
    "\n",
    "import numpy as np\n",
    "import matplotlib.pyplot as plt\n",
    "%matplotlib inline\n",
    "from sklearn.model_selection import cross_val_predict\n",
    "\n",
    "\n",
    "num_pixels = 28\n",
    "%matplotlib inline"
   ]
  },
  {
   "cell_type": "code",
   "execution_count": 2,
   "metadata": {},
   "outputs": [],
   "source": [
    "# Importing training  data from CSV files\n",
    "x_train = genfromtxt('Data/Training/x_train_gr_smpl.csv', delimiter=',', skip_header =1)\n",
    "y_train = genfromtxt('Data/Training/y_train_smpl.csv', delimiter=',', skip_header =1 )"
   ]
  },
  {
   "cell_type": "code",
   "execution_count": 3,
   "metadata": {},
   "outputs": [],
   "source": [
    "# Importing testing data from CSV files\n",
    "x_test = genfromtxt('Data/Testing/x_test_gr_smpl.csv', delimiter=',', skip_header =1)\n",
    "y_test = genfromtxt('Data/Testing/y_test_smpl.csv', delimiter=',', skip_header =1 )"
   ]
  },
  {
   "cell_type": "code",
   "execution_count": 4,
   "metadata": {},
   "outputs": [
    {
     "name": "stdout",
     "output_type": "stream",
     "text": [
      "(12660, 2304)\n",
      "(12660,)\n",
      "(4170, 2304)\n",
      "(4170,)\n"
     ]
    }
   ],
   "source": [
    "# Check data has been imported correctly \n",
    "print(x_train.shape)\n",
    "print(y_train.shape)\n",
    "print(x_test.shape)\n",
    "print(y_test.shape)"
   ]
  },
  {
   "cell_type": "markdown",
   "metadata": {},
   "source": [
    "## Preprocessing"
   ]
  },
  {
   "cell_type": "code",
   "execution_count": 5,
   "metadata": {},
   "outputs": [],
   "source": [
    "# Combinging data with labels\n",
    "\n",
    "y_train = y_train.reshape(12660,1)\n",
    "train_data_combined = np.append(x_train, y_train, axis=1)\n",
    "\n",
    "y_test = y_test.reshape(4170,1)\n",
    "test_data_combined = np.append(x_test, y_test, axis=1)\n"
   ]
  },
  {
   "cell_type": "code",
   "execution_count": 6,
   "metadata": {},
   "outputs": [],
   "source": [
    "# Randomises row order in a reproducable way \n",
    "np.random.seed(0)\n",
    "np.random.shuffle(train_data_combined)\n",
    "np.random.shuffle(test_data_combined)"
   ]
  },
  {
   "cell_type": "code",
   "execution_count": 7,
   "metadata": {},
   "outputs": [],
   "source": [
    "# Split data and lables that have undergone the same randomization process\n",
    "x_train = train_data_combined[:,:-1]\n",
    "y_train = train_data_combined[:, [-1]].reshape(12660,)\n",
    "\n",
    "x_test = test_data_combined[:,:-1]\n",
    "y_test = test_data_combined[:, [-1]].reshape(4170,)"
   ]
  },
  {
   "cell_type": "code",
   "execution_count": 8,
   "metadata": {},
   "outputs": [],
   "source": [
    "# Normalisation of pixels\n",
    "x_train = x_train.astype('float')/255\n",
    "x_test  = x_test.astype('float')/255"
   ]
  },
  {
   "cell_type": "code",
   "execution_count": 9,
   "metadata": {},
   "outputs": [],
   "source": [
    "#  Reducing the number of attributes using opencv's reduce functionality as shown in the second python Lecture\n",
    "#  As seen in python lectures: https://vision.hw.ac.uk/webapps/blackboard/content/listContent.jsp?course_id=_94419_1&content_id=_3391865_1\n",
    "\n",
    "x_train = np.apply_along_axis(\n",
    "        func1d=lambda img: cv2.resize(img.reshape((48,48)), (num_pixels,num_pixels)),\n",
    "        axis =1, arr = x_train).reshape((-1,num_pixels*num_pixels))\n",
    "\n",
    "x_test  = np.apply_along_axis(\n",
    "        func1d=lambda img: cv2.resize(img.reshape((48,48)), (num_pixels,num_pixels)),\n",
    "        axis =1, arr = x_test).reshape((-1,num_pixels*num_pixels))"
   ]
  },
  {
   "cell_type": "code",
   "execution_count": 10,
   "metadata": {},
   "outputs": [
    {
     "data": {
      "text/plain": [
       "(12660, 784)"
      ]
     },
     "execution_count": 10,
     "metadata": {},
     "output_type": "execute_result"
    }
   ],
   "source": [
    "x_train.shape"
   ]
  },
  {
   "cell_type": "code",
   "execution_count": 11,
   "metadata": {},
   "outputs": [
    {
     "name": "stdout",
     "output_type": "stream",
     "text": [
      "(12660, 10)\n",
      "(4170, 10)\n"
     ]
    }
   ],
   "source": [
    "# # Creating 10 bins for output\n",
    "y_train = to_categorical(y_train,10)\n",
    "y_test = to_categorical(y_test,10)\n",
    "\n",
    "print(y_train.shape) \n",
    "print(y_test.shape)"
   ]
  },
  {
   "cell_type": "markdown",
   "metadata": {},
   "source": [
    "# Neural Networks"
   ]
  },
  {
   "cell_type": "markdown",
   "metadata": {},
   "source": [
    "## Buiding MLP Architecture"
   ]
  },
  {
   "cell_type": "code",
   "execution_count": 12,
   "metadata": {},
   "outputs": [],
   "source": [
    "# Specifying Sequential Model\n",
    "model = Sequential()"
   ]
  },
  {
   "cell_type": "code",
   "execution_count": 13,
   "metadata": {},
   "outputs": [],
   "source": [
    "# Dense Adds fully connected nodes in each layer \n",
    "\n",
    "# Input layer is the number of pixels & their values \n",
    "\n",
    "# Layer 1\n",
    "model.add(Dense(512, activation = 'relu',input_shape=(784,)))\n",
    "\n",
    "# Layer 2\n",
    "model.add(Dense(512, activation = 'relu'))\n",
    "\n",
    "#Output Layer\n",
    "model.add(Dense(10, activation = 'softmax'))\n"
   ]
  },
  {
   "cell_type": "markdown",
   "metadata": {},
   "source": [
    "## Compiling the model"
   ]
  },
  {
   "cell_type": "code",
   "execution_count": 14,
   "metadata": {},
   "outputs": [],
   "source": [
    "model.compile(optimizer='adam', loss='categorical_crossentropy', metrics = ['accuracy'])"
   ]
  },
  {
   "cell_type": "code",
   "execution_count": 15,
   "metadata": {},
   "outputs": [
    {
     "name": "stdout",
     "output_type": "stream",
     "text": [
      "Model: \"sequential_1\"\n",
      "_________________________________________________________________\n",
      "Layer (type)                 Output Shape              Param #   \n",
      "=================================================================\n",
      "dense_1 (Dense)              (None, 512)               401920    \n",
      "_________________________________________________________________\n",
      "dense_2 (Dense)              (None, 512)               262656    \n",
      "_________________________________________________________________\n",
      "dense_3 (Dense)              (None, 10)                5130      \n",
      "=================================================================\n",
      "Total params: 669,706\n",
      "Trainable params: 669,706\n",
      "Non-trainable params: 0\n",
      "_________________________________________________________________\n"
     ]
    }
   ],
   "source": [
    "model.summary()"
   ]
  },
  {
   "cell_type": "markdown",
   "metadata": {},
   "source": [
    "# Visualising ANN arcitecture. (Takes a long time to run!)"
   ]
  },
  {
   "cell_type": "code",
   "execution_count": 16,
   "metadata": {},
   "outputs": [],
   "source": [
    "# https://towardsdatascience.com/visualizing-artificial-neural-networks-anns-with-just-one-line-of-code-b4233607209e\n",
    "# from ann_visualizer.visualize import ann_viz;\n",
    "\n",
    "# ann_viz(model, title=\"My first neural network\")"
   ]
  },
  {
   "cell_type": "code",
   "execution_count": 17,
   "metadata": {},
   "outputs": [
    {
     "data": {
      "text/plain": [
       "(12660, 10)"
      ]
     },
     "execution_count": 17,
     "metadata": {},
     "output_type": "execute_result"
    }
   ],
   "source": [
    "y_train.shape"
   ]
  },
  {
   "cell_type": "markdown",
   "metadata": {},
   "source": [
    "## Training the Model"
   ]
  },
  {
   "cell_type": "code",
   "execution_count": 18,
   "metadata": {},
   "outputs": [
    {
     "name": "stdout",
     "output_type": "stream",
     "text": [
      "Train on 12660 samples, validate on 4170 samples\n",
      "Epoch 1/10\n",
      "12660/12660 [==============================] - 11s 846us/step - loss: 0.8325 - accuracy: 0.7375 - val_loss: 0.6286 - val_accuracy: 0.7739\n",
      "Epoch 2/10\n",
      "12660/12660 [==============================] - 10s 826us/step - loss: 0.3803 - accuracy: 0.8730 - val_loss: 0.4441 - val_accuracy: 0.8691\n",
      "Epoch 3/10\n",
      "12660/12660 [==============================] - 11s 863us/step - loss: 0.2831 - accuracy: 0.9085 - val_loss: 0.7233 - val_accuracy: 0.8302\n",
      "Epoch 4/10\n",
      "12660/12660 [==============================] - 10s 796us/step - loss: 0.2200 - accuracy: 0.9290 - val_loss: 0.5479 - val_accuracy: 0.8501\n",
      "Epoch 5/10\n",
      "12660/12660 [==============================] - 10s 811us/step - loss: 0.2077 - accuracy: 0.9342 - val_loss: 0.3526 - val_accuracy: 0.9175\n",
      "Epoch 6/10\n",
      "12660/12660 [==============================] - 11s 847us/step - loss: 0.1603 - accuracy: 0.9461 - val_loss: 0.3469 - val_accuracy: 0.9204\n",
      "Epoch 7/10\n",
      "12660/12660 [==============================] - 10s 811us/step - loss: 0.1510 - accuracy: 0.9496 - val_loss: 0.3694 - val_accuracy: 0.9120\n",
      "Epoch 8/10\n",
      "12660/12660 [==============================] - 10s 815us/step - loss: 0.1502 - accuracy: 0.9484 - val_loss: 0.4142 - val_accuracy: 0.9002\n",
      "Epoch 9/10\n",
      "12660/12660 [==============================] - 10s 819us/step - loss: 0.1311 - accuracy: 0.9577 - val_loss: 0.3996 - val_accuracy: 0.9014\n",
      "Epoch 10/10\n",
      "12660/12660 [==============================] - 10s 817us/step - loss: 0.0902 - accuracy: 0.9693 - val_loss: 0.5335 - val_accuracy: 0.8775\n"
     ]
    }
   ],
   "source": [
    "trained_network_output = model.fit(x_train,y_train, epochs = 10, validation_data = (x_test, y_test))"
   ]
  },
  {
   "cell_type": "markdown",
   "metadata": {},
   "source": [
    "# Evaluation"
   ]
  },
  {
   "cell_type": "markdown",
   "metadata": {},
   "source": [
    "### Accuracy of training model"
   ]
  },
  {
   "cell_type": "code",
   "execution_count": 19,
   "metadata": {},
   "outputs": [
    {
     "data": {
      "text/plain": [
       "[<matplotlib.lines.Line2D at 0x7f095bf70110>]"
      ]
     },
     "execution_count": 19,
     "metadata": {},
     "output_type": "execute_result"
    },
    {
     "data": {
      "image/png": "[encoded data removed]",
      "text/plain": [
       "<Figure size 432x288 with 1 Axes>"
      ]
     },
     "metadata": {
      "needs_background": "light"
     },
     "output_type": "display_data"
    }
   ],
   "source": [
    "plt.plot(trained_network_output.history['accuracy'])"
   ]
  },
  {
   "cell_type": "markdown",
   "metadata": {},
   "source": [
    "### Accuracy of training and validation set"
   ]
  },
  {
   "cell_type": "code",
   "execution_count": 20,
   "metadata": {},
   "outputs": [
    {
     "data": {
      "text/plain": [
       "[<matplotlib.lines.Line2D at 0x7f095bf70d50>]"
      ]
     },
     "execution_count": 20,
     "metadata": {},
     "output_type": "execute_result"
    },
    {
     "data": {
      "image/png": "[encoded data removed]",
      "text/plain": [
       "<Figure size 432x288 with 1 Axes>"
      ]
     },
     "metadata": {
      "needs_background": "light"
     },
     "output_type": "display_data"
    }
   ],
   "source": [
    "plt.plot(trained_network_output.history['accuracy'])\n",
    "plt.plot(trained_network_output.history['val_accuracy'])"
   ]
  },
  {
   "cell_type": "code",
   "execution_count": 21,
   "metadata": {},
   "outputs": [
    {
     "name": "stdout",
     "output_type": "stream",
     "text": [
      "4170/4170 [==============================] - 1s 168us/step\n"
     ]
    }
   ],
   "source": [
    "# Evalutation the model\n",
    "score = model.evaluate(x_test, y_test)"
   ]
  },
  {
   "cell_type": "code",
   "execution_count": 22,
   "metadata": {},
   "outputs": [
    {
     "data": {
      "text/plain": [
       "[0.5334791995852971, 0.8774580359458923]"
      ]
     },
     "execution_count": 22,
     "metadata": {},
     "output_type": "execute_result"
    }
   ],
   "source": [
    "score\n",
    "# 90% accuaracy!!!"
   ]
  },
  {
   "cell_type": "markdown",
   "metadata": {},
   "source": [
    "## 10-fold cross valiadation"
   ]
  },
  {
   "cell_type": "code",
   "execution_count": 23,
   "metadata": {},
   "outputs": [],
   "source": [
    "# Method to construct a set MLP model\n",
    "def construct_new_model():\n",
    "    \n",
    "    # Specifying a sequential modle \n",
    "    model = Sequential()\n",
    "    \n",
    "    # Dense Adds fully connected nodes in each layer \n",
    "    # Input layer is the number of pixels & their values \n",
    "    # Layer 1\n",
    "    model.add(Dense(512, activation = 'relu',input_shape=(784,)))\n",
    "\n",
    "    # Layer 2\n",
    "    model.add(Dense(512, activation = 'relu'))\n",
    "    \n",
    "    # Output Layer\n",
    "    model.add(Dense(10, activation = 'softmax'))\n",
    "    \n",
    "    model.compile(optimizer='adam', loss='categorical_crossentropy', metrics = ['accuracy'])\n",
    "    \n",
    "    return model\n",
    "\n",
    "    "
   ]
  },
  {
   "cell_type": "code",
   "execution_count": 24,
   "metadata": {},
   "outputs": [],
   "source": [
    "# Uniformly separates classes in folds: See video @12:00 https://www.youtube.com/watch?v=gJo0uNL-5Qw\n",
    "# Proportion of classes is same accross all folds\n",
    "from sklearn.model_selection import StratifiedKFold\n",
    "skf = StratifiedKFold(n_splits=10, random_state=None, shuffle=False)"
   ]
  },
  {
   "cell_type": "code",
   "execution_count": 25,
   "metadata": {},
   "outputs": [],
   "source": [
    "# Ref:[https://www.youtube.com/watch?v=gJo0uNL-5Qw] - Used to make code more concise \n",
    "def get_score(model, x_train, x_test, y_train, y_test):\n",
    "    model.fit(x_train, y_train, epochs = 5, validation_data = (x_test, y_test))\n",
    "    return model.evaluate(x_test, y_test)"
   ]
  },
  {
   "cell_type": "code",
   "execution_count": 45,
   "metadata": {},
   "outputs": [],
   "source": [
    "# Modification of above method\n",
    "def get_network_output(model, x_train, x_test, y_train, y_test):\n",
    "    x = model.fit(x_train, y_train, epochs = 20, validation_data = (x_test, y_test))\n",
    "    return x"
   ]
  },
  {
   "cell_type": "code",
   "execution_count": 27,
   "metadata": {},
   "outputs": [],
   "source": [
    "# Empty list to to which we wil append each folds acccuaracy \n",
    "ScoreArray = []"
   ]
  },
  {
   "cell_type": "code",
   "execution_count": 28,
   "metadata": {},
   "outputs": [
    {
     "name": "stdout",
     "output_type": "stream",
     "text": [
      "Train on 11394 samples, validate on 1266 samples\n",
      "Epoch 1/5\n",
      "11394/11394 [==============================] - 9s 805us/step - loss: 0.8508 - accuracy: 0.7336 - val_loss: 0.6414 - val_accuracy: 0.7891\n",
      "Epoch 2/5\n",
      "11394/11394 [==============================] - 9s 781us/step - loss: 0.3764 - accuracy: 0.8783 - val_loss: 0.2609 - val_accuracy: 0.9179\n",
      "Epoch 3/5\n",
      "11394/11394 [==============================] - 10s 851us/step - loss: 0.3125 - accuracy: 0.8961 - val_loss: 0.2217 - val_accuracy: 0.9400\n",
      "Epoch 4/5\n",
      "11394/11394 [==============================] - 9s 797us/step - loss: 0.2680 - accuracy: 0.9088 - val_loss: 0.1990 - val_accuracy: 0.9265\n",
      "Epoch 5/5\n",
      "11394/11394 [==============================] - 10s 853us/step - loss: 0.2004 - accuracy: 0.9362 - val_loss: 0.6120 - val_accuracy: 0.8515\n",
      "1266/1266 [==============================] - 0s 184us/step\n",
      "Train on 11394 samples, validate on 1266 samples\n",
      "Epoch 1/5\n",
      "11394/11394 [==============================] - 9s 780us/step - loss: 0.9081 - accuracy: 0.7166 - val_loss: 0.3811 - val_accuracy: 0.8918\n",
      "Epoch 2/5\n",
      "11394/11394 [==============================] - 7s 609us/step - loss: 0.3583 - accuracy: 0.8847 - val_loss: 0.4161 - val_accuracy: 0.8483\n",
      "Epoch 3/5\n",
      "11394/11394 [==============================] - 6s 506us/step - loss: 0.2971 - accuracy: 0.9062 - val_loss: 0.2488 - val_accuracy: 0.9218\n",
      "Epoch 4/5\n",
      "11394/11394 [==============================] - 6s 547us/step - loss: 0.2260 - accuracy: 0.9251 - val_loss: 0.1894 - val_accuracy: 0.9368\n",
      "Epoch 5/5\n",
      "11394/11394 [==============================] - 5s 440us/step - loss: 0.1980 - accuracy: 0.9342 - val_loss: 0.2591 - val_accuracy: 0.8918\n",
      "1266/1266 [==============================] - 0s 146us/step\n",
      "Train on 11394 samples, validate on 1266 samples\n",
      "Epoch 1/5\n",
      "11394/11394 [==============================] - 6s 554us/step - loss: 0.8626 - accuracy: 0.7257 - val_loss: 0.5469 - val_accuracy: 0.8049\n",
      "Epoch 2/5\n",
      "11394/11394 [==============================] - 6s 522us/step - loss: 0.3997 - accuracy: 0.8643 - val_loss: 0.3148 - val_accuracy: 0.9028\n",
      "Epoch 3/5\n",
      "11394/11394 [==============================] - 6s 524us/step - loss: 0.2965 - accuracy: 0.9027 - val_loss: 0.3188 - val_accuracy: 0.9147\n",
      "Epoch 4/5\n",
      "11394/11394 [==============================] - 7s 622us/step - loss: 0.2484 - accuracy: 0.9177 - val_loss: 0.2266 - val_accuracy: 0.9194\n",
      "Epoch 5/5\n",
      "11394/11394 [==============================] - 9s 776us/step - loss: 0.2108 - accuracy: 0.9322 - val_loss: 0.4115 - val_accuracy: 0.8665\n",
      "1266/1266 [==============================] - 0s 185us/step\n",
      "Train on 11394 samples, validate on 1266 samples\n",
      "Epoch 1/5\n",
      "11394/11394 [==============================] - 6s 568us/step - loss: 0.8150 - accuracy: 0.7443 - val_loss: 0.5476 - val_accuracy: 0.8128\n",
      "Epoch 2/5\n",
      "11394/11394 [==============================] - 7s 638us/step - loss: 0.3881 - accuracy: 0.8763 - val_loss: 0.4649 - val_accuracy: 0.8397\n",
      "Epoch 3/5\n",
      "11394/11394 [==============================] - 9s 758us/step - loss: 0.3153 - accuracy: 0.9010 - val_loss: 0.2311 - val_accuracy: 0.9289\n",
      "Epoch 4/5\n",
      "11394/11394 [==============================] - 9s 795us/step - loss: 0.2243 - accuracy: 0.9219 - val_loss: 0.2157 - val_accuracy: 0.9360\n",
      "Epoch 5/5\n",
      "11394/11394 [==============================] - 9s 778us/step - loss: 0.1987 - accuracy: 0.9356 - val_loss: 0.3111 - val_accuracy: 0.8910\n",
      "1266/1266 [==============================] - 0s 166us/step\n",
      "Train on 11394 samples, validate on 1266 samples\n",
      "Epoch 1/5\n",
      "11394/11394 [==============================] - 10s 841us/step - loss: 0.9207 - accuracy: 0.7088 - val_loss: 0.4875 - val_accuracy: 0.8207\n",
      "Epoch 2/5\n",
      "11394/11394 [==============================] - 8s 741us/step - loss: 0.4001 - accuracy: 0.8720 - val_loss: 0.4458 - val_accuracy: 0.8452\n",
      "Epoch 3/5\n",
      "11394/11394 [==============================] - 9s 804us/step - loss: 0.3164 - accuracy: 0.9007 - val_loss: 0.2918 - val_accuracy: 0.8878\n",
      "Epoch 4/5\n",
      "11394/11394 [==============================] - 8s 741us/step - loss: 0.2228 - accuracy: 0.9260 - val_loss: 0.1695 - val_accuracy: 0.9463\n",
      "Epoch 5/5\n",
      "11394/11394 [==============================] - 9s 801us/step - loss: 0.2093 - accuracy: 0.9359 - val_loss: 0.1342 - val_accuracy: 0.9487\n",
      "1266/1266 [==============================] - 0s 177us/step\n",
      "Train on 11394 samples, validate on 1266 samples\n",
      "Epoch 1/5\n",
      "11394/11394 [==============================] - 9s 779us/step - loss: 0.8588 - accuracy: 0.7300 - val_loss: 0.4761 - val_accuracy: 0.8420\n",
      "Epoch 2/5\n",
      "11394/11394 [==============================] - 9s 790us/step - loss: 0.4161 - accuracy: 0.8605 - val_loss: 0.6186 - val_accuracy: 0.8175\n",
      "Epoch 3/5\n",
      "11394/11394 [==============================] - 7s 624us/step - loss: 0.3008 - accuracy: 0.9021 - val_loss: 0.2096 - val_accuracy: 0.9242\n",
      "Epoch 4/5\n",
      "11394/11394 [==============================] - 9s 747us/step - loss: 0.2482 - accuracy: 0.9185 - val_loss: 0.1970 - val_accuracy: 0.9455\n",
      "Epoch 5/5\n",
      "11394/11394 [==============================] - 9s 765us/step - loss: 0.1758 - accuracy: 0.9452 - val_loss: 0.1268 - val_accuracy: 0.9708\n",
      "1266/1266 [==============================] - 0s 213us/step\n",
      "Train on 11394 samples, validate on 1266 samples\n",
      "Epoch 1/5\n",
      "11394/11394 [==============================] - 9s 789us/step - loss: 0.9138 - accuracy: 0.7050 - val_loss: 0.6037 - val_accuracy: 0.7986\n",
      "Epoch 2/5\n",
      "11394/11394 [==============================] - 8s 735us/step - loss: 0.3899 - accuracy: 0.8713 - val_loss: 0.3036 - val_accuracy: 0.9084\n",
      "Epoch 3/5\n",
      "11394/11394 [==============================] - 8s 710us/step - loss: 0.3021 - accuracy: 0.8987 - val_loss: 0.3208 - val_accuracy: 0.8957\n",
      "Epoch 4/5\n",
      "11394/11394 [==============================] - 8s 721us/step - loss: 0.2422 - accuracy: 0.9200 - val_loss: 0.2637 - val_accuracy: 0.9202\n",
      "Epoch 5/5\n",
      "11394/11394 [==============================] - 10s 894us/step - loss: 0.2025 - accuracy: 0.9308 - val_loss: 0.1943 - val_accuracy: 0.9289\n",
      "1266/1266 [==============================] - 0s 208us/step\n",
      "Train on 11394 samples, validate on 1266 samples\n",
      "Epoch 1/5\n",
      "11394/11394 [==============================] - 11s 944us/step - loss: 0.9151 - accuracy: 0.7074 - val_loss: 0.4270 - val_accuracy: 0.8547\n",
      "Epoch 2/5\n",
      "11394/11394 [==============================] - 8s 733us/step - loss: 0.4136 - accuracy: 0.8598 - val_loss: 0.4747 - val_accuracy: 0.8594\n",
      "Epoch 3/5\n",
      "11394/11394 [==============================] - 7s 602us/step - loss: 0.2818 - accuracy: 0.9086 - val_loss: 0.4556 - val_accuracy: 0.8476\n",
      "Epoch 4/5\n",
      "11394/11394 [==============================] - 11s 924us/step - loss: 0.2581 - accuracy: 0.9133 - val_loss: 0.3250 - val_accuracy: 0.9005\n",
      "Epoch 5/5\n",
      "11394/11394 [==============================] - 9s 791us/step - loss: 0.2002 - accuracy: 0.9372 - val_loss: 0.1721 - val_accuracy: 0.9376\n",
      "1266/1266 [==============================] - 0s 178us/step\n",
      "Train on 11394 samples, validate on 1266 samples\n",
      "Epoch 1/5\n",
      "11394/11394 [==============================] - 11s 932us/step - loss: 0.9081 - accuracy: 0.7114 - val_loss: 0.4360 - val_accuracy: 0.8341\n",
      "Epoch 2/5\n",
      "11394/11394 [==============================] - 9s 790us/step - loss: 0.3988 - accuracy: 0.8662 - val_loss: 0.2992 - val_accuracy: 0.9139\n",
      "Epoch 3/5\n",
      "11394/11394 [==============================] - 9s 804us/step - loss: 0.2793 - accuracy: 0.9069 - val_loss: 0.2829 - val_accuracy: 0.9155\n",
      "Epoch 4/5\n",
      "11394/11394 [==============================] - 9s 790us/step - loss: 0.2194 - accuracy: 0.9316 - val_loss: 0.2549 - val_accuracy: 0.9313\n",
      "Epoch 5/5\n",
      "11394/11394 [==============================] - 9s 808us/step - loss: 0.2107 - accuracy: 0.9314 - val_loss: 0.2045 - val_accuracy: 0.9313\n",
      "1266/1266 [==============================] - 0s 179us/step\n",
      "Train on 11394 samples, validate on 1266 samples\n",
      "Epoch 1/5\n",
      "11394/11394 [==============================] - 8s 726us/step - loss: 0.8788 - accuracy: 0.7253 - val_loss: 0.6114 - val_accuracy: 0.7820\n",
      "Epoch 2/5\n",
      "11394/11394 [==============================] - 8s 712us/step - loss: 0.4044 - accuracy: 0.8644 - val_loss: 0.3422 - val_accuracy: 0.8633\n",
      "Epoch 3/5\n",
      "11394/11394 [==============================] - 10s 847us/step - loss: 0.3085 - accuracy: 0.8980 - val_loss: 0.2247 - val_accuracy: 0.9384\n",
      "Epoch 4/5\n",
      "11394/11394 [==============================] - 9s 827us/step - loss: 0.2396 - accuracy: 0.9221 - val_loss: 0.2369 - val_accuracy: 0.9360\n"
     ]
    },
    {
     "name": "stdout",
     "output_type": "stream",
     "text": [
      "Epoch 5/5\n",
      "11394/11394 [==============================] - 9s 752us/step - loss: 0.1762 - accuracy: 0.9413 - val_loss: 0.2466 - val_accuracy: 0.9273\n",
      "1266/1266 [==============================] - 0s 184us/step\n"
     ]
    }
   ],
   "source": [
    "# https://stackoverflow.com/questions/48508036/sklearn-stratifiedkfold-valueerror-supported-target-types-are-binary-mul\n",
    "for i, (train_index, test_index) in enumerate(skf.split(x_train, y_train.argmax(1))):\n",
    "    x_train_kf, x_test_kf = x_train[train_index], x_train[test_index]\n",
    "    y_train_kf, y_test_kf = y_train[train_index], y_train[test_index]\n",
    "    ScoreArray.append(get_score(construct_new_model(), x_train_kf, x_test_kf, y_train_kf, y_test_kf))\n"
   ]
  },
  {
   "cell_type": "code",
   "execution_count": 29,
   "metadata": {},
   "outputs": [
    {
     "data": {
      "text/plain": [
       "array([[0.85150081],\n",
       "       [0.89178514],\n",
       "       [0.86650866],\n",
       "       [0.89099526],\n",
       "       [0.94865721],\n",
       "       [0.97077411],\n",
       "       [0.92890996],\n",
       "       [0.93759876],\n",
       "       [0.9312796 ],\n",
       "       [0.9273302 ]])"
      ]
     },
     "execution_count": 29,
     "metadata": {},
     "output_type": "execute_result"
    }
   ],
   "source": [
    "ScoreArray = np.array(ScoreArray)\n",
    "ScoreArray[:,1:2]"
   ]
  },
  {
   "cell_type": "code",
   "execution_count": 30,
   "metadata": {},
   "outputs": [
    {
     "name": "stdout",
     "output_type": "stream",
     "text": [
      "0.9145339727401733\n"
     ]
    }
   ],
   "source": [
    "# Average accuracy across the 10 folds\n",
    "print(np.mean(ScoreArray[:,1:2]))"
   ]
  },
  {
   "cell_type": "markdown",
   "metadata": {},
   "source": [
    "# Moving 4000 images from training to test set"
   ]
  },
  {
   "cell_type": "code",
   "execution_count": 31,
   "metadata": {},
   "outputs": [
    {
     "name": "stdout",
     "output_type": "stream",
     "text": [
      "(12660, 784)\n",
      "(12660, 10)\n",
      "(4170, 784)\n",
      "(4170, 10)\n"
     ]
    }
   ],
   "source": [
    "# Check data has been imported correctly \n",
    "print(x_train.shape)\n",
    "print(y_train.shape)\n",
    "print(x_test.shape)\n",
    "print(y_test.shape)"
   ]
  },
  {
   "cell_type": "code",
   "execution_count": 32,
   "metadata": {},
   "outputs": [],
   "source": [
    "x_train_new = x_train[0:8660,:]\n",
    "y_train_new = y_train[0:8660,:]\n",
    "\n",
    "x_temp = x_train[8660:12660,:]\n",
    "y_temp = y_train[8660:12660,:]\n",
    "\n",
    "x_test_new = np.concatenate((x_test, x_temp))\n",
    "y_test_new = np.concatenate((y_test, y_temp))\n",
    "\n",
    "\n",
    "\n"
   ]
  },
  {
   "cell_type": "code",
   "execution_count": 46,
   "metadata": {},
   "outputs": [
    {
     "name": "stdout",
     "output_type": "stream",
     "text": [
      "Train on 6660 samples, validate on 10170 samples\n",
      "Epoch 1/20\n",
      "6660/6660 [==============================] - 6s 912us/step - loss: 1.0721 - accuracy: 0.6640 - val_loss: 0.6903 - val_accuracy: 0.7712\n",
      "Epoch 2/20\n",
      "6660/6660 [==============================] - 6s 907us/step - loss: 0.5425 - accuracy: 0.8221 - val_loss: 0.4688 - val_accuracy: 0.8399\n",
      "Epoch 3/20\n",
      "6660/6660 [==============================] - 4s 623us/step - loss: 0.3777 - accuracy: 0.8700 - val_loss: 0.3599 - val_accuracy: 0.8858\n",
      "Epoch 4/20\n",
      "6660/6660 [==============================] - 6s 913us/step - loss: 0.3078 - accuracy: 0.8998 - val_loss: 0.6914 - val_accuracy: 0.8347\n",
      "Epoch 5/20\n",
      "6660/6660 [==============================] - 7s 977us/step - loss: 0.3013 - accuracy: 0.8983 - val_loss: 0.4382 - val_accuracy: 0.8848\n",
      "Epoch 6/20\n",
      "6660/6660 [==============================] - 8s 1ms/step - loss: 0.2377 - accuracy: 0.9242 - val_loss: 0.3291 - val_accuracy: 0.9167\n",
      "Epoch 7/20\n",
      "6660/6660 [==============================] - 8s 1ms/step - loss: 0.1825 - accuracy: 0.9429 - val_loss: 0.3492 - val_accuracy: 0.8980\n",
      "Epoch 8/20\n",
      "6660/6660 [==============================] - 8s 1ms/step - loss: 0.1965 - accuracy: 0.9366 - val_loss: 0.3079 - val_accuracy: 0.9188\n",
      "Epoch 9/20\n",
      "6660/6660 [==============================] - 8s 1ms/step - loss: 0.1603 - accuracy: 0.9511 - val_loss: 0.3125 - val_accuracy: 0.9151\n",
      "Epoch 10/20\n",
      "6660/6660 [==============================] - 8s 1ms/step - loss: 0.1394 - accuracy: 0.9523 - val_loss: 0.3563 - val_accuracy: 0.9033\n",
      "Epoch 11/20\n",
      "6660/6660 [==============================] - 8s 1ms/step - loss: 0.1785 - accuracy: 0.9413 - val_loss: 0.3615 - val_accuracy: 0.9021\n",
      "Epoch 12/20\n",
      "6660/6660 [==============================] - 8s 1ms/step - loss: 0.1011 - accuracy: 0.9673 - val_loss: 0.3152 - val_accuracy: 0.9157\n",
      "Epoch 13/20\n",
      "6660/6660 [==============================] - 8s 1ms/step - loss: 0.1251 - accuracy: 0.9569 - val_loss: 0.3780 - val_accuracy: 0.8931\n",
      "Epoch 14/20\n",
      "6660/6660 [==============================] - 8s 1ms/step - loss: 0.1104 - accuracy: 0.9680 - val_loss: 0.2947 - val_accuracy: 0.9266\n",
      "Epoch 15/20\n",
      "6660/6660 [==============================] - 8s 1ms/step - loss: 0.1021 - accuracy: 0.9671 - val_loss: 0.3074 - val_accuracy: 0.9209\n",
      "Epoch 16/20\n",
      "6660/6660 [==============================] - 8s 1ms/step - loss: 0.1269 - accuracy: 0.9571 - val_loss: 0.2234 - val_accuracy: 0.9392\n",
      "Epoch 17/20\n",
      "6660/6660 [==============================] - 8s 1ms/step - loss: 0.1088 - accuracy: 0.9662 - val_loss: 0.2588 - val_accuracy: 0.9375\n",
      "Epoch 18/20\n",
      "6660/6660 [==============================] - 8s 1ms/step - loss: 0.0761 - accuracy: 0.9755 - val_loss: 0.2595 - val_accuracy: 0.9406\n",
      "Epoch 19/20\n",
      "6660/6660 [==============================] - 8s 1ms/step - loss: 0.1023 - accuracy: 0.9674 - val_loss: 0.3654 - val_accuracy: 0.8999\n",
      "Epoch 20/20\n",
      "6660/6660 [==============================] - 8s 1ms/step - loss: 0.0685 - accuracy: 0.9787 - val_loss: 0.2800 - val_accuracy: 0.9384\n"
     ]
    }
   ],
   "source": [
    "test = get_network_output(construct_new_model(), x_train_new, x_test_new, y_train_new, y_test_new)"
   ]
  },
  {
   "cell_type": "code",
   "execution_count": 48,
   "metadata": {},
   "outputs": [
    {
     "data": {
      "text/plain": [
       "[<matplotlib.lines.Line2D at 0x7f093c242750>]"
      ]
     },
     "execution_count": 48,
     "metadata": {},
     "output_type": "execute_result"
    },
    {
     "data": {
      "image/png": "[encoded data removed]",
      "text/plain": [
       "<Figure size 432x288 with 1 Axes>"
      ]
     },
     "metadata": {
      "needs_background": "light"
     },
     "output_type": "display_data"
    }
   ],
   "source": [
    "plt.plot(test.history['accuracy'])\n",
    "plt.plot(test.history['val_accuracy'])"
   ]
  },
  {
   "cell_type": "markdown",
   "metadata": {},
   "source": [
    "# Moving 9000 images from training to test set\n"
   ]
  },
  {
   "cell_type": "code",
   "execution_count": 49,
   "metadata": {},
   "outputs": [],
   "source": [
    "x_train_new = x_train[0:6660,:]\n",
    "y_train_new = y_train[0:6660,:]\n",
    "\n",
    "x_temp = x_train[6660:12660,:]\n",
    "y_temp = y_train[6660:12660,:]\n",
    "\n",
    "x_test_new = np.concatenate((x_test, x_temp))\n",
    "y_test_new = np.concatenate((y_test, y_temp))"
   ]
  },
  {
   "cell_type": "code",
   "execution_count": 50,
   "metadata": {},
   "outputs": [
    {
     "name": "stdout",
     "output_type": "stream",
     "text": [
      "Train on 6660 samples, validate on 10170 samples\n",
      "Epoch 1/20\n",
      "6660/6660 [==============================] - 8s 1ms/step - loss: 1.1158 - accuracy: 0.6422 - val_loss: 0.6459 - val_accuracy: 0.7904\n",
      "Epoch 2/20\n",
      "6660/6660 [==============================] - 7s 1ms/step - loss: 0.5324 - accuracy: 0.8191 - val_loss: 0.5361 - val_accuracy: 0.8352\n",
      "Epoch 3/20\n",
      "6660/6660 [==============================] - 7s 1ms/step - loss: 0.3750 - accuracy: 0.8731 - val_loss: 0.5299 - val_accuracy: 0.8222\n",
      "Epoch 4/20\n",
      "6660/6660 [==============================] - 8s 1ms/step - loss: 0.3309 - accuracy: 0.8893 - val_loss: 0.3483 - val_accuracy: 0.8962\n",
      "Epoch 5/20\n",
      "6660/6660 [==============================] - 8s 1ms/step - loss: 0.2914 - accuracy: 0.9020 - val_loss: 0.3284 - val_accuracy: 0.8947\n",
      "Epoch 6/20\n",
      "6660/6660 [==============================] - 7s 1ms/step - loss: 0.2405 - accuracy: 0.9189 - val_loss: 0.3849 - val_accuracy: 0.8636\n",
      "Epoch 7/20\n",
      "6660/6660 [==============================] - 7s 1ms/step - loss: 0.1729 - accuracy: 0.9378 - val_loss: 0.3542 - val_accuracy: 0.9030\n",
      "Epoch 8/20\n",
      "6660/6660 [==============================] - 8s 1ms/step - loss: 0.1679 - accuracy: 0.9486 - val_loss: 0.3447 - val_accuracy: 0.8980\n",
      "Epoch 9/20\n",
      "6660/6660 [==============================] - 8s 1ms/step - loss: 0.1568 - accuracy: 0.9473 - val_loss: 0.2745 - val_accuracy: 0.9261\n",
      "Epoch 10/20\n",
      "6660/6660 [==============================] - 8s 1ms/step - loss: 0.1514 - accuracy: 0.9512 - val_loss: 0.3882 - val_accuracy: 0.8962\n",
      "Epoch 11/20\n",
      "6660/6660 [==============================] - 8s 1ms/step - loss: 0.1572 - accuracy: 0.9485 - val_loss: 0.6886 - val_accuracy: 0.8408\n",
      "Epoch 12/20\n",
      "6660/6660 [==============================] - 8s 1ms/step - loss: 0.1426 - accuracy: 0.9574 - val_loss: 0.4805 - val_accuracy: 0.8938\n",
      "Epoch 13/20\n",
      "6660/6660 [==============================] - 6s 870us/step - loss: 0.1058 - accuracy: 0.9646 - val_loss: 0.3045 - val_accuracy: 0.9307\n",
      "Epoch 14/20\n",
      "6660/6660 [==============================] - 7s 978us/step - loss: 0.1397 - accuracy: 0.9535 - val_loss: 0.3142 - val_accuracy: 0.9281\n",
      "Epoch 15/20\n",
      "6660/6660 [==============================] - 7s 977us/step - loss: 0.1052 - accuracy: 0.9664 - val_loss: 0.2216 - val_accuracy: 0.9444\n",
      "Epoch 16/20\n",
      "6660/6660 [==============================] - 6s 947us/step - loss: 0.0999 - accuracy: 0.9673 - val_loss: 0.2812 - val_accuracy: 0.9386\n",
      "Epoch 17/20\n",
      "6660/6660 [==============================] - 6s 889us/step - loss: 0.1347 - accuracy: 0.9581 - val_loss: 0.3567 - val_accuracy: 0.8998\n",
      "Epoch 18/20\n",
      "6660/6660 [==============================] - 5s 699us/step - loss: 0.0814 - accuracy: 0.9739 - val_loss: 0.2514 - val_accuracy: 0.9427\n",
      "Epoch 19/20\n",
      "6660/6660 [==============================] - 5s 701us/step - loss: 0.0981 - accuracy: 0.9653 - val_loss: 0.5839 - val_accuracy: 0.8702\n",
      "Epoch 20/20\n",
      "6660/6660 [==============================] - 5s 693us/step - loss: 0.0915 - accuracy: 0.9704 - val_loss: 0.2527 - val_accuracy: 0.9439\n"
     ]
    }
   ],
   "source": [
    "test2 = get_network_output(construct_new_model(), x_train_new, x_test_new, y_train_new, y_test_new)"
   ]
  },
  {
   "cell_type": "code",
   "execution_count": 51,
   "metadata": {},
   "outputs": [
    {
     "data": {
      "text/plain": [
       "[<matplotlib.lines.Line2D at 0x7f08ecbb7490>]"
      ]
     },
     "execution_count": 51,
     "metadata": {},
     "output_type": "execute_result"
    },
    {
     "data": {
      "image/png": "[encoded data removed]",
      "text/plain": [
       "<Figure size 432x288 with 1 Axes>"
      ]
     },
     "metadata": {
      "needs_background": "light"
     },
     "output_type": "display_data"
    }
   ],
   "source": [
    "plt.plot(test2.history['accuracy'])\n",
    "plt.plot(test2.history['val_accuracy'])"
   ]
  },
  {
   "cell_type": "markdown",
   "metadata": {},
   "source": [
    "# Experiments"
   ]
  },
  {
   "cell_type": "code",
   "execution_count": 52,
   "metadata": {},
   "outputs": [],
   "source": [
    "# def construct_new_model(i, j, k):\n",
    "#     model = Sequential()\n",
    "#     # Dense Adds fully connected nodes in each layer \n",
    "\n",
    "#     # Input layer is the number of pixels & their values \n",
    "\n",
    "#     # Layer 1\n",
    "#     model.add(Dense(i, activation = 'relu',input_shape=(784,)))\n",
    "\n",
    "#     # Layer 2\n",
    "#     model.add(Dense(i, activation = 'relu'))\n",
    "    \n",
    "#     #Output Layer\n",
    "#     model.add(Dense(10, activation = 'softmax'))\n",
    "    \n",
    "#     model.compile(optimizer='adam', loss='categorical_crossentropy', metrics = ['accuracy'])\n",
    "    \n",
    "#     return model"
   ]
  },
  {
   "cell_type": "code",
   "execution_count": 53,
   "metadata": {},
   "outputs": [],
   "source": [
    "# X = []\n",
    "# Y = []\n",
    "# for i in range(250, 2500, 250):\n",
    "#     Y.append(i)\n",
    "#     j = 0.1\n",
    "#     k = 0.9\n",
    "#     temp_model = get_network_output(construct_new_model(i,j,k), x_train, x_test, y_train, y_test)\n",
    "#     X.append(temp_model)\n"
   ]
  },
  {
   "cell_type": "code",
   "execution_count": 54,
   "metadata": {},
   "outputs": [],
   "source": [
    "#X[0].history['accuracy']"
   ]
  },
  {
   "cell_type": "code",
   "execution_count": null,
   "metadata": {},
   "outputs": [],
   "source": []
  },
  {
   "cell_type": "code",
   "execution_count": 41,
   "metadata": {},
   "outputs": [],
   "source": [
    "# def build_model():\n",
    "#   # Specifying a sequential modle \n",
    "#     model = Sequential()\n",
    "    \n",
    "#     # Dense Adds fully connected nodes in each layer \n",
    "#     # Input layer is the number of pixels & their values \n",
    "#     # Layer 1\n",
    "#     model.add(Dense(512, activation = 'relu',input_shape=(784,)))\n",
    "\n",
    "#     # Layer 2\n",
    "#     model.add(Dense(512, activation = 'relu'))\n",
    "    \n",
    "#     # Output Layer\n",
    "#     model.add(Dense(10, activation = 'softmax'))\n",
    "    \n",
    "#     model.compile(optimizer='adam', loss='categorical_crossentropy', metrics = ['accuracy'])\n",
    "    \n",
    "#     return model\n",
    "\n",
    "# keras_model2 = build_model()\n",
    "# keras_model2.fit(x_train, y_train, epochs=10, batch_size=100, verbose=1)"
   ]
  },
  {
   "cell_type": "code",
   "execution_count": 42,
   "metadata": {},
   "outputs": [],
   "source": [
    "# y_score = keras_model2.predict(x_test)"
   ]
  },
  {
   "cell_type": "code",
   "execution_count": 43,
   "metadata": {},
   "outputs": [],
   "source": [
    "# y_test.shape"
   ]
  },
  {
   "cell_type": "code",
   "execution_count": null,
   "metadata": {},
   "outputs": [],
   "source": []
  },
  {
   "cell_type": "code",
   "execution_count": 44,
   "metadata": {},
   "outputs": [],
   "source": [
    "# plotROC(y_test, y_score)"
   ]
  },
  {
   "cell_type": "code",
   "execution_count": null,
   "metadata": {},
   "outputs": [],
   "source": []
  }
 ],
 "metadata": {
  "kernelspec": {
   "display_name": "Python 3",
   "language": "python",
   "name": "python3"
  },
  "language_info": {
   "codemirror_mode": {
    "name": "ipython",
    "version": 3
   },
   "file_extension": ".py",
   "mimetype": "text/x-python",
   "name": "python",
   "nbconvert_exporter": "python",
   "pygments_lexer": "ipython3",
   "version": "3.7.4"
  }
 },
 "nbformat": 4,
 "nbformat_minor": 2
}
